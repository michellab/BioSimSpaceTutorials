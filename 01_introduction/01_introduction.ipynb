{
 "cells": [
  {
   "cell_type": "markdown",
   "id": "ancient-ridge",
   "metadata": {},
   "source": [
    "Author: Lester Hedges<br>\n",
    "Email:&nbsp;&nbsp; lester.hedges@bristol.ac.uk\n",
    "\n",
    "# BioSimSpace\n",
    "\n",
    "## Introduction\n",
    "\n",
    "Welcome to this workshop on [BioSimSpace](https://biosimspace.org), an _interoperable_ Python framework for biomolecular simulation. In this introductory session you will learn:\n",
    "\n",
    "* What are the key concepts behind BioSimSpace.\n",
    "* How to set up molecular systems ready for simulation.\n",
    "* How to configure and run a range of molecular dynamics protocols using different simulation engines.\n",
    "* How to write interoperable worflow components and run them in a variety of ways.\n",
    "\n",
    "## What is BioSimSpace?\n",
    "\n",
    "As a computational chemist you are likely overwhelmed by the amount of different software packages that are available to you. Having choice is a good thing, but too much can become a burden. I'm sure you have all come across at least one of the following:\n",
    "\n",
    "* I know how to solve the problem with package X but I want to use package Y.\n",
    "* How can I share my script with a collaborator who doesn't use the same software stack?\n",
    "* How can I take advantage of the best tool for the job for different parts of my workflow?\n",
    "* How can I compare methodology / results between simulation engines?\n",
    "\n",
    "Solving these problems is the core goal of BioSimSpace. The wealth of fantastic software in our community is a real asset but _interoperability_ is currently a problem. Since there is no point reinventing the wheel, BioSimSpace is not an attempt to produce yet another molecular simulation package that reproduces all of the functionality from existing programs. This would result in just another tool for you to learn, along with yet another set of standards and formats. Instead, BioSimSpace is essentially just a set of _shims_, or bits of _glue_, that connect together existing software packages, allowing you to interact with them using a consistent Python interface.\n",
    "\n",
    "## Why BioSimSpace?\n",
    "\n",
    "By using BioSimSpace you will be less reliant on the use of brittle scripts to connect different software packages together. BioSimSpace builds on top of existing and open Python tools within the biomolecular community, e.g. [RDKit](https://www.rdkit.org/), [OpenMM](http://openmm.org/), [Open Force Field](https://github.com/openforcefield/openff-toolkit). As such, you are able to leverage the power of other packages, with which you may already be familiar, and to mix-and-match functionality where required.\n",
    "\n",
    "With BioSimSpace you will be able to:\n",
    "\n",
    "* Write generic workflow components _once_ in a package-agnostic language.\n",
    "* Run the same script from the command-line, Jupyter, or within a workflow engine.\n",
    "* Use the most suitable package that is availabe on your computer.\n",
    "* Continue using your favourite package X but be able to share scripts with your collaborator who prefers package Y.\n",
    "* Be able to take advantage of new software packages and hardware resources as and when they become available.\n",
    "\n",
    "## What can BioSimSpace do?\n",
    "\n",
    "BioSimSpace provides a suite of packages with a range of different functionality.\n",
    "\n",
    "At present:\n",
    "\n",
    "* File conversion: [BioSimSpace.IO](https://biosimspace.org/api/index_IO.html)\n",
    "* Parameterisation: [BioSimSpace.Parameters](https://biosimspace.org/api/index_Parameters.html)\n",
    "* Solvation: [BioSimSpace.Solvent](https://biosimspace.org/api/index_Solvent.html)\n",
    "* Molecular dynamics: [BioSimSpace.Protocol](https://biosimspace.org/api/index_Protocol.html), [BioSimSpace.Process](https://biosimspace.org/api/index_Process.html), [BioSimSpace.MD](https://biosimspace.org/api/index_MD.html)\n",
    "* Free-energy perturbation: [BioSimSpace.Align](https://biosimspace.org/api/index_Align.html), [BioSimSpace.FreeEnergy](https://biosimspace.org/api/index_FreeEnergy.html)\n",
    "* Metadynamics: [BioSimSpace.Metadynamics](https://biosimspace.org/api/index_Metadynamics.html)\n",
    "* Trajectory handling: [BioSimSpace.Trajectory](https://biosimspace.org/api/index_Trajectory.html)\n",
    "* Interactive visualisation: [BioSimSpace.Notebook](https://biosimspace.org/api/index_Notebook.html)\n",
    "* Workflow components: [BioSimSpace.Gateway](https://biosimspace.org/api/index_Gateway.html)\n",
    "\n",
    "## Key concepts\n",
    "\n",
    "Before getting started it's worth spending a little time covering a few of the key concepts of BioSimSpace.\n",
    "\n",
    "\n",
    "### File conversion\n",
    "\n",
    "While, broadly speaking, the different molecular dynamics engines offer a similar range of features, their interfaces are quite different. This makes it hard to take expertise in one package and immediately apply it to another. At the heart of this problem is the incompatibility between the molecular file formats used by the different packages. While they all contain the same information, i.e. how atoms are laid out in space and how they interact with each other, the structure of the files is very different. In order to provide interoperability betwen packages we will need to be able to read and write many different file formats, and be able to interconvert between them too.\n",
    "\n",
    "Let's import the BioSimSpace Python package and see what we can do. For convenience, we'll rename the package to BSS to save us typing:"
   ]
  },
  {
   "cell_type": "code",
   "execution_count": null,
   "id": "afraid-poster",
   "metadata": {},
   "outputs": [],
   "source": [
    "import BioSimSpace as BSS"
   ]
  },
  {
   "cell_type": "markdown",
   "id": "duplicate-internet",
   "metadata": {},
   "source": [
    "To see what file formats are supported by BioSimSpace, execute the cell below."
   ]
  },
  {
   "cell_type": "code",
   "execution_count": null,
   "id": "afraid-constitutional",
   "metadata": {},
   "outputs": [],
   "source": [
    "BSS.IO.fileFormats()"
   ]
  },
  {
   "cell_type": "markdown",
   "id": "respected-oasis",
   "metadata": {},
   "source": [
    "Note that these refer to specific file _formats_, rather than file _extensions_. BioSimSpace doesn't care about file extensions, it's the _contents_ of the file that's important. \n",
    "\n",
    "If you aren't familiar with a particular format, you can get more information as follows, e.g.:"
   ]
  },
  {
   "cell_type": "code",
   "execution_count": null,
   "id": "altered-township",
   "metadata": {},
   "outputs": [],
   "source": [
    "BSS.IO.formatInfo(\"GroTop\")"
   ]
  },
  {
   "cell_type": "markdown",
   "id": "stable-prisoner",
   "metadata": {},
   "source": [
    "The `BSS.IO.readMolecules` function is used to read molecular information from file. We've provided some example input files for you in the `inputs` directory. Let's take a look at some of these."
   ]
  },
  {
   "cell_type": "code",
   "execution_count": null,
   "id": "harmful-trailer",
   "metadata": {},
   "outputs": [],
   "source": [
    "!ls inputs"
   ]
  },
  {
   "cell_type": "markdown",
   "id": "respected-librarian",
   "metadata": {},
   "source": [
    "The `ala.crd` and `ala.top` files define a solvated alanine dipeptide system in AMBER format. Execute the cell below to see part of the topology file:"
   ]
  },
  {
   "cell_type": "code",
   "execution_count": null,
   "id": "corresponding-endorsement",
   "metadata": {},
   "outputs": [],
   "source": [
    "!head -n 20 inputs/ala.top"
   ]
  },
  {
   "cell_type": "markdown",
   "id": "systematic-albert",
   "metadata": {},
   "source": [
    "Let's now read the molecules from file. The `BSS.IO.readMolecules` function automatically [globs](https://en.wikipedia.org/wiki/Glob_(programming)) the passed string, so wildcard matching can be used to determine the files. (Here the asterisk matches any characters, i.e. we are reading _all_ files in the `inputs` directory with `ala` as the file prefix.)"
   ]
  },
  {
   "cell_type": "code",
   "execution_count": null,
   "id": "dependent-stations",
   "metadata": {},
   "outputs": [],
   "source": [
    "system = BSS.IO.readMolecules(\"inputs/ala.*\")"
   ]
  },
  {
   "cell_type": "markdown",
   "id": "fiscal-disclaimer",
   "metadata": {},
   "source": [
    "N.B. We could have explictly specified each file using a list of strings.\n",
    "\n",
    "Note that we don't have to specify anything about the file format. BioSimSpace actually reads the files with _all_ of its inbuilt parsers in parallel. If a parser fails to read the file then it is immediately rejected and we move on to the next. As long as all of the files that are read contain a consistent topology, then BioSimSpace will be able to read them.\n",
    "\n",
    "To see what file formats are associated with the system, run:"
   ]
  },
  {
   "cell_type": "code",
   "execution_count": null,
   "id": "false-distributor",
   "metadata": {},
   "outputs": [],
   "source": [
    "system.fileFormat()"
   ]
  },
  {
   "cell_type": "markdown",
   "id": "bacterial-confusion",
   "metadata": {},
   "source": [
    "As expected, BioSimpace has detected that these were AMBER format topology and coordinate files.\n",
    "\n",
    "The molecules are now loaded into a `System` object. BioSimSpace objects are thin wrappers around the equivalent objects from [Sire](https://github.com/michellab/Sire). For those that are familiar with Sire, you can get always access the underlying object directly using `system._sire_object`. This _private_ member is hidden from the user. Sire provides an extremely powerful and flexible set of tools for molecular manipulation and editing. While BioSimSpace directly exposes only a small subset of this functionality to the user, the full power of Sire is always easily available when needed.\n",
    "\n",
    "We can query how many molecules there are as follows:"
   ]
  },
  {
   "cell_type": "code",
   "execution_count": null,
   "id": "divided-identity",
   "metadata": {},
   "outputs": [],
   "source": [
    "system.nMolecules()"
   ]
  },
  {
   "cell_type": "markdown",
   "id": "arabic-basketball",
   "metadata": {},
   "source": [
    "To see how many water molecules there are:"
   ]
  },
  {
   "cell_type": "code",
   "execution_count": null,
   "id": "informative-strand",
   "metadata": {},
   "outputs": [],
   "source": [
    "system.nWaterMolecules()"
   ]
  },
  {
   "cell_type": "markdown",
   "id": "fitting-appraisal",
   "metadata": {},
   "source": [
    "To search for all nitrogen atoms in residues named `ALA`:"
   ]
  },
  {
   "cell_type": "code",
   "execution_count": null,
   "id": "horizontal-indiana",
   "metadata": {},
   "outputs": [],
   "source": [
    "system.search(\"element N and resname ALA\")"
   ]
  },
  {
   "cell_type": "markdown",
   "id": "precious-episode",
   "metadata": {},
   "source": [
    "Create a new system using from the first 10 and last molecule in the system:"
   ]
  },
  {
   "cell_type": "code",
   "execution_count": null,
   "id": "prospective-photography",
   "metadata": {},
   "outputs": [],
   "source": [
    "new_system = (system[:10] + system[-1]).toSystem()"
   ]
  },
  {
   "cell_type": "markdown",
   "id": "ceramic-tuner",
   "metadata": {},
   "source": [
    "N.B. Information from the topology file pertaining to the molecular force field are stored internally as computer algebra expressions, allowing us to mathematically interconvert between different representations of the terms when writing to a different format. If desired, you could even edit the system to create your own unique force field parameters, although this beyond the scope of this tutorial.\n",
    "\n",
    "Now that we have a molecular system, let's write it back to disk in a different format. Unsurprisingly, this is done using the `BSS.IO.saveMolecules` function. Execute the cell below to write the system to GROMACS format coordinate and topology files."
   ]
  },
  {
   "cell_type": "code",
   "execution_count": null,
   "id": "caroline-control",
   "metadata": {},
   "outputs": [],
   "source": [
    "BSS.IO.saveMolecules(\"ala\", system, [\"Gro87\", \"GroTop\"])"
   ]
  },
  {
   "cell_type": "markdown",
   "id": "breathing-campbell",
   "metadata": {},
   "source": [
    "Run the cell below to examine the start of the GROMACS topology file."
   ]
  },
  {
   "cell_type": "code",
   "execution_count": null,
   "id": "comfortable-letters",
   "metadata": {},
   "outputs": [],
   "source": [
    "!head -n 20 ala.top"
   ]
  },
  {
   "cell_type": "markdown",
   "id": "exciting-array",
   "metadata": {},
   "source": [
    "### Topology preservation\n",
    "\n",
    "One of the other pitfalls of working with different molecular simulation engines is that they often have quirks regarding naming conventions and atom ordering. This means that what you get back from a given program might not be the same as what you put in, making it tricky to cross-reference parts of the system that are of specific interest.\n",
    "\n",
    "N.B. Differerent naming conventions are one of the hardest problems with interoperability.\n",
    "\n",
    "BioSimSpace tries to preserve the intial molecular topology during any interaction with external tools so that it can be used as a consistent reference. For example, while we might need to rename the water topology to match the conventions of a particular molecular dynamics engine, we always copy the updated coordinates from a simulation back into the original system so that the naming that the user gets back is unchanged.\n",
    "\n",
    "Another common topology feature that can be lost is chain identifiers. For example, a [Protein Data Bank](https://www.rcsb.org/) file might contain labels for chains, but these would be lost during parameterisation with the [AmberTools](https://ambermd.org/AmberTools.php) suite since it has no internal concept of chains.\n",
    "\n",
    "As an example, consider the following PDB file:"
   ]
  },
  {
   "cell_type": "code",
   "execution_count": null,
   "id": "vertical-plant",
   "metadata": {},
   "outputs": [],
   "source": [
    "system_pdb = BSS.IO.readMolecules(\"inputs/1jr5.pdb\")"
   ]
  },
  {
   "cell_type": "markdown",
   "id": "sixth-hospital",
   "metadata": {},
   "source": [
    "This is read as a single molecule containing two chains:"
   ]
  },
  {
   "cell_type": "code",
   "execution_count": null,
   "id": "published-dubai",
   "metadata": {},
   "outputs": [],
   "source": [
    "print(f\"mols = {system_pdb.nMolecules()}, chains = {system_pdb.nChains()}\")"
   ]
  },
  {
   "cell_type": "markdown",
   "id": "colonial-station",
   "metadata": {},
   "source": [
    "The molecule in the system has a topology but no force field information, as we can see by querying the _properties_ of the underlying Sire object:"
   ]
  },
  {
   "cell_type": "code",
   "execution_count": null,
   "id": "instant-investigation",
   "metadata": {},
   "outputs": [],
   "source": [
    "system_pdb[0]._sire_object.propertyKeys()"
   ]
  },
  {
   "cell_type": "markdown",
   "id": "young-klein",
   "metadata": {},
   "source": [
    "After parameterising the molecule with an AMBER protein force field, we end up with the following system:"
   ]
  },
  {
   "cell_type": "code",
   "execution_count": null,
   "id": "developed-shore",
   "metadata": {},
   "outputs": [],
   "source": [
    "system_amber = BSS.IO.readMolecules([\"inputs/1jr5.crd\", \"inputs/1jr5.top\"])"
   ]
  },
  {
   "cell_type": "markdown",
   "id": "owned-emerald",
   "metadata": {},
   "source": [
    "In contrast, this is read as a two molecules with zero chains:"
   ]
  },
  {
   "cell_type": "code",
   "execution_count": null,
   "id": "demonstrated-break",
   "metadata": {},
   "outputs": [],
   "source": [
    "print(f\"mols = {system_amber.nMolecules()}, chains = {system_amber.nChains()}\")"
   ]
  },
  {
   "cell_type": "markdown",
   "id": "western-ratio",
   "metadata": {},
   "source": [
    "Molecules in the parameterised system contain a different set of properties, including those pertaining to the force field."
   ]
  },
  {
   "cell_type": "code",
   "execution_count": null,
   "id": "clear-posting",
   "metadata": {},
   "outputs": [],
   "source": [
    "system_amber[0]._sire_object.propertyKeys()"
   ]
  },
  {
   "cell_type": "markdown",
   "id": "surprised-freeze",
   "metadata": {},
   "source": [
    "If we want to preserve the topology of the original molecule, yet add the updated properties from the molecules in the new system, then we can make it _compatible_. BioSimSpace provides functionality to do this for you:"
   ]
  },
  {
   "cell_type": "code",
   "execution_count": null,
   "id": "provincial-woman",
   "metadata": {},
   "outputs": [],
   "source": [
    "# Extract the original molecule.\n",
    "new_mol = system_pdb[0]\n",
    "\n",
    "# Make it compatible with the new system, i.e. add new properties while\n",
    "# preserving the topology.\n",
    "new_mol.makeCompatibleWith(system_amber)"
   ]
  },
  {
   "cell_type": "markdown",
   "id": "nominated-replica",
   "metadata": {},
   "source": [
    "N.B. This is done implicitly whenever calling any BioSimSpace parameterisation function.\n",
    "\n",
    "Let's now check the number of chains in the new molecule, as well as the properties that are associated with it."
   ]
  },
  {
   "cell_type": "code",
   "execution_count": null,
   "id": "liquid-skirt",
   "metadata": {},
   "outputs": [],
   "source": [
    "print(f\"chains = {new_mol.nChains()}\")\n",
    "new_mol._sire_object.propertyKeys()"
   ]
  }
 ],
 "metadata": {
  "kernelspec": {
   "display_name": "Python 3",
   "language": "python",
   "name": "python3"
  },
  "language_info": {
   "codemirror_mode": {
    "name": "ipython",
    "version": 3
   },
   "file_extension": ".py",
   "mimetype": "text/x-python",
   "name": "python",
   "nbconvert_exporter": "python",
   "pygments_lexer": "ipython3"
  }
 },
 "nbformat": 4,
 "nbformat_minor": 5
}
