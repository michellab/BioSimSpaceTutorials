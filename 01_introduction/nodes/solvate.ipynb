{
 "cells": [
  {
   "cell_type": "markdown",
   "metadata": {},
   "source": [
    "Author: Lester Hedges<br>\n",
    "Email:&nbsp;&nbsp; lester.hedges@bristol.ac.uk\n",
    "\n",
    "# Solvation\n",
    "\n",
    "A node to solvate a parameterised molecular system. An appropriate box size will be determine from the axis-aligned bounding box of the molecules in the system"
   ]
  },
  {
   "cell_type": "code",
   "execution_count": null,
   "metadata": {},
   "outputs": [],
   "source": [
    "import BioSimSpace as BSS"
   ]
  },
  {
   "cell_type": "code",
   "execution_count": null,
   "metadata": {},
   "outputs": [],
   "source": [
    "node = BSS.Gateway.Node(\n",
    "    \"A node to solvate a parameterised molecular system. An appropriate box size will be determine from the axis-aligned bounding box of the molecules in the system.\"\n",
    ")\n",
    "node.addAuthor(\n",
    "    name=\"Lester Hedges\",\n",
    "    email=\"lester.hedges@bristol.ac.uk\",\n",
    "    affiliation=\"University of Bristol\",\n",
    ")\n",
    "node.setLicense(\"GPLv3\")"
   ]
  },
  {
   "cell_type": "markdown",
   "metadata": {},
   "source": [
    "Set the input requirements:"
   ]
  },
  {
   "cell_type": "code",
   "execution_count": null,
   "metadata": {},
   "outputs": [],
   "source": [
    "node.addInput(\"files\", BSS.Gateway.FileSet(help=\"A set of molecular input files.\"))\n",
    "\n",
    "node.addInput(\n",
    "    \"water_model\",\n",
    "    BSS.Gateway.String(\n",
    "        help=\"The water model.\", allowed=BSS.Solvent.waterModels(), default=\"tip3p\"\n",
    "    ),\n",
    ")\n",
    "\n",
    "node.addInput(\n",
    "    \"box\",\n",
    "    BSS.Gateway.String(\n",
    "        help=\"The type of simulation box.\", allowed=BSS.Box.boxTypes(), default=\"cubic\"\n",
    "    ),\n",
    ")\n",
    "\n",
    "node.addInput(\n",
    "    \"neutralise\",\n",
    "    BSS.Gateway.Boolean(\n",
    "        help=\"Whether to neutralise the system. Ions will be added on top of any specified with 'ion_conc'\",\n",
    "        default=True,\n",
    "    ),\n",
    ")\n",
    "\n",
    "node.addInput(\n",
    "    \"ion_conc\",\n",
    "    BSS.Gateway.Float(help=\"The ion concentration in mol per litre\", default=0),\n",
    ")"
   ]
  },
  {
   "cell_type": "markdown",
   "metadata": {},
   "source": [
    "We now need to define the output of the node. In this case we will return a set of files representing the parameterised molecule in the file format(s) of the original system."
   ]
  },
  {
   "cell_type": "code",
   "execution_count": null,
   "metadata": {},
   "outputs": [],
   "source": [
    "node.addOutput(\"solvated\", BSS.Gateway.FileSet(help=\"The solvated system.\"))"
   ]
  },
  {
   "cell_type": "code",
   "execution_count": null,
   "metadata": {},
   "outputs": [],
   "source": [
    "node.showControls()"
   ]
  },
  {
   "cell_type": "markdown",
   "metadata": {},
   "source": [
    "Load the molecular system."
   ]
  },
  {
   "cell_type": "code",
   "execution_count": null,
   "metadata": {},
   "outputs": [],
   "source": [
    "system = BSS.IO.readMolecules(node.getInput(\"files\"))"
   ]
  },
  {
   "cell_type": "markdown",
   "metadata": {},
   "source": [
    "Now work out the minimum box size for the molecules in the system."
   ]
  },
  {
   "cell_type": "code",
   "execution_count": null,
   "metadata": {},
   "outputs": [],
   "source": [
    "# Get the minimium and maximum coordinates of the bounding box that\n",
    "# minimally encloses the protein.\n",
    "box_min, box_max = system.getAxisAlignedBoundingBox()\n",
    "\n",
    "# Work out the box size from the difference in the coordinates.\n",
    "box_size = [y - x for x, y in zip(box_min, box_max)]\n",
    "\n",
    "# How much to pad each side of the molecule? (Nonbonded cutoff = 10 A)\n",
    "padding = 15 * BSS.Units.Length.angstrom\n",
    "\n",
    "# Work out an appropriate box. This will used in each dimension to ensure\n",
    "# that the cutoff constraints are satisfied if the molecule rotates.\n",
    "box_length = max(box_size) + 2 * padding"
   ]
  },
  {
   "cell_type": "markdown",
   "metadata": {},
   "source": [
    "Get the box parameters for the chosen box type."
   ]
  },
  {
   "cell_type": "code",
   "execution_count": null,
   "metadata": {},
   "outputs": [],
   "source": [
    "box, angles = BSS.Box.generateBoxParameters(node.getInput(\"box\"), box_length)"
   ]
  },
  {
   "cell_type": "markdown",
   "metadata": {},
   "source": [
    "Now solvate with the chosen water model and ion concentration."
   ]
  },
  {
   "cell_type": "code",
   "execution_count": null,
   "metadata": {},
   "outputs": [],
   "source": [
    "solvated = BSS.Solvent.solvate(\n",
    "    node.getInput(\"water_model\"),\n",
    "    molecule=system,\n",
    "    box=box,\n",
    "    angles=angles,\n",
    "    is_neutral=node.getInput(\"neutralise\"),\n",
    "    ion_conc=node.getInput(\"ion_conc\"),\n",
    ")"
   ]
  },
  {
   "cell_type": "markdown",
   "metadata": {},
   "source": [
    "Write the solvated system to file in the same format as the original system."
   ]
  },
  {
   "cell_type": "code",
   "execution_count": null,
   "metadata": {},
   "outputs": [],
   "source": [
    "node.setOutput(\n",
    "    \"solvated\", BSS.IO.saveMolecules(\"solvated\", solvated, system.fileFormat())\n",
    ")"
   ]
  },
  {
   "cell_type": "markdown",
   "metadata": {},
   "source": [
    "Validate the node."
   ]
  },
  {
   "cell_type": "code",
   "execution_count": null,
   "metadata": {},
   "outputs": [],
   "source": [
    "node.validate()"
   ]
  }
 ],
 "metadata": {
  "kernelspec": {
   "display_name": "Python 3",
   "language": "python",
   "name": "python3"
  },
  "language_info": {
   "codemirror_mode": {
    "name": "ipython",
    "version": 3
   },
   "file_extension": ".py",
   "mimetype": "text/x-python",
   "name": "python",
   "nbconvert_exporter": "python",
   "pygments_lexer": "ipython3",
   "version": "3.7.7"
  }
 },
 "nbformat": 4,
 "nbformat_minor": 2
}
