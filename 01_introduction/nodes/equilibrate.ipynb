{
 "cells": [
  {
   "cell_type": "markdown",
   "metadata": {},
   "source": [
    "Author: Lester Hedges<br>\n",
    "Email:&nbsp;&nbsp; lester.hedges@bristol.ac.uk\n",
    "\n",
    "# Equilibration\n",
    "\n",
    "A node to perform equilibration of a molecular system. Saves the equilibration system to AMBER format files along with a DCD trajectory."
   ]
  },
  {
   "cell_type": "code",
   "execution_count": null,
   "metadata": {},
   "outputs": [],
   "source": [
    "import BioSimSpace as BSS"
   ]
  },
  {
   "cell_type": "code",
   "execution_count": null,
   "metadata": {},
   "outputs": [],
   "source": [
    "node = BSS.Gateway.Node(\n",
    "    \"A node to perform equilibration. Saves the equlibrated molecular configuration and trajectory to file.\"\n",
    ")\n",
    "node.addAuthor(\n",
    "    name=\"Lester Hedges\",\n",
    "    email=\"lester.hedges@bristol.ac.uk\",\n",
    "    affiliation=\"University of Bristol\",\n",
    ")\n",
    "node.setLicense(\"GPLv3\")"
   ]
  },
  {
   "cell_type": "markdown",
   "metadata": {},
   "source": [
    "Set the input requirements:"
   ]
  },
  {
   "cell_type": "code",
   "execution_count": null,
   "metadata": {},
   "outputs": [],
   "source": [
    "node.addInput(\"files\", BSS.Gateway.FileSet(help=\"A set of molecular input files.\"))\n",
    "\n",
    "node.addInput(\n",
    "    \"runtime\",\n",
    "    BSS.Gateway.Time(\n",
    "        help=\"The run time.\",\n",
    "        unit=\"nanoseconds\",\n",
    "        minimum=0.02 * BSS.Units.Time.nanosecond,\n",
    "        maximum=10 * BSS.Units.Time.nanosecond,\n",
    "        default=0.02 * BSS.Units.Time.nanosecond,\n",
    "    ),\n",
    ")\n",
    "\n",
    "node.addInput(\n",
    "    \"temperature_start\",\n",
    "    BSS.Gateway.Temperature(\n",
    "        help=\"The initial temperature.\",\n",
    "        unit=\"kelvin\",\n",
    "        minimum=0 * BSS.Units.Temperature.kelvin,\n",
    "        maximum=1000 * BSS.Units.Temperature.kelvin,\n",
    "        default=0 * BSS.Units.Temperature.kelvin,\n",
    "    ),\n",
    ")\n",
    "\n",
    "node.addInput(\n",
    "    \"temperature_end\",\n",
    "    BSS.Gateway.Temperature(\n",
    "        help=\"The final temperature.\",\n",
    "        unit=\"kelvin\",\n",
    "        minimum=0 * BSS.Units.Temperature.kelvin,\n",
    "        maximum=1000 * BSS.Units.Temperature.kelvin,\n",
    "        default=300 * BSS.Units.Temperature.kelvin,\n",
    "    ),\n",
    ")\n",
    "\n",
    "node.addInput(\n",
    "    \"restraint\",\n",
    "    BSS.Gateway.String(\n",
    "        help=\"The type of restraint.\",\n",
    "        allowed=BSS.Protocol.Equilibration.restraints(),\n",
    "        default=\"none\",\n",
    "    ),\n",
    ")\n",
    "\n",
    "node.addInput(\n",
    "    \"report_interval\",\n",
    "    BSS.Gateway.Integer(\n",
    "        help=\"The number of integration steps between reporting output.\",\n",
    "        minimum=100,\n",
    "        maximum=10000,\n",
    "        default=100,\n",
    "    ),\n",
    ")\n",
    "\n",
    "node.addInput(\n",
    "    \"restart_interval\",\n",
    "    BSS.Gateway.Integer(\n",
    "        help=\"The number of integration steps between saving trajectory frames.\",\n",
    "        minimum=100,\n",
    "        maximum=10000,\n",
    "        default=500,\n",
    "    ),\n",
    ")\n",
    "\n",
    "node.addInput(\n",
    "    \"engine\",\n",
    "    BSS.Gateway.String(\n",
    "        help=\"The molecular dynamics engine.\", allowed=BSS.MD.engines(), default=\"auto\"\n",
    "    ),\n",
    ")"
   ]
  },
  {
   "cell_type": "markdown",
   "metadata": {},
   "source": [
    "We now need to define the output of the node. In this case we will return a set of files representing the equilibrated molecular system in AMBER format and a single file containing the trajectory frames."
   ]
  },
  {
   "cell_type": "code",
   "execution_count": null,
   "metadata": {},
   "outputs": [],
   "source": [
    "node.addOutput(\n",
    "    \"equilibrated\", BSS.Gateway.FileSet(help=\"The equilibrated molecular system.\")\n",
    ")\n",
    "node.addOutput(\"trajectory\", BSS.Gateway.File(help=\"The trajectory file.\"))"
   ]
  },
  {
   "cell_type": "code",
   "execution_count": null,
   "metadata": {},
   "outputs": [],
   "source": [
    "node.showControls()"
   ]
  },
  {
   "cell_type": "markdown",
   "metadata": {},
   "source": [
    "Generate the molecular system."
   ]
  },
  {
   "cell_type": "code",
   "execution_count": null,
   "metadata": {},
   "outputs": [],
   "source": [
    "system = BSS.IO.readMolecules(node.getInput(\"files\"))"
   ]
  },
  {
   "cell_type": "markdown",
   "metadata": {},
   "source": [
    "Set up the equilibration protocol.\n",
    "\n",
    "(Note that the keyword arguments happen to have the same name as the input requirements. This need not be the case.)"
   ]
  },
  {
   "cell_type": "code",
   "execution_count": null,
   "metadata": {},
   "outputs": [],
   "source": [
    "protocol = BSS.Protocol.Equilibration(\n",
    "    runtime=node.getInput(\"runtime\"),\n",
    "    temperature_start=node.getInput(\"temperature_start\"),\n",
    "    temperature_end=node.getInput(\"temperature_end\"),\n",
    "    restraint=node.getInput(\"restraint\"),\n",
    ")"
   ]
  },
  {
   "cell_type": "markdown",
   "metadata": {},
   "source": [
    "Start the molecular dynamics process."
   ]
  },
  {
   "cell_type": "code",
   "execution_count": null,
   "metadata": {},
   "outputs": [],
   "source": [
    "process = BSS.MD.run(system, protocol, engine=node.getInput(\"engine\"))"
   ]
  },
  {
   "cell_type": "markdown",
   "metadata": {},
   "source": [
    "We now wait for the process to finish, then check whether there were any errors before continuing. If errors were raised, then we raise an exception and print the last 10 lines of `stdout` and `stderr` to the user."
   ]
  },
  {
   "cell_type": "code",
   "execution_count": null,
   "metadata": {},
   "outputs": [],
   "source": [
    "process.wait()\n",
    "\n",
    "if process.isError():\n",
    "    print(process.stdout(10))\n",
    "    print(process.stdout(10))\n",
    "    raise RuntimeError(\"The process exited with an error!\")"
   ]
  },
  {
   "cell_type": "markdown",
   "metadata": {},
   "source": [
    "Get the equilibrated molecular system and write to file in the same format as the input, along with a PDB file to use as a topology file for the trajectory in [VMD](https://www.ks.uiuc.edu/Research/vmd/)."
   ]
  },
  {
   "cell_type": "code",
   "execution_count": null,
   "metadata": {},
   "outputs": [],
   "source": [
    "# Get the original file formats associated with the system.\n",
    "# This is returned as a comma-separated string.\n",
    "formats = system.fileFormat()\n",
    "\n",
    "# Append PDB format, so we can visualise the trajectory with VMD.\n",
    "formats += \",pdb\"\n",
    "\n",
    "# Write to file and bind to the output.\n",
    "node.setOutput(\n",
    "    \"equilibrated\", BSS.IO.saveMolecules(\"equilibrated\", process.getSystem(), formats)\n",
    ")"
   ]
  },
  {
   "cell_type": "markdown",
   "metadata": {},
   "source": [
    "Get the trajectory, convert to MDTraj format and save to a DCD file."
   ]
  },
  {
   "cell_type": "code",
   "execution_count": null,
   "metadata": {},
   "outputs": [],
   "source": [
    "# Get the BioSimSpace trajectory wrapper.\n",
    "trajectory = process.getTrajectory()\n",
    "\n",
    "# Extract the MDTraj object.\n",
    "traj = trajectory.getTrajectory(format=\"mdtraj\")\n",
    "\n",
    "# Write to file.\n",
    "traj.save(\"equilibrated.dcd\")\n",
    "\n",
    "# Bind to the output requirement.\n",
    "node.setOutput(\"trajectory\", \"equilibrated.dcd\")"
   ]
  },
  {
   "cell_type": "markdown",
   "metadata": {},
   "source": [
    "Validate the node."
   ]
  },
  {
   "cell_type": "code",
   "execution_count": null,
   "metadata": {},
   "outputs": [],
   "source": [
    "node.validate()"
   ]
  }
 ],
 "metadata": {
  "kernelspec": {
   "display_name": "Python 3",
   "language": "python",
   "name": "python3"
  },
  "language_info": {
   "codemirror_mode": {
    "name": "ipython",
    "version": 3
   },
   "file_extension": ".py",
   "mimetype": "text/x-python",
   "name": "python",
   "nbconvert_exporter": "python",
   "pygments_lexer": "ipython3"
  }
 },
 "nbformat": 4,
 "nbformat_minor": 2
}
