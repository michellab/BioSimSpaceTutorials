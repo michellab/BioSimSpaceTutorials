{
 "cells": [
  {
   "cell_type": "markdown",
   "metadata": {},
   "source": [
    "Author: Lester Hedges<br>\n",
    "Email:&nbsp;&nbsp; lester.hedges@bristol.ac.uk\n",
    "\n",
    "# Parameterisation\n",
    "\n",
    "A node to perform parameterisation of a molecule loaded from PDB file. Saves the parameterised molecule in to AMBER format files."
   ]
  },
  {
   "cell_type": "code",
   "execution_count": null,
   "metadata": {},
   "outputs": [],
   "source": [
    "import BioSimSpace as BSS"
   ]
  },
  {
   "cell_type": "code",
   "execution_count": null,
   "metadata": {},
   "outputs": [],
   "source": [
    "node = BSS.Gateway.Node(\n",
    "    \"A node to perform parameterisation of a molecule loaded from PDB file. Saves the parameterised molecule in to AMBER format files.\"\n",
    ")\n",
    "node.addAuthor(\n",
    "    name=\"Lester Hedges\",\n",
    "    email=\"lester.hedges@bristol.ac.uk\",\n",
    "    affiliation=\"University of Bristol\",\n",
    ")\n",
    "node.setLicense(\"GPLv3\")"
   ]
  },
  {
   "cell_type": "markdown",
   "metadata": {},
   "source": [
    "Set the input requirements:"
   ]
  },
  {
   "cell_type": "code",
   "execution_count": null,
   "metadata": {},
   "outputs": [],
   "source": [
    "node.addInput(\n",
    "    \"pdb\",\n",
    "    BSS.Gateway.File(\n",
    "        help=\"A Protein Data Bank (PDB) file containing a single molecule.\"\n",
    "    ),\n",
    ")\n",
    "\n",
    "node.addInput(\n",
    "    \"forcefield\",\n",
    "    BSS.Gateway.String(\n",
    "        help=\"The force field to parameterise the molecule with.\",\n",
    "        allowed=BSS.Parameters.forceFields(),\n",
    "    ),\n",
    ")\n",
    "\n",
    "node.addInput(\n",
    "    \"water_model\",\n",
    "    BSS.Gateway.String(\n",
    "        help=\"The water model to use for ion parameters.\",\n",
    "        allowed=BSS.Solvent.waterModels(),\n",
    "        default=\"tip3p\",\n",
    "    ),\n",
    ")\n",
    "\n",
    "node.addInput(\n",
    "    \"pdb4amber\",\n",
    "    BSS.Gateway.Boolean(\n",
    "        help=\"Whether to pre-process the PDB file using pdb4amber.\", default=False\n",
    "    ),\n",
    ")"
   ]
  },
  {
   "cell_type": "markdown",
   "metadata": {},
   "source": [
    "We now need to define the output of the node. In this case we will return a set of files representing the parameterised molecule in AMBER format."
   ]
  },
  {
   "cell_type": "code",
   "execution_count": null,
   "metadata": {},
   "outputs": [],
   "source": [
    "node.addOutput(\"parameterised\", BSS.Gateway.FileSet(help=\"The parameterised molecule.\"))"
   ]
  },
  {
   "cell_type": "code",
   "execution_count": null,
   "metadata": {},
   "outputs": [],
   "source": [
    "node.showControls()"
   ]
  },
  {
   "cell_type": "markdown",
   "metadata": {},
   "source": [
    "Load the PDB file and pre-process with `pdb4amber` if requested. Since we assume a single molecule PDB, take the first molecule in the file."
   ]
  },
  {
   "cell_type": "code",
   "execution_count": null,
   "metadata": {},
   "outputs": [],
   "source": [
    "molecule = BSS.IO.readPDB(node.getInput(\"pdb\"), pdb4amber=node.getInput(\"pdb4amber\"))[0]"
   ]
  },
  {
   "cell_type": "markdown",
   "metadata": {},
   "source": [
    "Perform the parameterisation using the chosen force field and ion water model. Note that we call the generic `BSS.Parameters.parameterise` function so that we can pass the force field name as an argument."
   ]
  },
  {
   "cell_type": "code",
   "execution_count": null,
   "metadata": {},
   "outputs": [],
   "source": [
    "molecule = BSS.Parameters.parameterise(\n",
    "    molecule, node.getInput(\"forcefield\"), water_model=node.getInput(\"water_model\")\n",
    ").getMolecule()"
   ]
  },
  {
   "cell_type": "markdown",
   "metadata": {},
   "source": [
    "Now save the parameterise molecule to AMBER format files."
   ]
  },
  {
   "cell_type": "code",
   "execution_count": null,
   "metadata": {},
   "outputs": [],
   "source": [
    "node.setOutput(\n",
    "    \"parameterised\", BSS.IO.saveMolecules(\"parameterised\", molecule, [\"prm7\", \"rst7\"])\n",
    ")"
   ]
  },
  {
   "cell_type": "markdown",
   "metadata": {},
   "source": [
    "Validate the node."
   ]
  },
  {
   "cell_type": "code",
   "execution_count": null,
   "metadata": {},
   "outputs": [],
   "source": [
    "node.validate()"
   ]
  }
 ],
 "metadata": {
  "kernelspec": {
   "display_name": "Python 3",
   "language": "python",
   "name": "python3"
  },
  "language_info": {
   "codemirror_mode": {
    "name": "ipython",
    "version": 3
   },
   "file_extension": ".py",
   "mimetype": "text/x-python",
   "name": "python",
   "nbconvert_exporter": "python",
   "pygments_lexer": "ipython3",
   "version": "3.7.7"
  }
 },
 "nbformat": 4,
 "nbformat_minor": 2
}
