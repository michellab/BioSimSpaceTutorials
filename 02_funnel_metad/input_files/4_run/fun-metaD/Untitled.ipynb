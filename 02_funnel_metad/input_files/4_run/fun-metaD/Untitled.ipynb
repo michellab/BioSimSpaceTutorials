{
 "cells": [
  {
   "cell_type": "code",
   "execution_count": null,
   "id": "4bd0a735",
   "metadata": {},
   "outputs": [],
   "source": [
    "import numpy as np\n",
    "import matplotlib.pyplot as plt\n",
    "import subprocess as sp\n",
    "import os\n",
    "import glob"
   ]
  },
  {
   "cell_type": "code",
   "execution_count": null,
   "id": "31848b4e",
   "metadata": {},
   "outputs": [],
   "source": [
    "M = np.load(\"COLVAR.npy\")\n",
    "plt.plot(M[:, 0])"
   ]
  }
 ],
 "metadata": {
  "kernelspec": {
   "display_name": "Python 3",
   "language": "python",
   "name": "python3"
  },
  "language_info": {
   "codemirror_mode": {
    "name": "ipython",
    "version": 3
   },
   "file_extension": ".py",
   "mimetype": "text/x-python",
   "name": "python",
   "nbconvert_exporter": "python",
   "pygments_lexer": "ipython3"
  }
 },
 "nbformat": 4,
 "nbformat_minor": 5
}
