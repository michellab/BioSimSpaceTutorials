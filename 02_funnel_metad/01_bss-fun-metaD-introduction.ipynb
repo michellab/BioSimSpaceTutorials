{
 "cells": [
  {
   "cell_type": "code",
   "execution_count": null,
   "id": "32d62060",
   "metadata": {},
   "outputs": [],
   "source": [
    "import BioSimSpace as BSS"
   ]
  },
  {
   "cell_type": "code",
   "execution_count": null,
   "id": "bcd3dec3",
   "metadata": {},
   "outputs": [],
   "source": [
    "system = BSS.IO.readMolecules(\n",
    "    [\"input_files/solvated.prm7\", \"input_files/solvated.rst7\"]\n",
    ")"
   ]
  },
  {
   "cell_type": "code",
   "execution_count": null,
   "id": "0e366a7e",
   "metadata": {},
   "outputs": [],
   "source": [
    "p0, p1 = BSS.Metadynamics.CollectiveVariable.makeFunnel(system)"
   ]
  },
  {
   "cell_type": "code",
   "execution_count": null,
   "id": "aed47697",
   "metadata": {},
   "outputs": [],
   "source": [
    "funnel_cv = BSS.Metadynamics.CollectiveVariable.Funnel(p0, p1)"
   ]
  },
  {
   "cell_type": "code",
   "execution_count": null,
   "id": "e9602deb",
   "metadata": {},
   "outputs": [],
   "source": [
    "view = BSS.Metadynamics.CollectiveVariable.viewFunnel(system, funnel_cv)"
   ]
  },
  {
   "cell_type": "code",
   "execution_count": null,
   "id": "11d5d4f5",
   "metadata": {},
   "outputs": [],
   "source": []
  }
 ],
 "metadata": {
  "kernelspec": {
   "display_name": "Python 3 (ipykernel)",
   "language": "python",
   "name": "python3"
  },
  "language_info": {
   "codemirror_mode": {
    "name": "ipython",
    "version": 3
   },
   "file_extension": ".py",
   "mimetype": "text/x-python",
   "name": "python",
   "nbconvert_exporter": "python",
   "pygments_lexer": "ipython3"
  }
 },
 "nbformat": 4,
 "nbformat_minor": 5
}
