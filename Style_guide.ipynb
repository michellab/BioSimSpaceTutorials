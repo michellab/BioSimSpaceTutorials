{
 "cells": [
  {
   "cell_type": "markdown",
   "id": "06155887",
   "metadata": {},
   "source": [
    "# Title of notebook"
   ]
  },
  {
   "cell_type": "markdown",
   "id": "ded0a015",
   "metadata": {},
   "source": [
    "Some description\n",
    "\n",
    "**<span style=\"color:teal\">Reading Time:</span>**\n",
    "~ 30 mins"
   ]
  },
  {
   "cell_type": "markdown",
   "id": "7c556056",
   "metadata": {},
   "source": [
    "### Maintainers\n",
    "- maintainer name -- email (github handle)\n",
    "\n",
    "### Prerequisites\n",
    "\n",
    "- List prerequisites of this particular notebook\n",
    "\n",
    "### Learning Objectives\n",
    "\n",
    "- List learning objectives\n",
    "\n",
    "### TOC\n",
    "- [first item in toc](#link)\n",
    "- [second item in toc](#link2)\n",
    "\n",
    "### Further reading for this topic\n",
    "- give links here\n",
    "\n",
    "**<span style=\"color:black\">Jupyter Cheat Sheet</span>**\n",
    "- To run the currently highlighted cell and move focus to the next cell, hold <kbd>&#x21E7; Shift</kbd> and press <kbd>&#x23ce; Enter</kbd>;\n",
    "- To run the currently highlighted cell and keep focus in the same cell, hold <kbd>&#x21E7; Ctrl</kbd> and press <kbd>&#x23ce; Enter</kbd>;\n",
    "- To get help for a specific function, place the cursor within the function's brackets, hold <kbd>&#x21E7; Shift</kbd>, and press <kbd>&#x21E5; Tab</kbd>;\n",
    "\n",
    "### Link to documentation:\n",
    "You can find the full documentation at [biosimspace.org](https://biosimspace.org)."
   ]
  },
  {
   "cell_type": "markdown",
   "id": "cd5006e9",
   "metadata": {},
   "source": [
    "## 1 Use Level 2 heading for section headings\n",
    "### 1.1 Use Level 3 heading for subsection headings"
   ]
  },
  {
   "cell_type": "markdown",
   "id": "aea5a64d",
   "metadata": {},
   "source": [
    "## Exercises:\n",
    "\n",
    "Exercises are announced using an alert alert-success box in this way:\n",
    "<div class=\"alert alert-success\">\n",
    "<b>Exercise 5.2: Write a function that computes bond lengths:</b>\n",
    "</div>\n",
    "and followed by an incomplete cell. All exercises should be numbered. \n",
    "Missing parts are indicated by:\n",
    "\n",
    "```python\n",
    "#FIXME\n",
    "```\n",
    "\n",
    "Solutions to exercises are given in the cell below using the following details tag that can be used for expansion using the standardised text to do so:\n",
    "\n",
    "<details><summary {style='color:green;font-weight:bold'}> Click here to see solution to Exercise. </summary>\n",
    "    \n",
    "```python\n",
    "from math import sqrt\n",
    "```\n",
    "    \n",
    "  "
   ]
  },
  {
   "cell_type": "markdown",
   "id": "afe47f49",
   "metadata": {},
   "source": [
    "<div class=\"alert alert-warning\">\n",
    "<b>Exercise 5.3: Extra exercises are given in yellow (Extra)</b>\n",
    "</div>  "
   ]
  },
  {
   "cell_type": "markdown",
   "id": "4336102f",
   "metadata": {},
   "source": [
    "## Additional information noteworthy things\n",
    "\n",
    "<div class=\"alert alert-info\">\n",
    "<b>Anything noteworthy should be added to an info box. You can use the <code>I am code</code> tags to write code here</b>\n",
    "</div>\n",
    "\n",
    "To give extra attention use the exclamation mark warning sign: ⚠️"
   ]
  },
  {
   "cell_type": "markdown",
   "id": "9979b807",
   "metadata": {},
   "source": [
    "### Some formatting:\n",
    "\n",
    "- All equations should be type set using LaTex, i.e. $\\Delta \\Delta G$ and not ΔΔG. \n",
    "- BSS packages should be highlighted in code, i.e. `BSS.Gateway`. \n",
    "- Common abbreviations could be highlighted either in the readme or the first notebook. "
   ]
  },
  {
   "cell_type": "markdown",
   "id": "e4c4a542",
   "metadata": {},
   "source": [
    "## Structure of each Tutorial directory:"
   ]
  },
  {
   "cell_type": "markdown",
   "id": "c3186607",
   "metadata": {},
   "source": [
    "`01_README.md`:\n",
    "This file should contain the overview of the tutorial and all additional information not shown in the tutorial pdf. In fact I would move a lot of the tutorial pdf here as it it will be an easier place to edit and will be tightly connected with the tutorial, then there are no issues around formatting and one can easily refer to the markdown file. \n",
    "\n",
    "Sections are:\n",
    "#### Author's:\n",
    "- This should list all authors and their contributions\n",
    "\n",
    "#### Overview of tutorial:\n",
    "This is the general introduction, there can be some duplication with the jupyter notebook if helpful, but the focus here should be more on background. \n",
    "\n",
    "#### Specific installation/environment package requirement for this given tutorial:\n",
    "Would here be a good place to put this?\n",
    "\n",
    "#### Changelog:\n",
    "I think it would be useful to have a changelog in the readme itself, or linking to a changelog for each tutorial itself so that there is a well kept record of who changed what. This should acknowledge authors so it is easy to track contributions. \n",
    "\n",
    "`02_first_notebook.ipynb`\n",
    "This will be the first notebook complying with the above suggested formatting. \n",
    "\n",
    "`0X_nth-notebook`\n",
    "This will be the xth notebook complying with the above suggested formatting. \n",
    "\n",
    "\n",
    "`directories`:\n",
    "This will be harder to standardise. It should contain the minimum of input and output that is required for the tutorial. There may be additional directories, such as one for images--I would prefer the name image over the name figures--as not all images will be figures. "
   ]
  }
 ],
 "metadata": {
  "kernelspec": {
   "display_name": "Python 3.9.13 ('working': conda)",
   "language": "python",
   "name": "python3"
  },
  "language_info": {
   "codemirror_mode": {
    "name": "ipython",
    "version": 3
   },
   "file_extension": ".py",
   "mimetype": "text/x-python",
   "name": "python",
   "nbconvert_exporter": "python",
   "pygments_lexer": "ipython3"
  },
  "vscode": {
   "interpreter": {
    "hash": "53a7075aa6ba074ad24f268d28330e8ae9ce5d32ba0a76f329c5ee8540da26d4"
   }
  }
 },
 "nbformat": 4,
 "nbformat_minor": 5
}
