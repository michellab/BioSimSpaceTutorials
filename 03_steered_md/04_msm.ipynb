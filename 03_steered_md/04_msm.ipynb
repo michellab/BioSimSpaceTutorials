{
 "cells": [
  {
   "cell_type": "markdown",
   "metadata": {},
   "source": [
    "# Markov State Models"
   ]
  },
  {
   "cell_type": "markdown",
   "metadata": {},
   "source": [
    "Now that all of the required seeded MD simulations have run, we can use the trajectory data to construct a Markov State Model (MSM). [PyEMMA](http://emma-project.org/latest/) is a python library for this, and has their own [tutorials](http://emma-project.org/latest/tutorial.html). This is just an example of how an MSM could be built, for more details please refer to PyEMMA documentation."
   ]
  },
  {
   "cell_type": "markdown",
   "metadata": {},
   "source": [
    "### Maintainers\n",
    "* Adele Hardie -- adele.hardie@ed.ac.uk (AdeleHardie)\n",
    "\n",
    "### Prerequisites\n",
    "* pyemma\n",
    "* pytraj\n",
    "* numpy\n",
    "* matplotlib\n",
    "\n",
    "### Table of Contents\n",
    "1. [Get data](#1-Get-data)\n",
    "2. [Featurise the data](#2-Featurise-the-data)\n",
    "3. [Clustering](#3-Clustering)\n",
    "4. [Check implied timescales](#4-Check-implied-timescales)\n",
    "5. [Build MSM](#5-Build-MSM)\n",
    "6. [Metastable state analysis](#6-Metastable-state-analysis)\n",
    "\n",
    "**<span style=\"color:black\">Jupyter Cheat Sheet</span>**\n",
    "- To run the currently highlighted cell and move focus to the next cell, hold <kbd>&#x21E7; Shift</kbd> and press <kbd>&#x23ce; Enter</kbd>;\n",
    "- To run the currently highlighted cell and keep focus in the same cell, hold <kbd>&#x21E7; Ctrl</kbd> and press <kbd>&#x23ce; Enter</kbd>;\n",
    "- To get help for a specific function, place the cursor within the function's brackets, hold <kbd>&#x21E7; Shift</kbd>, and press <kbd>&#x21E5; Tab</kbd>;\n",
    "\n",
    "### Link to documentation:\n",
    "You can find the full documentation at [biosimspace.org](https://biosimspace.org)."
   ]
  },
  {
   "cell_type": "markdown",
   "metadata": {},
   "source": [
    "## 1 Get data"
   ]
  },
  {
   "cell_type": "code",
   "execution_count": null,
   "metadata": {},
   "outputs": [],
   "source": [
    "import pyemma\n",
    "import os\n",
    "import sys\n",
    "import pytraj as pt\n",
    "import numpy as np\n",
    "import matplotlib.pyplot as plt"
   ]
  },
  {
   "cell_type": "markdown",
   "metadata": {},
   "source": [
    "Markov State Models generally do not use all atom coordinates to define configurations since then no configuration would be visited more than once on a realistic time scale. Therefore, we have to perform dimensionality reduction in the form of featurising data, i.e. reducing the trajectories to time series of feature values. In this case we will be using RMSD to the closed WPD loop PTP1B conformation (backbone atoms only), and the distance between peptide substrate PTry(P) and Cys215(S) of the protein. These have been chosen as the starting point based on the specific function of PTP1B and will depend on each system."
   ]
  },
  {
   "cell_type": "markdown",
   "metadata": {},
   "source": [
    "<img src=\"figures/msm_features.png\" width=350>"
   ]
  },
  {
   "cell_type": "markdown",
   "metadata": {},
   "source": [
    "Start by having a list of trajectory files that will be loaded and featurised one by one. I do this by specifying the two directories I have my files in (one for steering from open to closed and one for steering from closed to open) and loop over 100 seeded MD trajectories I know I have. The exact structure will depend on how you have structured your seeded MD data."
   ]
  },
  {
   "cell_type": "code",
   "execution_count": null,
   "metadata": {},
   "outputs": [],
   "source": [
    "data_dirs = [\n",
    "    \"/home/adele/Documents/PTP1B/systems/peptide/open/seeded-md_allosteric\",\n",
    "    \"/home/adele/Documents/PTP1B/systems/peptide/closed/seeded-md_allosteric\",\n",
    "]\n",
    "traj_files = []\n",
    "topology_files = []\n",
    "# loop over 100 seeded MD trajectories in each directory\n",
    "for directory in data_dirs:\n",
    "    for i in range(1, 101):\n",
    "        traj_files.append(f\"{directory}/snapshot_{i}/production_dry.nc\")\n",
    "        topology_files.append(f\"{directory}/snapshot_{i}/system_dry.prm7\")"
   ]
  },
  {
   "cell_type": "markdown",
   "metadata": {},
   "source": [
    "The two lists should look something like this:"
   ]
  },
  {
   "cell_type": "code",
   "execution_count": null,
   "metadata": {},
   "outputs": [],
   "source": [
    "print(traj_files[:2])\n",
    "print(topology_files[:2])"
   ]
  },
  {
   "cell_type": "markdown",
   "metadata": {},
   "source": [
    "Note that I am also including the topology files as I will need those to load AMBER trajectories. Additionally, I am using dry trajectories - this simply means that data processing will take much less time, as less atoms need to be loaded. That is okay for this case, since water is not important to the selected features."
   ]
  },
  {
   "cell_type": "markdown",
   "metadata": {},
   "source": [
    "## 2 Featurise the data"
   ]
  },
  {
   "cell_type": "markdown",
   "metadata": {},
   "source": [
    "Now is the time to load the trajectories one by one and compute the feature values. I will be using [pytraj](https://amber-md.github.io/pytraj/latest/index.html) (python version of AMBER's [cpptraj](https://amber-md.github.io/cpptraj/CPPTRAJ.xhtml)), mainly because PyEMMA's way of calculating RMSD does not allow to specify separate alignment and RMSD atoms. A script for calculating RMSD with pytraj is provided and imported as a function at the start."
   ]
  },
  {
   "cell_type": "markdown",
   "metadata": {},
   "source": [
    "At this point we also need to load the RMSD reference."
   ]
  },
  {
   "cell_type": "code",
   "execution_count": null,
   "metadata": {},
   "outputs": [],
   "source": [
    "reference = pt.load(\"/home/adele/Documents/PTP1B/inputs/closed.pdb\")"
   ]
  },
  {
   "cell_type": "code",
   "execution_count": null,
   "metadata": {},
   "outputs": [],
   "source": [
    "data = []\n",
    "for i in range(len(traj_files)):\n",
    "    print(i + 1, end=\"\\r\")\n",
    "    traj = pt.load(traj_files[i], top=topology_files[i])\n",
    "    traj = pt.align(traj, \":1-282&!(@/H)\", ref=reference, ref_mask=\":1-282&!(@/H)\")\n",
    "    rmsd = pt.rmsd(\n",
    "        traj,\n",
    "        \":179-185&(@CA,N,C,O)\",\n",
    "        ref=reference,\n",
    "        ref_mask=\":179-185&(@CA,N,C,O)\",\n",
    "        nofit=True,\n",
    "        update_coordinate=False,\n",
    "    )\n",
    "    distance = pt.calc_distance(traj, \":216@SG @P\")\n",
    "    current_traj = []\n",
    "    for j in range(len(rmsd)):\n",
    "        current_traj.append([rmsd[j], distance[j]])\n",
    "    data.append(np.array(current_traj))"
   ]
  },
  {
   "cell_type": "markdown",
   "metadata": {},
   "source": [
    "The above might take a while depending on how much data is being used. I have also added a print for the current file being processed (out of 200 in this case) to track progress."
   ]
  },
  {
   "cell_type": "markdown",
   "metadata": {},
   "source": [
    "The resulting list `data` has 200 numpy arrays, one for each trajectory. Each array has the shape (5000, 2) - 5000 frames and 2 features per frame. The timestep between each frame in this case is 10 ps."
   ]
  },
  {
   "cell_type": "markdown",
   "metadata": {},
   "source": [
    "<div class=\"alert alert-info\">\n",
    "<b>You can also process the data beforehand and load the results. This might be especially preferable if you want to test different features/feature combinations, as it saves you having to process the data multiple times.</b>\n",
    "</div>\n",
    "\n",
    "The `data/featurised_traj.txt` file contains example featurised data used here."
   ]
  },
  {
   "cell_type": "code",
   "execution_count": null,
   "metadata": {},
   "outputs": [],
   "source": [
    "data_np = np.loadtxt(\"data/featurised_traj.txt\")\n",
    "data = []\n",
    "for i in range(200):\n",
    "    idx = 5000 * i\n",
    "    data.append(data_np[idx : idx + 5000])"
   ]
  },
  {
   "cell_type": "markdown",
   "metadata": {},
   "source": [
    "### 2.1 Plotting data"
   ]
  },
  {
   "cell_type": "markdown",
   "metadata": {},
   "source": [
    "PyEMMA has some nice in-built plotting functionality."
   ]
  },
  {
   "cell_type": "code",
   "execution_count": null,
   "metadata": {},
   "outputs": [],
   "source": [
    "pyemma.plots.plot_feature_histograms(\n",
    "    np.vstack(data), feature_labels=[\"RMSD\", \"distance\"]\n",
    ")"
   ]
  },
  {
   "cell_type": "code",
   "execution_count": null,
   "metadata": {},
   "outputs": [],
   "source": [
    "fig, ax, misc = pyemma.plots.plot_density(np.vstack(data)[:, 0], np.vstack(data)[:, 1])\n",
    "ax.set_xlabel(\"RMSD\")\n",
    "ax.set_ylabel(\"distance\")"
   ]
  },
  {
   "cell_type": "markdown",
   "metadata": {},
   "source": [
    "## 3 Clustering"
   ]
  },
  {
   "cell_type": "markdown",
   "metadata": {},
   "source": [
    "In addition to reducing the seeded MD trajectories to selected features, we also group the feature values into states through k-means clustering. The Markov State Model will describe the transition probabilities between these cluster states."
   ]
  },
  {
   "cell_type": "code",
   "execution_count": null,
   "metadata": {},
   "outputs": [],
   "source": [
    "clusters = pyemma.coordinates.cluster_kmeans(np.vstack(data), k=100, max_iter=50)"
   ]
  },
  {
   "cell_type": "markdown",
   "metadata": {},
   "source": [
    "We can visualize the clusters by plotting:"
   ]
  },
  {
   "cell_type": "code",
   "execution_count": null,
   "metadata": {},
   "outputs": [],
   "source": [
    "fig, ax = plt.subplots(1, figsize=(5, 5))\n",
    "ax.scatter(clusters.clustercenters[:, 0], clusters.clustercenters[:, 1])\n",
    "ax.set_ylabel(\"distance\")\n",
    "ax.set_xlabel(\"RMSD\")"
   ]
  },
  {
   "cell_type": "markdown",
   "metadata": {},
   "source": [
    "Now we need to assign the trajectory data to clusters. So each frame will be reduced to belonging to clusters 1-100. This is the final stage of dimensionality reduction for our data."
   ]
  },
  {
   "cell_type": "code",
   "execution_count": null,
   "metadata": {},
   "outputs": [],
   "source": [
    "dtrajs = pyemma.coordinates.assign_to_centers(\n",
    "    data=data, centers=clusters.clustercenters\n",
    ")"
   ]
  },
  {
   "cell_type": "markdown",
   "metadata": {},
   "source": [
    "## 4 Check implied timescales"
   ]
  },
  {
   "cell_type": "markdown",
   "metadata": {},
   "source": [
    "Implied timescales are the relaxation timescales of a system, implied by an MSM. ITS should not depend on the lag time $\\tau$. This does not happen for small $\\tau$ since the errors of the model are large. The goal is to find an appropriately large value of $\\tau$ while making it small enough to have sufficient statistical information from the trajectory data (e.g. if $\\tau$ is greater than 100 ns in our case, we have no data for the model). We check the implied timescales for our system by building a number of trial models with different lag times."
   ]
  },
  {
   "cell_type": "code",
   "execution_count": null,
   "metadata": {},
   "outputs": [],
   "source": [
    "lags_to_try = [\n",
    "    1,\n",
    "    5,\n",
    "    10,\n",
    "    25,\n",
    "    50,\n",
    "    100,\n",
    "    250,\n",
    "    500,\n",
    "    750,\n",
    "    1000,\n",
    "    1250,\n",
    "    1500,\n",
    "    1750,\n",
    "    2000,\n",
    "    2500,\n",
    "    3000,\n",
    "    4000,\n",
    "    5000,\n",
    "]"
   ]
  },
  {
   "cell_type": "code",
   "execution_count": null,
   "metadata": {},
   "outputs": [],
   "source": [
    "its = pyemma.msm.timescales_msm(dtrajs, lags=lags_to_try, nits=10, errors=\"bayes\")"
   ]
  },
  {
   "cell_type": "markdown",
   "metadata": {},
   "source": [
    "We can visualize ITS via PyEMMA:"
   ]
  },
  {
   "cell_type": "code",
   "execution_count": null,
   "metadata": {},
   "outputs": [],
   "source": [
    "pyemma.plots.plot_implied_timescales(its)"
   ]
  },
  {
   "cell_type": "markdown",
   "metadata": {},
   "source": [
    "The ITS curves reach a point where they are independent of the lag time at around 2000 steps. This is the lag time that will be used for the MSM. Additionally, we can see 2 distinct slowest processed (curves that do not overlap), which suggests the model can differentiate between 2 metastable states."
   ]
  },
  {
   "cell_type": "markdown",
   "metadata": {},
   "source": [
    "## 5 Build MSM"
   ]
  },
  {
   "cell_type": "markdown",
   "metadata": {},
   "source": [
    "After all the preparatory work, building the actual MSM is a single line. Note that the lag time chosen is 2000 steps, or 20 ns."
   ]
  },
  {
   "cell_type": "code",
   "execution_count": null,
   "metadata": {},
   "outputs": [],
   "source": [
    "msm = pyemma.msm.bayesian_markov_model(dtrajs, 2000)"
   ]
  },
  {
   "cell_type": "markdown",
   "metadata": {},
   "source": [
    "We have to check states and counts used, to make sure that all states are connected. A disconnected state is one that is not transitioned to or from any other states. In this case, all of the states were used, and we can proceed. Otherwise we would have to remove the disconnected states and rebuild a new MSM."
   ]
  },
  {
   "cell_type": "code",
   "execution_count": null,
   "metadata": {},
   "outputs": [],
   "source": [
    "print(f\"Fraction of states used = {msm.active_state_fraction}\")\n",
    "print(f\"Fraction of counts used = {msm.active_count_fraction}\")"
   ]
  },
  {
   "cell_type": "markdown",
   "metadata": {},
   "source": [
    "### 5. 1 CK test"
   ]
  },
  {
   "cell_type": "markdown",
   "metadata": {},
   "source": [
    "One of the ways to assess an MSM is the Chapman-Kolmogorow (CK) test. It validates whether our model is Markovian, i.e. if the transition probability depends on the current state only and not past history. Metastable states will be identified via PCAA automatically and we specify the number of states based on the previous ITS plot."
   ]
  },
  {
   "cell_type": "code",
   "execution_count": null,
   "metadata": {},
   "outputs": [],
   "source": [
    "ck = msm.cktest(nsets=3, mlags=3)\n",
    "pyemma.plots.plot_cktest(ck)"
   ]
  },
  {
   "cell_type": "markdown",
   "metadata": {},
   "source": [
    "The estimate and predicted probabilities agree well, suggesting that our model is indeed Markovian (i.e. 'memoryless')."
   ]
  },
  {
   "cell_type": "markdown",
   "metadata": {},
   "source": [
    "## 6 Metastable state analysis"
   ]
  },
  {
   "cell_type": "markdown",
   "metadata": {},
   "source": [
    "At the moment our MSM tells us about the transition probabilities between 100 states, defined by RMSD to closed WPD loop PTP1B structure and the distance between substrate peptide PTyr(P) and protein Cys215(S). However what we are really interested in is the probability of the protein existing in an active or inactive conformation. Therefore we will be further grouping the 100 states into metastable states using PCAA."
   ]
  },
  {
   "cell_type": "code",
   "execution_count": null,
   "metadata": {},
   "outputs": [],
   "source": [
    "pcaa_results = msm.pcca(2)\n",
    "colours = [\"magenta\", \"orange\"]\n",
    "assignments = [[], []]\n",
    "for i in range(len(pcaa_results.metastable_sets)):\n",
    "    for j in pcaa_results.metastable_sets[i]:\n",
    "        assignments[i].append(msm.stationary_distribution[j])\n",
    "    print(\n",
    "        f\"{colours[i]} has {len(assignments[i])} counts and {round(sum(assignments[i])*100, 2)}% probability\"\n",
    "    )"
   ]
  },
  {
   "cell_type": "code",
   "execution_count": null,
   "metadata": {},
   "outputs": [],
   "source": [
    "fig, ax = plt.subplots(1)\n",
    "for i in range(2):\n",
    "    x = clusters.clustercenters[pcaa_results.metastable_sets[i]][:, 0]\n",
    "    y = clusters.clustercenters[pcaa_results.metastable_sets[i]][:, 1]\n",
    "    ax.scatter(x, y, c=colours[i])\n",
    "ax.set_ylabel(\"distance\")\n",
    "ax.set_xlabel(\"RMSD\")"
   ]
  },
  {
   "cell_type": "markdown",
   "metadata": {},
   "source": [
    "This illustrates which of the 100 states that were used for the MSM belongs to which metastable state, and the probabilities of each. Knowing how the features selected relate to the activity of PTP1B, the above information can be combined to a nice visual (retaining the same colouring):\n",
    "\n",
    "<img src=\"figures/msm-final.png\" width=500>"
   ]
  },
  {
   "cell_type": "code",
   "execution_count": null,
   "metadata": {},
   "outputs": [],
   "source": []
  }
 ],
 "metadata": {
  "kernelspec": {
   "display_name": "Python 3 (ipykernel)",
   "language": "python",
   "name": "python3"
  },
  "language_info": {
   "codemirror_mode": {
    "name": "ipython",
    "version": 3
   },
   "file_extension": ".py",
   "mimetype": "text/x-python",
   "name": "python",
   "nbconvert_exporter": "python",
   "pygments_lexer": "ipython3"
  }
 },
 "nbformat": 4,
 "nbformat_minor": 4
}
