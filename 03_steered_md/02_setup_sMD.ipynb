{
 "cells": [
  {
   "cell_type": "markdown",
   "id": "6956b29a",
   "metadata": {},
   "source": [
    "# Steered MD in BioSimSpace"
   ]
  },
  {
   "cell_type": "markdown",
   "id": "321cd51d",
   "metadata": {},
   "source": [
    "This notebook covers the setup of steered MD simulations using BioSimSpace. Simpler simulations with a single CV and multiple CV steering protocols are both included."
   ]
  },
  {
   "cell_type": "markdown",
   "id": "230c17f3",
   "metadata": {},
   "source": [
    "### Maintainers\n",
    "* Adele Hardie -- adele.hardie@ed.ac.uk (AdeleHardie)\n",
    "\n",
    "### Prerequisites\n",
    "* BioSimSpace\n",
    "* AMBER or GROMACS compiled with PLUMED\n",
    "\n",
    "### Table of Contents\n",
    "1. [Set up sMD - single CV](#Set-up-sMD---single-CV)\n",
    "2. [Set up sMD - multi CV](#2-Set-up-sMD---multiple-CVs)\n",
    "3. [Run sMD](#3-Run-sMD)\n",
    "\n",
    "**<span style=\"color:black\">Jupyter Cheat Sheet</span>**\n",
    "- To run the currently highlighted cell and move focus to the next cell, hold <kbd>&#x21E7; Shift</kbd> and press <kbd>&#x23ce; Enter</kbd>;\n",
    "- To run the currently highlighted cell and keep focus in the same cell, hold <kbd>&#x21E7; Ctrl</kbd> and press <kbd>&#x23ce; Enter</kbd>;\n",
    "- To get help for a specific function, place the cursor within the function's brackets, hold <kbd>&#x21E7; Shift</kbd>, and press <kbd>&#x21E5; Tab</kbd>;\n",
    "\n",
    "### Link to documentation:\n",
    "You can find the full documentation at [biosimspace.org](https://biosimspace.org)."
   ]
  },
  {
   "cell_type": "markdown",
   "id": "6600b8e8",
   "metadata": {},
   "source": [
    "## 1 Set up sMD - single CV"
   ]
  },
  {
   "cell_type": "markdown",
   "id": "6a64816c",
   "metadata": {},
   "source": [
    "Running steered MD in BioSimSpace is very similar to regular simulations already covered. It only requires some more preparation for interfacing with PLUMED, the software that takes care of biasing the Hamiltonian."
   ]
  },
  {
   "cell_type": "markdown",
   "id": "73545d48",
   "metadata": {},
   "source": [
    "### 1.1 Setting up the system"
   ]
  },
  {
   "cell_type": "markdown",
   "id": "58fe918a",
   "metadata": {},
   "source": [
    "We start by importing the required libraries:"
   ]
  },
  {
   "cell_type": "code",
   "execution_count": null,
   "id": "179b6b2b",
   "metadata": {},
   "outputs": [],
   "source": [
    "import BioSimSpace as BSS\n",
    "import os\n",
    "from shutil import copyfile"
   ]
  },
  {
   "cell_type": "markdown",
   "id": "a65a479b",
   "metadata": {},
   "source": [
    "Load a system with BioSimSpace. This particular system is of PTP1B with the WPD loop open (from PDB entry 2HNP) and has been minimised and equilibrated."
   ]
  },
  {
   "cell_type": "code",
   "execution_count": null,
   "id": "5ffbeb19",
   "metadata": {},
   "outputs": [],
   "source": [
    "system = BSS.IO.readMolecules([\"data/system.prm7\", \"data/system.rst7\"])"
   ]
  },
  {
   "cell_type": "markdown",
   "id": "aa6ee8b1",
   "metadata": {},
   "source": [
    "### 1.2 Creating the CV"
   ]
  },
  {
   "cell_type": "markdown",
   "id": "f715ae59",
   "metadata": {},
   "source": [
    "Steered MD uses a specific CV, which in this case is RMSD of the WPD loop (residues 178-184). To calculate RMSD, we specify a reference structure first:"
   ]
  },
  {
   "cell_type": "code",
   "execution_count": null,
   "id": "1dd62943",
   "metadata": {},
   "outputs": [],
   "source": [
    "reference = BSS.IO.readMolecules(\"data/reference.pdb\").getMolecule(0)"
   ]
  },
  {
   "cell_type": "code",
   "execution_count": null,
   "id": "9f45911c",
   "metadata": {},
   "outputs": [],
   "source": [
    "rmsd_indices = []\n",
    "for residue in reference.getResidues():\n",
    "    if 178 <= residue.index() <= 184:\n",
    "        for atom in residue.getAtoms():\n",
    "            if atom.element() != \"Hydrogen (H, 1)\":\n",
    "                rmsd_indices.append(atom.index())"
   ]
  },
  {
   "cell_type": "code",
   "execution_count": null,
   "id": "c3e5fc61",
   "metadata": {},
   "outputs": [],
   "source": [
    "rmsd_cv = BSS.Metadynamics.CollectiveVariable.RMSD(system, reference, rmsd_indices)"
   ]
  },
  {
   "cell_type": "markdown",
   "id": "58132e63",
   "metadata": {},
   "source": [
    "### 1.3 Setting up a steered MD protocol"
   ]
  },
  {
   "cell_type": "markdown",
   "id": "f9853841",
   "metadata": {},
   "source": [
    "To create a protocol, we need to set up the steering restraints and schedule. As shown in equation 1, steered MD is defined by the expected CV value and the force constant &kappa; at some time *t*. Generally sMD has four stages:\n",
    "\n",
    "| Stage          | Expected end CV | Force constant  |\n",
    "| -------------- | --------------- | --------------- |\n",
    "| 1. start       | initial value   | none            |\n",
    "| 2. apply force | initial value   | specified force |\n",
    "| 3. steering    | target value    | specified force |\n",
    "| 4. relaxation  | target value    | none            |\n",
    "\n",
    "Force is usually applied over a few picoseconds, and the bulk of the simulation is used for steering, i.e. stage 3. We need to specify the end times for these stages:\n"
   ]
  },
  {
   "cell_type": "code",
   "execution_count": null,
   "id": "ee6b2ccc",
   "metadata": {},
   "outputs": [],
   "source": [
    "start = 0 * BSS.Units.Time.nanosecond\n",
    "apply_force = 4 * BSS.Units.Time.picosecond\n",
    "steer = 150 * BSS.Units.Time.nanosecond\n",
    "relax = 152 * BSS.Units.Time.nanosecond"
   ]
  },
  {
   "cell_type": "code",
   "execution_count": null,
   "id": "20bd4dd6",
   "metadata": {},
   "outputs": [],
   "source": [
    "schedule = [start, apply_force, steer, relax]"
   ]
  },
  {
   "cell_type": "markdown",
   "id": "c9e63774",
   "metadata": {},
   "source": [
    "The restraints specify the expected CV value and the force constant ($\\kappa(t)$ and $\\vec{s}_0(t)$) at each step created above."
   ]
  },
  {
   "cell_type": "code",
   "execution_count": null,
   "id": "439f07f8",
   "metadata": {},
   "outputs": [],
   "source": [
    "nm = BSS.Units.Length.nanometer\n",
    "restraint_1 = BSS.Metadynamics.Restraint(rmsd_cv.getInitialValue(), 0)\n",
    "restraint_2 = BSS.Metadynamics.Restraint(rmsd_cv.getInitialValue(), 3500)\n",
    "restraint_3 = BSS.Metadynamics.Restraint(0 * nm, 3500)\n",
    "restraint_4 = BSS.Metadynamics.Restraint(0 * nm, 0)"
   ]
  },
  {
   "cell_type": "code",
   "execution_count": null,
   "id": "a5c7d097",
   "metadata": {},
   "outputs": [],
   "source": [
    "protocol = BSS.Protocol.Steering(\n",
    "    rmsd_cv,\n",
    "    [start, apply_force, steer, relax],\n",
    "    [restraint_1, restraint_2, restraint_3, restraint_4],\n",
    "    runtime=152 * BSS.Units.Time.nanosecond,\n",
    ")"
   ]
  },
  {
   "cell_type": "markdown",
   "id": "78245f6d",
   "metadata": {},
   "source": [
    "### 1.4 A quick look at GROMACS"
   ]
  },
  {
   "cell_type": "markdown",
   "id": "49396cec",
   "metadata": {},
   "source": [
    "We have previously created a protocol for sMD, so all that is needed is to plug it into a GROMACS process"
   ]
  },
  {
   "cell_type": "code",
   "execution_count": null,
   "id": "dae8cf01",
   "metadata": {},
   "outputs": [],
   "source": [
    "process = BSS.Process.Gromacs(system, protocol)"
   ]
  },
  {
   "cell_type": "markdown",
   "id": "14a4a17e",
   "metadata": {},
   "source": [
    "We can have a look at the command arguments that will be used to run this simulation:"
   ]
  },
  {
   "cell_type": "code",
   "execution_count": null,
   "id": "e7fb1b04",
   "metadata": {},
   "outputs": [],
   "source": [
    "process.getArgs()"
   ]
  },
  {
   "cell_type": "markdown",
   "id": "dd23d7a2",
   "metadata": {},
   "source": [
    "The argument `-plumed plumed.dat` tells GROMACS to use PLUMED, looking at the `plumed.dat` file for instructions. This process can be run like any other process you have seen before. All the required files have been created in the `process.workDir()` by BioSimSpace."
   ]
  },
  {
   "cell_type": "markdown",
   "id": "0e07cae2",
   "metadata": {},
   "source": [
    "### 1.5 Steered MD in AMBER"
   ]
  },
  {
   "cell_type": "markdown",
   "id": "5e16152b",
   "metadata": {},
   "source": [
    "Just as with GROMACS, we simply need to create a process in AMBER.\n",
    "\n",
    "<div class=\"alert alert-info\">\n",
    "<b>Note specifying the use of <code>pmemd.cuda</code>. Otherwise, the default executable to run sMD will be <code>sander</code> and GPU optimisation will not be used.</b>\n",
    "</div>"
   ]
  },
  {
   "cell_type": "code",
   "execution_count": null,
   "id": "397a49e0",
   "metadata": {},
   "outputs": [],
   "source": [
    "process = BSS.Process.Amber(\n",
    "    system, protocol, exe=f'{os.environ[\"AMBERHOME\"]}/bin/pmemd.cuda'\n",
    ")"
   ]
  },
  {
   "cell_type": "markdown",
   "id": "bd1e9e3f",
   "metadata": {},
   "source": [
    "Check the configuration of the process:"
   ]
  },
  {
   "cell_type": "code",
   "execution_count": null,
   "id": "d8ab7166",
   "metadata": {},
   "outputs": [],
   "source": [
    "process.getConfig()"
   ]
  },
  {
   "cell_type": "markdown",
   "id": "77d2b36f",
   "metadata": {},
   "source": [
    "The lines `plumed=1` and `plumedfile=\"plumed.in\"` are what specify that PLUMED will be used. The process can now be started to run steered MD."
   ]
  },
  {
   "cell_type": "markdown",
   "id": "2ebe94d1",
   "metadata": {},
   "source": [
    "## 2 Set up sMD - multiple CVs"
   ]
  },
  {
   "cell_type": "markdown",
   "id": "ee25c745",
   "metadata": {},
   "source": [
    "The above setup example uses one collective variable - the RMSD of the WPD loop. However, there may be need for more complicated steering protocols, involving multiple CVs. Below we set up an sMD protocol using the previous rmsd CV, but also adding a torsion and a distance CVs (the start and end values for these come from behaviour observed in previous MD simulations)."
   ]
  },
  {
   "cell_type": "markdown",
   "id": "4127b67b",
   "metadata": {},
   "source": [
    "### 2.1 Torsion CV"
   ]
  },
  {
   "cell_type": "markdown",
   "id": "1711b496",
   "metadata": {},
   "source": [
    "We will be adding the $\\chi$ 1 angle of Tyr152 to the steering protocol. Tyr152 is suggested to be part of the PTP1B allosteric network. When the WPD loop is open (blue), it exists in both \"up\" and \"down\" rotamers, but when it is closed (orange), Tyr152 exists in the \"down\" rotamer only.\n",
    "\n",
    "<img src=\"figures/tyr152.png\" width=250>"
   ]
  },
  {
   "cell_type": "code",
   "execution_count": null,
   "id": "5d5b4eea",
   "metadata": {},
   "outputs": [],
   "source": [
    "torsion_indices = []\n",
    "for atom in system.getMolecule(0).getResidues()[152].getAtoms():\n",
    "    if atom.name() in [\"N\", \"CA\", \"CB\", \"CG\"]:\n",
    "        torsion_indices.append(atom.index())"
   ]
  },
  {
   "cell_type": "code",
   "execution_count": null,
   "id": "c12229ca",
   "metadata": {},
   "outputs": [],
   "source": [
    "torsion_cv = BSS.Metadynamics.CollectiveVariable.Torsion(torsion_indices)"
   ]
  },
  {
   "cell_type": "markdown",
   "id": "d0c527ad",
   "metadata": {},
   "source": [
    "### 2.2 Distance CV"
   ]
  },
  {
   "cell_type": "markdown",
   "id": "3598e5d8",
   "metadata": {},
   "source": [
    "Another component of the allosteric network of PTP1B is the stacking of Phe196 to Phe280. These residues are $\\pi$-stacked when the WPD loop is closed (orange) and apart when it is open (blue).\n",
    "\n",
    "<img src=\"figures/phe196.png\" width=250>\n",
    "\n",
    "This stacking will be expressed as the distance between the C$\\gamma$ atoms the the residues."
   ]
  },
  {
   "cell_type": "code",
   "execution_count": null,
   "id": "3c2d78bb",
   "metadata": {},
   "outputs": [],
   "source": [
    "distance_indices = []\n",
    "for residue in system.getMolecule(0).getResidues():\n",
    "    if residue.index() == 196 or residue.index() == 280:\n",
    "        for atom in residue.getAtoms():\n",
    "            if atom.name() == \"CG\":\n",
    "                distance_indices.append(atom.index())\n",
    "                break\n",
    "\n",
    "distance_cv = BSS.Metadynamics.CollectiveVariable.Distance(\n",
    "    distance_indices[0], distance_indices[1]\n",
    ")"
   ]
  },
  {
   "cell_type": "markdown",
   "id": "4fdca011",
   "metadata": {},
   "source": [
    "### 2.3 Creating the protocol"
   ]
  },
  {
   "cell_type": "markdown",
   "id": "8a68ee7d",
   "metadata": {},
   "source": [
    "The restraints now have to include target values for all CVs involved at each point in the schedule."
   ]
  },
  {
   "cell_type": "code",
   "execution_count": null,
   "id": "d9f0110a",
   "metadata": {},
   "outputs": [],
   "source": [
    "nm = BSS.Units.Length.nanometer\n",
    "rad = BSS.Units.Angle.radian"
   ]
  },
  {
   "cell_type": "code",
   "execution_count": null,
   "id": "f69beffb",
   "metadata": {},
   "outputs": [],
   "source": [
    "restraints = [\n",
    "    [\n",
    "        BSS.Metadynamics.Restraint(rmsd_cv.getInitialValue(), 0),\n",
    "        BSS.Metadynamics.Restraint(1.1 * rad, 0),\n",
    "        BSS.Metadynamics.Restraint(0.56 * nm, 0),\n",
    "    ],  # initial\n",
    "    [\n",
    "        BSS.Metadynamics.Restraint(rmsd_cv.getInitialValue(), 3500),\n",
    "        BSS.Metadynamics.Restraint(1.1 * rad, 3500),\n",
    "        BSS.Metadynamics.Restraint(0.56 * nm, 3500),\n",
    "    ],  # apply force\n",
    "    [\n",
    "        BSS.Metadynamics.Restraint(0 * nm, 3500),\n",
    "        BSS.Metadynamics.Restraint(1.1 * rad, 3500),\n",
    "        BSS.Metadynamics.Restraint(0.4 * nm, 3500),\n",
    "    ],  # steering\n",
    "    [\n",
    "        BSS.Metadynamics.Restraint(0 * nm, 0),\n",
    "        BSS.Metadynamics.Restraint(1.1 * rad, 0),\n",
    "        BSS.Metadynamics.Restraint(0.4 * nm, 0),\n",
    "    ],\n",
    "]  # release force"
   ]
  },
  {
   "cell_type": "markdown",
   "id": "ffc788c2",
   "metadata": {},
   "source": [
    "When creating the `protocol`, all CVs are passed as a list.\n",
    "\n",
    "<div class=\"alert alert-info\">\n",
    "<b>The order of the CVs when creating the protocol needs to match the order of the restraints above.</b>\n",
    "</div>"
   ]
  },
  {
   "cell_type": "code",
   "execution_count": null,
   "id": "b565ce15",
   "metadata": {},
   "outputs": [],
   "source": [
    "protocol = BSS.Protocol.Steering(\n",
    "    [rmsd_cv, torsion_cv, distance_cv],\n",
    "    schedule,\n",
    "    restraints,\n",
    "    runtime=relax,\n",
    "    report_interval=2500,\n",
    "    restart_interval=2500,\n",
    ")"
   ]
  },
  {
   "cell_type": "code",
   "execution_count": null,
   "id": "fe3a6449",
   "metadata": {},
   "outputs": [],
   "source": [
    "process = BSS.Process.Amber(\n",
    "    system, protocol, exe=f'{os.environ[\"AMBERHOME\"]}/bin/pmemd.cuda'\n",
    ")"
   ]
  },
  {
   "cell_type": "markdown",
   "id": "e5b7b119",
   "metadata": {},
   "source": [
    "We can check the contents of the PLUMED file that BioSimSpace has created:"
   ]
  },
  {
   "cell_type": "code",
   "execution_count": null,
   "id": "c69caea2",
   "metadata": {},
   "outputs": [],
   "source": [
    "for line in process.getPlumedConfig():\n",
    "    print(line)"
   ]
  },
  {
   "cell_type": "markdown",
   "id": "1e4f4d68",
   "metadata": {},
   "source": [
    "The `ARG` line specifies 3 CVs, which will all be used for steering."
   ]
  },
  {
   "cell_type": "markdown",
   "id": "8a5b366d",
   "metadata": {},
   "source": [
    "## 3 Run sMD"
   ]
  },
  {
   "cell_type": "markdown",
   "id": "6862fac3",
   "metadata": {},
   "source": [
    "The process can be run in the notebook:"
   ]
  },
  {
   "cell_type": "code",
   "execution_count": null,
   "id": "092aa1a7",
   "metadata": {},
   "outputs": [],
   "source": [
    "process.start()"
   ]
  },
  {
   "cell_type": "markdown",
   "id": "345a2fef",
   "metadata": {},
   "source": [
    "Otherwise, there are example python scripts provided to run both the [single](scripts/sMD_simple.py) and [multi](scripts/sMD_multiCV.py) CV sMD simulations as outlined above."
   ]
  }
 ],
 "metadata": {
  "kernelspec": {
   "display_name": "Python 3 (ipykernel)",
   "language": "python",
   "name": "python3"
  },
  "language_info": {
   "codemirror_mode": {
    "name": "ipython",
    "version": 3
   },
   "file_extension": ".py",
   "mimetype": "text/x-python",
   "name": "python",
   "nbconvert_exporter": "python",
   "pygments_lexer": "ipython3"
  },
  "vscode": {
   "interpreter": {
    "hash": "2e311702793db1e2cbdbca1b4af01943df9920d13b5c28949f5d0bcf0a016590"
   }
  }
 },
 "nbformat": 4,
 "nbformat_minor": 5
}
