{
 "cells": [
  {
   "cell_type": "markdown",
   "id": "6956b29a",
   "metadata": {},
   "source": [
    "# Steered MD in BioSimSpace"
   ]
  },
  {
   "cell_type": "markdown",
   "id": "7e8aebb6",
   "metadata": {},
   "source": [
    "Allosteric inhibition can be a useful alternative to conventional protein targeting when the nature of the active site makes it difficult to design binders. One of such proteins is protein tyrosine phosphatase 1B (PTP1B), which will be used as an example system for this tutorial. The activity of PTP1B depends on the conformation of its WPD loop, which can be open (yellow) or closed (red):\n",
    "\n",
    "<img src=\"figures/open-close.png\" width=300>\n",
    "\n",
    "PTP1B is difficult to drug due to the charged nature of its active site, and so is of interest for allosteric inhibition studies. However, with allostery, knowing that a molecule binds to the protein is  not enough. It also requires  assessment  of  whether  an  allosteric  binder  actually  has  an  effect  on protein function. This can be assessed by Markov State Models(MSMs). MSMs are transition matrixes that provide insight into the statistical ensemble of protein conformations, such as what is the probability that a protein will exist in a certain conormation. Comparing the probability of the target protein being catalytically active between models with and without an allsoteric binder indicates whether or not it has potential as an inhibitor. Furthermore, since the system is treated as memoryless, model building only requires local equilibrium. Therefore, it can make use of shorter MD simulations, allowing them to be run in parallel.\n",
    "\n",
    "In order to have a more complete view of the protein ensemble, enhanced sampling methods are used, among them steered MD (sMD) (1). It introduces a bias potential that is added to the Hamiltonian, thus biasing the simulation towards a specified value of a chosen collective variable. Once the system has reached a certain conformation, those coordinates (2) can be used as starting points for equilibrium MD simulations (4) that can subsequently be used as data for constructing an MSM (4). An example summary of this is shown below:\n",
    "\n",
    "<img src=\"figures/ensemble-md-protocol.png\" width=450>\n",
    "\n",
    "PLUMED is a library that, among other things, has enhanced sampling algorithms. It works with multiple MD engines, including GROMACS and AMBER. PLUMED uses a [moving restraint](https://www.plumed.org/doc-v2.5/user-doc/html/_m_o_v_i_n_g_r_e_s_t_r_a_i_n_t.html) that is calculated as follows:\n",
    "\n",
    "$V(\\vec{s},t) = \\frac{1}{2} \\kappa(t) ( \\vec{s} - \\vec{s}_0(t) )^2$     (Eq. 1)\n",
    "\n",
    "where $\\vec{s}_0$ and $\\kappa$ are time dependent and specified in the PLUMED input. $\\vec{s}_0$ is the target CV value and $\\kappa$ is the force constant in kJ mol$^{-1}$. The values of both of them are set at specific steps, and linearly interpolated in between.\n",
    "\n",
    "This tutorial focuses on running the prerequisite simulations for MSMs using BioSimSpace."
   ]
  },
  {
   "cell_type": "markdown",
   "id": "6600b8e8",
   "metadata": {},
   "source": [
    "## Set up sMD - single CV"
   ]
  },
  {
   "cell_type": "markdown",
   "id": "6a64816c",
   "metadata": {},
   "source": [
    "Running steered MD in BioSimSpace is very similar to regular simulations already covered. It only requires some more preparation for interfacing with PLUMED, the software that takes care of biasing the Hamiltonian."
   ]
  },
  {
   "cell_type": "markdown",
   "id": "73545d48",
   "metadata": {},
   "source": [
    "#### Setting up the system"
   ]
  },
  {
   "cell_type": "markdown",
   "id": "58fe918a",
   "metadata": {},
   "source": [
    "We start by importing the required libraries:"
   ]
  },
  {
   "cell_type": "code",
   "execution_count": null,
   "id": "179b6b2b",
   "metadata": {},
   "outputs": [],
   "source": [
    "import BioSimSpace as BSS\n",
    "import os\n",
    "from shutil import copyfile"
   ]
  },
  {
   "cell_type": "markdown",
   "id": "a65a479b",
   "metadata": {},
   "source": [
    "Load a system with BioSimSpace. This particular system is of PTP1B with the WPD loop open (from PDB entry 2HNP) and has been minimised and equilibrated."
   ]
  },
  {
   "cell_type": "code",
   "execution_count": null,
   "id": "5ffbeb19",
   "metadata": {},
   "outputs": [],
   "source": [
    "system = BSS.IO.readMolecules(['data/system.prm7', 'data/system.rst7'])"
   ]
  },
  {
   "cell_type": "markdown",
   "id": "aa6ee8b1",
   "metadata": {},
   "source": [
    "#### Creating the CV"
   ]
  },
  {
   "cell_type": "markdown",
   "id": "f715ae59",
   "metadata": {},
   "source": [
    "Steered MD uses a specific CV, which in this case is RMSD of the WPD loop (residues 178-184). To calculate RMSD, we specify a reference structure first:"
   ]
  },
  {
   "cell_type": "code",
   "execution_count": null,
   "id": "1dd62943",
   "metadata": {},
   "outputs": [],
   "source": [
    "reference = BSS.IO.readMolecules('data/reference.pdb').getMolecule(0)"
   ]
  },
  {
   "cell_type": "code",
   "execution_count": null,
   "id": "9f45911c",
   "metadata": {},
   "outputs": [],
   "source": [
    "rmsd_indices = []\n",
    "for residue in reference.getResidues():\n",
    "    if 178<=residue.index()<=184:\n",
    "        for atom in residue.getAtoms():\n",
    "            if atom.element()!='Hydrogen (H, 1)':\n",
    "                rmsd_indices.append(atom.index())"
   ]
  },
  {
   "cell_type": "code",
   "execution_count": null,
   "id": "c3e5fc61",
   "metadata": {},
   "outputs": [],
   "source": [
    "rmsd_cv = BSS.Metadynamics.CollectiveVariable.RMSD(system, reference, rmsd_indices)"
   ]
  },
  {
   "cell_type": "markdown",
   "id": "58132e63",
   "metadata": {},
   "source": [
    "#### Setting up a steered MD protocol"
   ]
  },
  {
   "cell_type": "markdown",
   "id": "f9853841",
   "metadata": {},
   "source": [
    "To create a protocol, we need to set up the steering restraints and schedule. As shown in equation 1, steered MD is defined by the expected CV value and the force constant &kappa; at some time *t*. Generally sMD has four stages:\n",
    "\n",
    "| Stage          | Expected end CV | Force constant  |\n",
    "| -------------- | --------------- | --------------- |\n",
    "| 1. start       | initial value   | none            |\n",
    "| 2. apply force | initial value   | specified force |\n",
    "| 3. steering    | target value    | specified force |\n",
    "| 4. relaxation  | target value    | none            |\n",
    "\n",
    "Force is usually applied over a few picoseconds, and the bulk of the simulation is used for steering, i.e. stage 3. We need to specify the end times for these stages:\n"
   ]
  },
  {
   "cell_type": "code",
   "execution_count": null,
   "id": "ee6b2ccc",
   "metadata": {},
   "outputs": [],
   "source": [
    "start = 0* BSS.Units.Time.nanosecond\n",
    "apply_force = 4 * BSS.Units.Time.picosecond\n",
    "steer = 150 * BSS.Units.Time.nanosecond\n",
    "relax = 152 * BSS.Units.Time.nanosecond"
   ]
  },
  {
   "cell_type": "code",
   "execution_count": null,
   "id": "20bd4dd6",
   "metadata": {},
   "outputs": [],
   "source": [
    "schedule = [start, apply_force, steer, relax]"
   ]
  },
  {
   "cell_type": "markdown",
   "id": "c9e63774",
   "metadata": {},
   "source": [
    "The restraints specify the expected CV value and the force constant ($\\kappa(t)$ and $\\vec{s}_0(t)$) at each step created above."
   ]
  },
  {
   "cell_type": "code",
   "execution_count": null,
   "id": "439f07f8",
   "metadata": {},
   "outputs": [],
   "source": [
    "nm = BSS.Units.Length.nanometer\n",
    "restraint_1 = BSS.Metadynamics.Restraint(rmsd_cv.getInitialValue(), 0)\n",
    "restraint_2 = BSS.Metadynamics.Restraint(rmsd_cv.getInitialValue(), 3500)\n",
    "restraint_3 = BSS.Metadynamics.Restraint(0*nm, 3500)\n",
    "restraint_4 = BSS.Metadynamics.Restraint(0*nm, 0)"
   ]
  },
  {
   "cell_type": "code",
   "execution_count": null,
   "id": "a5c7d097",
   "metadata": {},
   "outputs": [],
   "source": [
    "protocol = BSS.Protocol.Steering(rmsd_cv, [start, apply_force, steer, relax], [restraint_1, restraint_2, restraint_3, restraint_4], runtime=152*BSS.Units.Time.nanosecond)"
   ]
  },
  {
   "cell_type": "markdown",
   "id": "78245f6d",
   "metadata": {},
   "source": [
    "#### A quick look at GROMACS"
   ]
  },
  {
   "cell_type": "markdown",
   "id": "49396cec",
   "metadata": {},
   "source": [
    "We have previously created a protocol for sMD, so all that is needed is to plug it into a GROMACS process"
   ]
  },
  {
   "cell_type": "code",
   "execution_count": null,
   "id": "dae8cf01",
   "metadata": {},
   "outputs": [],
   "source": [
    "process = BSS.Process.Gromacs(system, protocol)"
   ]
  },
  {
   "cell_type": "markdown",
   "id": "14a4a17e",
   "metadata": {},
   "source": [
    "We can have a look at the command arguments that will be used to run this simulation:"
   ]
  },
  {
   "cell_type": "code",
   "execution_count": null,
   "id": "e7fb1b04",
   "metadata": {},
   "outputs": [],
   "source": [
    "process.getArgs()"
   ]
  },
  {
   "cell_type": "markdown",
   "id": "dd23d7a2",
   "metadata": {},
   "source": [
    "The argument `-plumed plumed.dat` tells GROMACS to use PLUMED, looking at the `plumed.dat` file for instructions. This process can be run like any other process you have seen before. All the required files have been created in the `process.workDir()` by BioSimSpace."
   ]
  },
  {
   "cell_type": "markdown",
   "id": "0e07cae2",
   "metadata": {},
   "source": [
    "#### Steered MD in AMBER"
   ]
  },
  {
   "cell_type": "markdown",
   "id": "5e16152b",
   "metadata": {},
   "source": [
    "Just as with GROMACS, we simply need to create a process in AMBER (note specifying the use of pmemd.cuda):"
   ]
  },
  {
   "cell_type": "code",
   "execution_count": null,
   "id": "397a49e0",
   "metadata": {},
   "outputs": [],
   "source": [
    "process = BSS.Process.Amber(system, protocol, exe=f'{os.environ[\"AMBERHOME\"]}/bin/pmemd.cuda')"
   ]
  },
  {
   "cell_type": "markdown",
   "id": "bd1e9e3f",
   "metadata": {},
   "source": [
    "Check the configuration of the process:"
   ]
  },
  {
   "cell_type": "code",
   "execution_count": null,
   "id": "d8ab7166",
   "metadata": {},
   "outputs": [],
   "source": [
    "process.getConfig()"
   ]
  },
  {
   "cell_type": "markdown",
   "id": "77d2b36f",
   "metadata": {},
   "source": [
    "The lines `plumed=1` and `plumedfile=\"plumed.in\"` are what specify that PLUMED will be used. The process can now be started to run steered MD."
   ]
  },
  {
   "cell_type": "markdown",
   "id": "2ebe94d1",
   "metadata": {},
   "source": [
    "## Set up sMD - multiple CVs"
   ]
  },
  {
   "cell_type": "markdown",
   "id": "ee25c745",
   "metadata": {},
   "source": [
    "The above setup example uses one collective variable - the RMSD of the WPD loop. However, there may be need for more complicated steering protocols, involving multiple CVs. Below we set up an sMD protocol using the previous rmsd CV, but also adding a torsion and a distance CVs."
   ]
  },
  {
   "cell_type": "markdown",
   "id": "4127b67b",
   "metadata": {},
   "source": [
    "#### Torsion CV"
   ]
  },
  {
   "cell_type": "markdown",
   "id": "1711b496",
   "metadata": {},
   "source": [
    "We will be adding the $\\chi$ 1 angle of Tyr152 to the steering protocol. Tyr152 is suggested to be part of the PTP1B allosteric network. When the WPD loop is open (blue), it exists in both \"up\" and \"down\" rotamers, but when it is closed (orange), Tyr152 exists in the \"down\" rotamer only.\n",
    "\n",
    "<img src=\"figures/tyr152.png\" width=250>"
   ]
  },
  {
   "cell_type": "code",
   "execution_count": null,
   "id": "5d5b4eea",
   "metadata": {},
   "outputs": [],
   "source": [
    "torsion_indices = []\n",
    "for atom in system.getMolecule(0).getResidues()[152].getAtoms():\n",
    "    if atom.name() in ['N', 'CA', 'CB', 'CG']:\n",
    "        torsion_indices.append(atom.index())"
   ]
  },
  {
   "cell_type": "code",
   "execution_count": null,
   "id": "c12229ca",
   "metadata": {},
   "outputs": [],
   "source": [
    "torsion_cv = BSS.Metadynamics.CollectiveVariable.Torsion(torsion_indices)"
   ]
  },
  {
   "cell_type": "markdown",
   "id": "d0c527ad",
   "metadata": {},
   "source": [
    "#### Distance CV"
   ]
  },
  {
   "cell_type": "markdown",
   "id": "3598e5d8",
   "metadata": {},
   "source": [
    "Another component of the allosteric network of PTP1B is the stacking of Phe196 to Phe280. These residues are $\\pi$-stacked when the WPD loop is closed (orange) and apart when it is open (blue).\n",
    "\n",
    "<img src=\"figures/phe196.png\" width=250>\n",
    "\n",
    "This stacking will be expressed as the distance between the C$\\gamma$ atoms the the residues."
   ]
  },
  {
   "cell_type": "code",
   "execution_count": null,
   "id": "3c2d78bb",
   "metadata": {},
   "outputs": [],
   "source": [
    "distance_indices = []\n",
    "for residue in system.getMolecule(0).getResidues():\n",
    "    if residue.index() == 196 or residue.index() == 280:\n",
    "        for atom in residue.getAtoms():\n",
    "            if atom.name() == 'CG':\n",
    "                distance_indices.append(atom.index())\n",
    "                break\n",
    "\n",
    "distance_cv = BSS.Metadynamics.CollectiveVariable.Distance(distance_indices[0], distance_indices[1])"
   ]
  },
  {
   "cell_type": "markdown",
   "id": "4fdca011",
   "metadata": {},
   "source": [
    "#### Creating the protocol"
   ]
  },
  {
   "cell_type": "markdown",
   "id": "8a68ee7d",
   "metadata": {},
   "source": [
    "The restraints now have to include target values for all CVs involved at each point in the schedule."
   ]
  },
  {
   "cell_type": "code",
   "execution_count": null,
   "id": "d9f0110a",
   "metadata": {},
   "outputs": [],
   "source": [
    "nm = BSS.Units.Length.nanometer\n",
    "rad = BSS.Units.Angle.radian"
   ]
  },
  {
   "cell_type": "code",
   "execution_count": null,
   "id": "f69beffb",
   "metadata": {},
   "outputs": [],
   "source": [
    "restraints = [[BSS.Metadynamics.Restraint(rmsd_cv.getInitialValue(), 0), BSS.Metadynamics.Restraint(1.1*rad, 0), BSS.Metadynamics.Restraint(0.56*nm, 0)], # initial\n",
    "              [BSS.Metadynamics.Restraint(rmsd_cv.getInitialValue(), 3500), BSS.Metadynamics.Restraint(1.1*rad, 3500), BSS.Metadynamics.Restraint(0.56*nm, 3500)], # apply force\n",
    "              [BSS.Metadynamics.Restraint(0*nm, 3500), BSS.Metadynamics.Restraint(1.1*rad, 3500), BSS.Metadynamics.Restraint(0.4*nm, 3500)], # steering\n",
    "              [BSS.Metadynamics.Restraint(0*nm, 0), BSS.Metadynamics.Restraint(1.1*rad, 0), BSS.Metadynamics.Restraint(0.4*nm, 0)]] # release force"
   ]
  },
  {
   "cell_type": "markdown",
   "id": "ffc788c2",
   "metadata": {},
   "source": [
    "When creating the `protocol`, all CVs are passed as a list:"
   ]
  },
  {
   "cell_type": "code",
   "execution_count": null,
   "id": "b565ce15",
   "metadata": {},
   "outputs": [],
   "source": [
    "protocol = BSS.Protocol.Steering([rmsd_cv, torsion_cv, distance_cv], schedule, restraints, runtime=relax,\n",
    "                                 report_interval=2500, restart_interval=2500)"
   ]
  },
  {
   "cell_type": "code",
   "execution_count": null,
   "id": "fe3a6449",
   "metadata": {},
   "outputs": [],
   "source": [
    "process = BSS.Process.Amber(system, protocol, exe=f'{os.environ[\"AMBERHOME\"]}/bin/pmemd.cuda')"
   ]
  },
  {
   "cell_type": "markdown",
   "id": "e5b7b119",
   "metadata": {},
   "source": [
    "We can check the contents of the PLUMED file that BioSimSpace has created:"
   ]
  },
  {
   "cell_type": "code",
   "execution_count": null,
   "id": "c69caea2",
   "metadata": {},
   "outputs": [],
   "source": [
    "for line in process.getPlumedConfig():\n",
    "    print(line)"
   ]
  },
  {
   "cell_type": "markdown",
   "id": "1e4f4d68",
   "metadata": {},
   "source": [
    "The `ARG` line specifies 3 CVs, which will all be used for steering."
   ]
  },
  {
   "cell_type": "markdown",
   "id": "6862fac3",
   "metadata": {},
   "source": [
    "The process can be run with `process.start()`"
   ]
  },
  {
   "cell_type": "code",
   "execution_count": null,
   "id": "092aa1a7",
   "metadata": {},
   "outputs": [],
   "source": []
  }
 ],
 "metadata": {
  "kernelspec": {
   "display_name": "Python 3 (ipykernel)",
   "language": "python",
   "name": "python3"
  },
  "language_info": {
   "codemirror_mode": {
    "name": "ipython",
    "version": 3
   },
   "file_extension": ".py",
   "mimetype": "text/x-python",
   "name": "python",
   "nbconvert_exporter": "python",
   "pygments_lexer": "ipython3",
   "version": "3.9.16"
  },
  "vscode": {
   "interpreter": {
    "hash": "2e311702793db1e2cbdbca1b4af01943df9920d13b5c28949f5d0bcf0a016590"
   }
  }
 },
 "nbformat": 4,
 "nbformat_minor": 5
}
