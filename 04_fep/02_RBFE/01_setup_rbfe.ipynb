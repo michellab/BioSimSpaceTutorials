{
    "cells": [
        {
            "cell_type": "markdown",
            "metadata": {},
            "source": [
                "# Relative Binding Free Energy (RBFE) Network Tutorial - Setup\n",
                "\n",
                "This Jupyter notebook is a tutorial on a setup workflow for RBFE calculations using a Free Energy Perturbation (FEP) network with BioSimSpace.    \n",
                "\n",
                "This notebook includes core as well as <span style=\"color:teal\">extra</span> options. To ensure you have time to complete all notebooks, **we strongly recommend that you work through the notebooks to the end before returning to complete the extra sections**. These extra sections are also there to include some more functionality for when the concepts of these tutorials are applied to your own work.  \n",
                "\n",
                "**<span style=\"color:teal\">Reading Time:</span>**\n",
                "~ 30 mins\n",
                "\n",
                "### Maintainers\n",
                "- [Anna Herz -- @annamherz](https://github.com/annamherz)\n",
                "\n",
                "See [README.md](https://github.com/michellab/BioSimSpaceTutorials/blob/main/04_fep/README.md) for complete list of authors.\n",
                "\n",
                "### Prerequisites\n",
                " - Basic Python\n",
                " - Part 1 of this workshop (An Introduction to setting up alchemical free energy calculations)\n",
                "    - this should include basic knowledge of the principles behind RBFE\n",
                "\n",
                "### Learning Objectives\n",
                " - Setup an FEP pipeline using BioSimSpace and SOMD.\n",
                " - Understanding the scripts for running the pipeline on a cluster.\n",
                "\n",
                "### Table of Contents\n",
                "1. [Introduction](#intro)       \n",
                "    1.1 [The system: TYK2](#tyk2)     \n",
                "2. [Setup](#setup)   \n",
                "    2.1 [Choosing the parameters](#parameters)     \n",
                "    2.2 [Setting up the network](#perts)    \n",
                "    2.3 [Protein parameterisation](#prot)    \n",
                "    2.4 [Preparing for the pipeline](#loading)     \n",
                "3. [Parallelisation](#loading)     \n",
                "\n",
                "### Further reading for this topic\n",
                "- [LiveComs Best Practices for Alchemical Free Energy Calculations](https://livecomsjournal.org/index.php/livecoms/article/view/v2i1e18378).\n",
                "\n",
                "**<span style=\"color:black\">Jupyter Cheat Sheet</span>**\n",
                "- To run the currently highlighted cell and move focus to the next cell, hold <kbd>&#x21E7; Shift</kbd> and press <kbd>&#x23ce; Enter</kbd>;\n",
                "- To run the currently highlighted cell and keep focus in the same cell, hold <kbd>&#x21E7; ctrl</kbd> and press <kbd>&#x23ce; Enter</kbd>;\n",
                "- To get help for a specific function, place the cursor within the function's brackets, hold <kbd>&#x21E7; Shift</kbd>, and press <kbd>&#x21E5; Tab</kbd>;\n",
                "- You can find the full documentation at [biosimspace.org](https://biosimspace.org).\n",
                "\n",
                "You can use `!` to access terminal commands: e.g. `! head -n 20 myfilename.dat` will display the first 20 lines of a file. \n",
                "\n",
                "\n",
                "### Exercises\n",
                "Exercises are announced using an alert alert-success box in this way:\n",
                "<div class=\"alert alert-success\">\n",
                "<b>Exercise 1.1: Write a function that computes bond lengths:</b>\n",
                "</div>\n",
                "and followed by an incomplete cell. All exercises should be numbered. \n",
                "Missing parts are indicated by:\n",
                "\n",
                "```python\n",
                "#FIXME\n",
                "```\n",
                "These are included whilst running through the workshops and also in dedicated sections.   \n"
            ]
        },
        {
            "cell_type": "markdown",
            "metadata": {},
            "source": [
                "## Let's get started\n",
                "\n",
                "Below, we will import the neccessary libraries and also define all the folder locations for our run. This ensures that all of our files are written to where we want them to be.\n"
            ]
        },
        {
            "cell_type": "code",
            "execution_count": null,
            "metadata": {},
            "outputs": [],
            "source": [
                "# import libraries\n",
                "import BioSimSpace as BSS\n",
                "import os\n",
                "import glob\n",
                "import csv\n",
                "import numpy as np\n",
                "import networkx as nx\n",
                "import matplotlib.image as mpimg\n",
                "import matplotlib.pyplot as plt\n",
                "\n",
                "# define all the folder locations\n",
                "main_folder =  os.getcwd()\n",
                "\n",
                "# scripts should be located in:\n",
                "scripts_folder = f\"{main_folder}/scripts\"\n",
                "# other folders\n",
                "input_dir = f\"{main_folder}/inputs\"\n",
                "path_to_ligands = f\"{main_folder}/inputs/ligands\"\n",
                "path_to_protein = f\"{main_folder}/inputs/protein.pdb\""
            ]
        },
        {
            "cell_type": "markdown",
            "metadata": {},
            "source": [
                "## 1. Introduction\n",
                "<a id=\"intro\"></a>\n",
                "\n",
                "Computational chemists can support structure-activity relationship studies in medicinal chemistry by making computer models that can predict binding affinity of ligands to proteins. One of the most popular techniques for this is Free Energy Perturbation (FEP), which relies on simulation alchemical transformations of ligands in a congeneric series, simulating them both in a protein target and in just a waterbox. Relative free energies of binding (ΔΔG in kcal/mol) can then be computed by simply subtracting the ΔG (in protein) and the ΔG (in water). The basics of setting up and running an FEP calculation with BSS have already been covered in the `introduction_to_alchemistry` part of this workshop.\n",
                "\n",
                "In the previous section of the workshop, we only looked at a singular perturbation. However, typically in FEP the goal is to predict free energies of binding for a collection of ligands (normally 10-20). Although methods exist (such as absolute FEP, which is covered in the `absolute_binding_free_energies` part of this workshop) that can predict these energies directly (i.e. ΔGbind), these are often complicated and computationally expensive, whilst relative binding free energies are more accessible to run and give useful results as we are usually considering a congeneric series of ligands. Because we calculate relative energies, we therefore have to transform the between pairs of ligands in both the free and bound phase (hence the name free energy perturbation). Typically, smaller (i.e. fewer heavy atoms) transformations are more reliable, which means that for a ligand series we want to selectively make combinations of ligands to cover the whole series. In RBFE, we do this using perturbation networks, typically generated by FEP softwares. Although generate these networks can be done by hand, it is typically better to do it programmatically to save time and create better networks (transformation reliability does not depend just on transformation size, but also a series of other unfavourable moiety transformations).   \n",
                "\n",
                "In this part of the workshop we will focus on how to setup this network for a series of ligands and also write all files necessary to further prepare FEP simulations. The overall pipeline used is shown in the figure below.   \n",
                "\n",
                "![pipeline](images/fep_pipeline.png)\n",
                "\n",
                "Because preparing ligands and proteins for FEP can already require some heavy computation, this will be the first process that will usually run on a cluster. Then, after running and processing the FEP outputs, the results are usually downloaded back to our local workstation. There, the analysis notebook is used to process FEP predictions and generate plots. As already mentioned, this part of the workshop only focuses on the setup of the pipeline, however how to run these simulations is also explained in more detail at the end of the notebook.\n"
            ]
        },
        {
            "cell_type": "markdown",
            "metadata": {},
            "source": [
                "### 1.1. The system: TYK2\n",
                "<a id=\"tyk2\"></a>\n",
                "\n",
                "For this tutorial we will be using TYK2, a common benchmarking set in the FEP field, first used by Schrödinger in their [2015 FEP+ paper](https://pubs.acs.org/doi/full/10.1021/ja512751q).\n",
                "\n",
                "\n",
                "![tyk2_49](images/tyk2_protlig.png)\n",
                "\n",
                "We can also view this protein below:\n"
            ]
        },
        {
            "cell_type": "code",
            "execution_count": null,
            "metadata": {},
            "outputs": [],
            "source": [
                "BSS.Notebook.View(path_to_protein).system()"
            ]
        },
        {
            "cell_type": "markdown",
            "metadata": {},
            "source": [
                "## 2. Setting up the Network\n",
                "<a id=\"setup\"></a>\n",
                "\n",
                "### 2.1 Choosing the parameters for the FEP runs\n",
                "<a id=\"parameters\"></a>\n",
                "\n",
                "The building blocks provided with BioSimSpace can be used to write interoperable workflow components, or nodes. Typically, a node will perform a single, well-defined, unit of work with clear inputs and outputs. In this simple case here, running the below cell will generate the input nodes that can be used to choose various parameters for the FEP network. More information about Nodes can be found [here](https://biosimspace.org/nodes.html).\n",
                "\n",
                "The node below includes the forcefields used (ligand, protein, water), the number of lambda windows, and the threshold for the LOMAP score. This threshold will be used to define a perturbation as being either 'regular' or 'difficult', and consequently how many lambda windows will be used. Default parameters are selected for all nodes.\n"
            ]
        },
        {
            "cell_type": "code",
            "execution_count": null,
            "metadata": {},
            "outputs": [],
            "source": [
                "node = BSS.Gateway.Node(\"A node to create input files for molecular dynamics simulation.\")\n",
                "\n",
                "node.addInput(\"Ligand FF\", BSS.Gateway.String(help=\"Force field to parameterise ligands with.\",\n",
                "                                             allowed=[\"GAFF1\", \"GAFF2\"],\n",
                "                                             default=\"GAFF2\"))\n",
                "\n",
                "node.addInput(\"Protein FF\", BSS.Gateway.String(help=\"Force field to parameterise the protein with.\",\n",
                "                                             allowed=[\"FF03\", \"FF14SB\", \"FF99\", \"FF99SB\", \"FF99SBILDN\"],\n",
                "                                             default=\"FF14SB\"))\n",
                "\n",
                "node.addInput(\"Water Model\", BSS.Gateway.String(help=\"Water model to use.\",\n",
                "                                             allowed=[\"SPC\", \"SPCE\", \"TIP3P\", \"TIP4P\", \"TIP5P\"],\n",
                "                                             default=\"TIP3P\"))\n",
                "\n",
                "node.addInput(\"Box Edges\", BSS.Gateway.String(help=\"Size of water box around molecular system.\",\n",
                "                                             allowed=[\"20*angstrom\", \"25*angstrom\", \"30*angstrom\", \"35*angstrom\", \"45*angstrom\", \"5*nm\", \"7*nm\", \"10*nm\"],\n",
                "                                             default=\"20*angstrom\"))\n",
                "\n",
                "node.addInput(\"Box Shape\", BSS.Gateway.String(help=\"Geometric shape of water box.\",\n",
                "                                             allowed=[\"cubic\", \"truncatedOctahedron\"],\n",
                "                                             default=\"cubic\"))\n",
                "\n",
                "node.addInput(\"Run Time\", BSS.Gateway.String(help=\"The sampling time per lambda window.\",\n",
                "                                             allowed=[\"10*ps\", \"100*ps\", \"1*ns\", \"2*ns\", \"3*ns\", \"4*ns\", \"5*ns\", \"8*ns\", \"10*ns\", \"12*ns\", \"15*ns\"],\n",
                "                                             default=\"2*ns\"))\n",
                "\n",
                "node.addInput(\"FEP Engine\", BSS.Gateway.String(help=\"Engine to run FEP with.\",\n",
                "                                             allowed=[e.upper() for e in BSS.FreeEnergy.engines()],\n",
                "                                             default=\"SOMD\"))\n",
                "\n",
                "node.addInput(\"LambdaWindows\", BSS.Gateway.String(help=\"The number of lambda windows for regular transformations.\",\n",
                "                                             allowed=[\"3\", \"4\", \"5\", \"6\", \"7\", \"8\", \"9\", \"10\", \"11\", \"12\", \"13\", \"14\", \"15\", \"16\", \"17\", \"18\", \"19\", \"20\"],\n",
                "                                             default=\"11\"))\n",
                "\n",
                "node.addInput(\"DiffLambdaWindows\", BSS.Gateway.String(help=\"The number of lambda windows for difficult transformations.\",\n",
                "                                             allowed=[\"4\", \"5\", \"6\", \"7\", \"8\", \"9\", \"10\", \"11\", \"12\", \"13\", \"14\", \"15\", \"16\", \"17\", \"18\", \"19\", \"20\"],\n",
                "                                             default=\"17\"))\n",
                "                                             \n",
                "node.addInput(\"LOMAP Threshold\", BSS.Gateway.String(help=\"The LOMAP score threshold to define difficult transformations.\",\n",
                "                                             allowed=[\"0.1\", \"0.2\", \"0.3\", \"0.4\", \"0.5\", \"0.6\", \"0.7\", \"0.8\", \"0.9\"],\n",
                "                                             default=\"0.4\"))\n",
                "\n",
                "node.showControls()"
            ]
        },
        {
            "cell_type": "markdown",
            "metadata": {},
            "source": [
                "After the parameters are chosen, the next step for generating an FEP network is to check the structure of the protein and ligands for which this will be run. \n",
                "\n",
                "In general, there are many different ways to generate ligand structures for FEP calculations. It is common to start with an X-ray structure, and edit the bound ligand in some way to create a congeneric series of ligands. Docking the ligands using the bound X-ray ligand as a template is also frequently done. The starting structure of these ligands is important, as a wrong binding pose can have a large impact on the calculated values. Going through the methods to generate these ligand structures is unfortunately outside the scope of this tutorial, so some ligand files are already provided in the 'inputs/ligands' folder. They were generated using [FEGrow](https://github.com/cole-group/FEgrow). This works by generating a congeneric series of ligands for a common core via the addition of R groups, and then optimising these ligands in the context of the receptor binding pocket. \n"
            ]
        },
        {
            "cell_type": "markdown",
            "metadata": {},
            "source": [
                "### 2.2. The FEP Network  \n",
                "<a id=\"perts\"></a>\n",
                "\n",
                "As already mentioned, we use perturbation networks when calculating the RBFE for a congeneric ligand series, and the reliability of FEP calculations is typically higher for transformations with fewer heavy atom changes and some other rules (e.g. no ring formations). LOMAP is a package that contains heuristics for this and is able to come up with a network for us; BioSimSpace contains a function `generateNetwork()` that uses LOMAP to come up with the perturbation network that visualises the desired perturbations. Additionally, a LOMAP score is calculated which quantifies the likeliness that the FEP prediction will be reliable (0 means unlikely, 1 means highly likely).   \n",
                "\n",
                "As the `work_dir` has been set for generating the network, this is the location where all the files from plotting the network are saved. If the image displayed in jupyter notebook is too small, you can look at the network in more detail in `visualise_network/images/network.png`.\n",
                "\n",
                " Further reading: [Section 7.1 (perturbation maps, Figure 5), LiveComs Best Practices for Alchemical Free Energy Calculations](https://livecomsjournal.org/index.php/livecoms/article/view/v2i1e18378)."
            ]
        },
        {
            "cell_type": "code",
            "execution_count": null,
            "metadata": {},
            "outputs": [],
            "source": [
                "#generate transformation network based on ligands\n",
                "ligand_files = sorted(glob.glob(f\"{path_to_ligands}/*.sdf\"))\n",
                "\n",
                "ligands = []\n",
                "ligand_names = []\n",
                "\n",
                "for filepath in ligand_files:\n",
                "    # append the molecule object to a list.\n",
                "    ligands.append(BSS.IO.readMolecules(filepath)[0])\n",
                "    \n",
                "    # append the molecule name to another list so that we can use the name of each molecule in our workflow.\n",
                "    ligand_names.append(filepath.split(\"/\")[-1].replace(\".sdf\",\"\"))\n",
                "\n",
                "transformations, lomap_scores = BSS.Align.generateNetwork(ligands, plot_network=True, names=ligand_names, work_dir=\"visualise_network\")\n"
            ]
        },
        {
            "cell_type": "markdown",
            "metadata": {},
            "source": [
                "BioSimSpace uses NetworkX which works with node indices for node names. Let's adjust our list of edges to have ligand names instead of ligand indices. We also generate a dictionary that contains all of the network information we need downstream."
            ]
        },
        {
            "cell_type": "code",
            "execution_count": null,
            "metadata": {},
            "outputs": [],
            "source": [
                "pert_network_dict = {}\n",
                "transformations_named = [(ligand_names[transf[0]], ligand_names[transf[1]]) for transf in transformations]\n",
                "for score, transf in sorted(zip(lomap_scores, transformations_named)):\n",
                "    pert_network_dict[transf] = score\n",
                "    print(transf, score)"
            ]
        },
        {
            "cell_type": "markdown",
            "metadata": {},
            "source": [
                "Unfortunately, even cutting-edge perturbation network generators such as LOMAP require some manual tweaking. In some cases, a ligand will have poor LOMAP scores on its edges and is therefore likely to be unreliable. To increase its reliability we often want to create an additional edge to this ligand, which can be easily done by appending the edge to our list of edges. Additionally, we usually want to avoid any ring breaking/forming transformations.\n",
                "\n",
                "**<span style=\"color:skyblue\">1.2.1. Exercise: adding perturbations**   \n",
                "\n",
                "Below, add any other perturbations to complete a cycle. When we add perturbations we want to give them a low LOMAP score so that they run the larger number of windows defined in the protocol at the start. Alternatively, we can also recalculate the LOMAP score for just this single transformation in a similar way to how we calculated the network before, by just defining the network for these two ligands. Give either of these methods a go below:   "
            ]
        },
        {
            "cell_type": "code",
            "execution_count": null,
            "metadata": {},
            "outputs": [],
            "source": [
                "pert_network_dict[('A', 'B')] = #FIXME"
            ]
        },
        {
            "cell_type": "markdown",
            "metadata": {},
            "source": [
                "<details><summary {style='color:green;font-weight:bold'}> Click here to see solution to Exercise. </summary>\n",
                "\n",
                "Arbitrarily, we have picked 0.1 . This is because it is below the LOMAP threshold defined in the protocol at the start.         \n",
                "\n",
                "```python\n",
                "pert_network_dict[('ejm48', 'ejm51')] = 0.1\n",
                "```\n",
                "\n",
                "Alternatively, if we want to recalculate the LOMAP score for this perturbation, we can also do as follows:         \n",
                "\n",
                "```python\n",
                "# if we consider the ligands list, we can use the index of the ligands we want to add an edge for.\n",
                "# first we need to choose our ligands.\n",
                "lig_a = \"ejm48\"\n",
                "lig_b = \"ejm51\"\n",
                "\n",
                "# then, we need to find this index for our chosen edge that we are adding.\n",
                "lig_a_index = ligand_names.index(lig_a)\n",
                "lig_b_index = ligand_names.index(lig_b)\n",
                "# finally, we need to calculate this single lomap score.\n",
                "single_transformation, single_lomap_score = BSS.Align.generateNetwork([ligands[lig_a_index], ligands[lig_b_index]], names=[ligand_names[lig_a_index], ligand_names[lig_b_index]], plot_network=False)\n",
                "print(f\"LOMAP score for {lig_a} to {lig_b} is {single_lomap_score[0]} .\")\n",
                "pert_network_dict[(lig_a, lig_b)] = single_lomap_score[0]\n",
                "```\n",
                "\n",
                "</details>"
            ]
        },
        {
            "cell_type": "markdown",
            "metadata": {},
            "source": [
                "Another way to manipulate the dictionary is to remove entries (i.e. remove edges from the network). When we look at the edges suggested by LOMAP that have low scores, we see that some are likely to be unreliable in FEP.\n",
                "\n",
                "<div class=\"alert alert-success\">\n",
                "<b>Exercise 2.2.2: Removing perturbations</b>\n",
                "</div>\n",
                "\n",
                "Below, remove any perturbations with a low LOMAP score. Try and remove more than one perturbation at the same time. However, make sure you don't entirely remove all perturbations for one ligand."
            ]
        },
        {
            "cell_type": "code",
            "execution_count": null,
            "metadata": {},
            "outputs": [],
            "source": [
                "#FIXME"
            ]
        },
        {
            "cell_type": "markdown",
            "metadata": {},
            "source": [
                "<details><summary {style='color:green;font-weight:bold'}> Click here to see solution to Exercise. </summary>\n",
                "\n",
                "```python\n",
                "for key in [('ejm42', 'ejm54'), ('ejm31', 'ejm45')]:\n",
                "    del pert_network_dict[key]\n",
                "\n",
                "```\n",
                "Both the lowest scores are with ejm54, however if we remove these ejm54 won't be connected anymore, so we will remove the next lowest perturbation instead.\n",
                "\n",
                "</details>"
            ]
        },
        {
            "cell_type": "markdown",
            "metadata": {},
            "source": [
                "Now that we have made these changes to the network, we want to visualise it again. We can do this using NetworkX."
            ]
        },
        {
            "cell_type": "code",
            "execution_count": null,
            "metadata": {},
            "outputs": [],
            "source": [
                "# Generate the graph.\n",
                "graph = nx.Graph()\n",
                "\n",
                "# Loop over the nligands and add as nodes to the graph.\n",
                "for lig in ligand_names:\n",
                "    graph.add_node(lig, label=lig, labelloc=\"t\")\n",
                "\n",
                "# Loop over the edges in the dictionary and add to the graph.\n",
                "for edge in pert_network_dict:\n",
                "    graph.add_edge(edge[0],edge[1],\n",
                "                    label=(pert_network_dict[edge]))\n",
                "\n",
                "# Plot the networkX graph.\n",
                "pos = nx.kamada_kawai_layout(graph)\n",
                "plt.figure(figsize=(14,14), dpi=150)\n",
                "nx.draw(\n",
                "    graph, pos, edge_color='black', width=1, linewidths=1,\n",
                "    node_size=1500, node_color='skyblue', font_size = 12,\n",
                "    labels={node: node for node in graph.nodes()})\n",
                "\n",
                "nx.draw_networkx_edge_labels(\n",
                "    graph, pos,\n",
                "    edge_labels=pert_network_dict,\n",
                "    font_color='purple', font_size=10)\n",
                "\n",
                "plt.savefig(\"adjusted_network.png\", dpi=300)\n",
                "plt.show()"
            ]
        },
        {
            "cell_type": "markdown",
            "metadata": {},
            "source": [
                "Based on this visualisation, we can see if we have accidentally disconnected a ligand entirely or broken a cycle. As this happened when we removed the 'ejm31 ~ ejm45' and 'ejm42 ~ ejm54', we may decide to add these perturbations back in again and keep our original network, which truthfully was already generated quite well for these TYK2 ligands.  We can see that for the above network, if we have remove the two worst edges in terms of LOMAP score ('ejm42 ~ ejm54' and 'ejm31 ~ ejm54'), we wouldn't actually have any perturbations left with ligand 'ejm54'. At the same time when editing the network, we may decide to add more perturbations for ligands that only have a single transformation, for example 'ejm50'. However, if any other perturbations were a good idea, LOMAP might have already included these in the first place. Overtime as you gain experience, editing the network will become easier.      \n",
                "\n",
                "Often a low LOMAP score is because cycle formation/removal in a single-topology-style FEP must be from/to a hydrogen, not a carbon atom. This is especially true for aromatic rings, as the hybridisation state of the C changes. To this end, we can introduce a ligand 'intermediate_H' that contains no atoms on the R-group. This makes it easier for the FEP code to perturb to cyclical R-groups. Using this type of network manipulation allows the user to include some more cycles into the network, which is good for statistical performance of FEP predictions. We can still add more edges to this new network as well.\n",
                "\n",
                "<div class=\"alert alert-success\">\n",
                "<b>Exercise 2.2.3: Adding an intermediate</b>\n",
                "</div>\n",
                "\n",
                "Include the intermediate_H.sdf from the inputs/ligands/intermediate folder in the ligand files used for generating the network.   \n",
                "\n",
                "Have the scores for ejm54 improved?"
            ]
        },
        {
            "cell_type": "code",
            "execution_count": null,
            "metadata": {},
            "outputs": [],
            "source": [
                "ligand_files = # FIXME\n",
                "\n",
                "ligands = []\n",
                "ligand_names = []\n",
                "\n",
                "for filepath in ligand_files:\n",
                "    # append the molecule object to a list.\n",
                "    ligands.append(BSS.IO.readMolecules(filepath)[0])\n",
                "    \n",
                "    # append the molecule name to another list so that we can use the name of each molecule in our workflow.\n",
                "    ligand_names.append(filepath.split(\"/\")[-1].replace(\".sdf\",\"\"))\n",
                "\n",
                "transformations, lomap_scores = #FIXME\n",
                "\n",
                "# make the network dict and print the scores as before\n",
                "# FIXME"
            ]
        },
        {
            "cell_type": "markdown",
            "metadata": {},
            "source": [
                "<details><summary {style='color:green;font-weight:bold'}> Click here to see solution to Exercise. </summary>\n",
                "\n",
                "```python\n",
                "#generate transformation network based on ligands\n",
                "ligand_files_list = glob.glob(f\"{path_to_ligands}/*.sdf\")\n",
                "ligand_files_list.append(f\"{path_to_ligands}/intermediate/intermediate_H.sdf\")\n",
                "ligand_files = sorted(ligand_files_list)\n",
                "\n",
                "ligands = []\n",
                "ligand_names = []\n",
                "\n",
                "for filepath in ligand_files:\n",
                "    # append the molecule object to a list.\n",
                "    ligands.append(BSS.IO.readMolecules(filepath)[0])\n",
                "    \n",
                "    # append the molecule name to another list so that we can use the name of each molecule in our workflow.\n",
                "    ligand_names.append(filepath.split(\"/\")[-1].replace(\".sdf\",\"\"))\n",
                "\n",
                "transformations, lomap_scores = BSS.Align.generateNetwork(ligands, plot_network=True, names=ligand_names)\n",
                "\n",
                "pert_network_dict = {}\n",
                "transformations_named = [(ligand_names[transf[0]], ligand_names[transf[1]]) for transf in transformations]\n",
                "for score, transf in sorted(zip(lomap_scores, transformations_named)):\n",
                "    pert_network_dict[transf] = score\n",
                "    print(transf, score)\n",
                "\n",
                "```\n",
                "The LOMAP scores for ejm54 have improved.\n",
                "\n",
                "</details>"
            ]
        },
        {
            "cell_type": "markdown",
            "metadata": {},
            "source": [
                "### 2.3. Protein parameterisation  \n",
                "\n",
                "Finally, we need to parameterise our protein structure and save the system to the inputs folder. We do this parameterisation locally because it only needs to be done a single time and because it is common for protein input files to need some manual adjustments before they can be parameterised without errors (.pdb files can be messy!)."
            ]
        },
        {
            "cell_type": "code",
            "execution_count": null,
            "metadata": {},
            "outputs": [],
            "source": [
                "prot = BSS.IO.readPDB(path_to_protein, pdb4amber=False)[0]\n",
                "# depending on the picked forcefield and your protein, tleap might fail. Check work_dir to see error logs.\n",
                "prot_p = BSS.Parameters.parameterise(prot, node.getInput(\"Protein FF\")).getMolecule()\n",
                "BSS.IO.saveMolecules(\"inputs/protein\", prot_p, [\"PRM7\",\"RST7\"])"
            ]
        },
        {
            "cell_type": "markdown",
            "metadata": {},
            "source": [
                "For the scripts used in this pipeline, the parameterised protein is saved in `inputs/prot_water.*`. This protein also includes binding site waters from the crystal structures, which are important to consider. A comprehensive guide to protein parameterisation is outside the scope of this workshop."
            ]
        },
        {
            "cell_type": "markdown",
            "metadata": {},
            "source": [
                "### 2.4. Preparing for the FEP pipeline  \n",
                "\n",
                "Once we have our protein, ligands, and have planned the network, we need to write all the files we need for running the FEP Pipeline.\n",
                "\n",
                "This includes the following files:\n",
                " - ligands.dat , which includes all the ligands that must be prepared\n",
                " - network.dat , which includes all the perturbations and the number of lambda windows\n",
                " - protocol.dat , which includes the details of the protocol used"
            ]
        },
        {
            "cell_type": "code",
            "execution_count": null,
            "metadata": {},
            "outputs": [],
            "source": [
                "# write ligands file.\n",
                "with open(\"ligands.dat\", \"w\") as ligands_file:\n",
                "    writer = csv.writer(ligands_file)\n",
                "    for lig in ligand_names:\n",
                "        writer.writerow([lig])\n",
                "\n",
                "# write perts file. Base the lambda schedule on the file generated in the previous cell.\n",
                "np.set_printoptions(formatter={'float': '{: .4f}'.format})\n",
                "\n",
                "# from protocol, derive the engine we want to use on the cluster.\n",
                "engine = node.getInput('FEP Engine').upper()\n",
                "\n",
                "with open(\"network.dat\", \"w\") as network_file:\n",
                "\n",
                "    writer = csv.writer(network_file, delimiter=\" \")\n",
                "    \n",
                "    for pert, lomap_score in pert_network_dict.items():\n",
                "        # based on the provided (at top of notebook) lambda allocations and LOMAP threshold, decide allocation.\n",
                "        if lomap_score == None or lomap_score < float(node.getInput(\"LOMAP Threshold\")):\n",
                "            num_lambda = node.getInput(\"DiffLambdaWindows\")\n",
                "        else:\n",
                "            num_lambda = node.getInput(\"LambdaWindows\")\n",
                "            \n",
                "       \n",
                "        # given the number of allocated lambda windows, generate an array for parsing downstream.\n",
                "        lam_array_np = np.around(np.linspace(0, 1, int(num_lambda)), decimals=5)\n",
                "\n",
                "        # make the array into a format readable by bash.\n",
                "        lam_array = str(lam_array_np).replace(\"[ \", \"\").replace(\"]\", \"\").replace(\"  \", \",\").replace('\\n', '')\n",
                "\n",
                "        # write out both directions for this perturbation.\n",
                "        writer.writerow([pert[0], pert[1], len(lam_array_np), lam_array, engine])\n",
                "        writer.writerow([pert[1], pert[0], len(lam_array_np), lam_array, engine])         \n",
                "\n",
                "# create protocol. \n",
                "protocol = [\n",
                "    f\"ligand forcefield = {node.getInput('Ligand FF')}\",\n",
                "    f\"protein forcefield = {node.getInput('Protein FF')}\",\n",
                "    f\"solvent = {node.getInput('Water Model')}\",\n",
                "    f\"box edges = {node.getInput('Box Edges')}\",\n",
                "    f\"box type = {node.getInput('Box Shape')}\",\n",
                "    f\"protocol = default\",\n",
                "    f\"sampling = {node.getInput('Run Time')}\",\n",
                "    f\"engine = {node.getInput('FEP Engine').upper()}\"\n",
                "]\n",
                "\n",
                "# write protocol to file.\n",
                "with open(\"protocol.dat\", \"w\") as protocol_file:\n",
                "    writer = csv.writer(protocol_file)\n",
                "\n",
                "    for prot_line in protocol:\n",
                "        \n",
                "        writer.writerow([prot_line])"
            ]
        },
        {
            "cell_type": "markdown",
            "metadata": {},
            "source": [
                "We can look at the contents of these files below:"
            ]
        },
        {
            "cell_type": "code",
            "execution_count": null,
            "metadata": {},
            "outputs": [],
            "source": [
                "! cat ligands.dat\n",
                "print(\" \")\n",
                "! cat network.dat\n",
                "print(\" \")\n",
                "! cat protocol.dat"
            ]
        },
        {
            "cell_type": "markdown",
            "metadata": {},
            "source": [
                "## 3. Parallelisation - Running the MD simulations\n",
                "\n",
                "Once all the files are written, the folder can be copied to a computing cluster so that the simulations can be parallelised. A simple example script for this for a slurm cluster is included in the scripts directory. The scripts are mainly for reference, and will need adjustment in terms of sourcing the various codes / some processes before they can be run.\n",
                "\n",
                "Th run_all_slurm.sh calls the following scripts in order:\n",
                "\n",
                " - Ligand preparation (ligprep.py, run_ligprep_slurm.sh) - The ligand and protein are paramaterised, combined, and solvated. Equilibration is carried out.\n",
                "\n",
                " - FEP preparation (fepprep.py, run_fepprep_slurm.sh) - For the perturbation, the ligands are mapped according to their maximum common substructure, and a perturbable system is created. The folders for the FEP run for SOMD are written.\n",
                "\n",
                " - Running the production windows (run_production_slurm.sh) - As each lambda window can be run independantly of other lambda windows, this is where most of the parallelisation takes place. Each window is submitted as part of a slurm array job.\n",
                "\n",
                " - Analysis (analysis.py, run_analysis_slurm.sh) - A simple analysis, outputting the data in a format suitable for the analysis tutorial.\n",
                "\n",
                "Older scripts, including one for an LSF cluster, are in the `04_fep/fep_archiv` folder.\n",
                "\n",
                "As these would take too long to run and analyse in the span of a workshop, sample outputs are available in the analysis folder for the next part of the tutorial. Example outputs for the exercises in this tutorial are available in the `example_output/example_output_setup` folder."
            ]
        }
    ],
    "metadata": {
        "kernelspec": {
            "display_name": "Python 3.9.13 ('biosimspace-dev': conda)",
            "language": "python",
            "name": "python3"
        },
        "language_info": {
            "codemirror_mode": {
                "name": "ipython",
                "version": 3
            },
            "file_extension": ".py",
            "mimetype": "text/x-python",
            "name": "python",
            "nbconvert_exporter": "python",
            "pygments_lexer": "ipython3",
            "version": "3.9.13"
        },
        "varInspector": {
            "cols": {
                "lenName": 16,
                "lenType": 16,
                "lenVar": 40
            },
            "kernels_config": {
                "python": {
                    "delete_cmd_postfix": "",
                    "delete_cmd_prefix": "del ",
                    "library": "var_list.py",
                    "varRefreshCmd": "print(var_dic_list())"
                },
                "r": {
                    "delete_cmd_postfix": ") ",
                    "delete_cmd_prefix": "rm(",
                    "library": "var_list.r",
                    "varRefreshCmd": "cat(var_dic_list()) "
                }
            },
            "types_to_exclude": [
                "module",
                "function",
                "builtin_function_or_method",
                "instance",
                "_Feature"
            ],
            "window_display": false
        },
        "vscode": {
            "interpreter": {
                "hash": "d79bb85316fa6c998e385cc39903e056bffeb3f6098416e9c269ddd32175e919"
            }
        }
    },
    "nbformat": 4,
    "nbformat_minor": 2
}
