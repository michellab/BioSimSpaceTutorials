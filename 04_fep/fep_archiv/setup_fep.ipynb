{
 "cells": [
  {
   "cell_type": "markdown",
   "id": "d640e44b",
   "metadata": {},
   "source": [
    "# Basic depiction of a FEP workflow using BioSimSpace and Python"
   ]
  },
  {
   "cell_type": "code",
   "execution_count": null,
   "id": "8ec05879",
   "metadata": {},
   "outputs": [],
   "source": [
    "import BioSimSpace as BSS\n",
    "import glob\n",
    "import csv\n",
    "import numpy as np\n",
    "import itertools"
   ]
  },
  {
   "cell_type": "markdown",
   "id": "77fdd781",
   "metadata": {},
   "source": [
    "Note: because this setup notebook involves parameterising a protein, an Amber installation is required on the local machine. On the computing resource that will run the execution model, a GROMACS installation is required to solvate the molecular systems."
   ]
  },
  {
   "cell_type": "markdown",
   "id": "381359cc",
   "metadata": {},
   "source": [
    "### Variables"
   ]
  },
  {
   "cell_type": "code",
   "execution_count": null,
   "id": "ec239c55",
   "metadata": {},
   "outputs": [],
   "source": [
    "path_to_ligands = \"inputs/ligands\"\n",
    "path_to_protein = \"inputs/protein/tyk2_bss.pdb\""
   ]
  },
  {
   "cell_type": "markdown",
   "id": "91d76de2",
   "metadata": {},
   "source": [
    "Set a protocol to run our simulations with. This file instructs BioSimSpace on the cluster. We will use a BioSimSpace gateway node for this to show the user which options can be chosen in an intuitive manner."
   ]
  },
  {
   "cell_type": "code",
   "execution_count": null,
   "id": "22381092",
   "metadata": {},
   "outputs": [],
   "source": [
    "node = BSS.Gateway.Node(\n",
    "    \"A node to create input files for molecular dynamics simulation.\"\n",
    ")\n",
    "\n",
    "node.addInput(\n",
    "    \"Ligand FF\",\n",
    "    BSS.Gateway.String(\n",
    "        help=\"Force field to parameterise ligands with.\",\n",
    "        allowed=[\"GAFF1\", \"GAFF2\", \"OpenForceField\"],\n",
    "        default=\"GAFF2\",\n",
    "    ),\n",
    ")\n",
    "\n",
    "node.addInput(\n",
    "    \"Protein FF\",\n",
    "    BSS.Gateway.String(\n",
    "        help=\"Force field to parameterise the protein with.\",\n",
    "        allowed=[\"FF03\", \"FF14SB\", \"FF99\", \"FF99SB\", \"FF99SBILDN\"],\n",
    "        default=\"FF14SB\",\n",
    "    ),\n",
    ")\n",
    "node.addInput(\n",
    "    \"Water Model\",\n",
    "    BSS.Gateway.String(\n",
    "        help=\"Water model to use.\",\n",
    "        allowed=[\"SPC\", \"SPCE\", \"TIP3P\", \"TIP4P\", \"TIP5P\"],\n",
    "        default=\"TIP3P\",\n",
    "    ),\n",
    ")\n",
    "node.addInput(\n",
    "    \"Box Edges\",\n",
    "    BSS.Gateway.String(\n",
    "        help=\"Size of water box around molecular system.\",\n",
    "        allowed=[\n",
    "            \"20*angstrom\",\n",
    "            \"25*angstrom\",\n",
    "            \"30*angstrom\",\n",
    "            \"35*angstrom\",\n",
    "            \"45*angstrom\",\n",
    "            \"5*nm\",\n",
    "            \"7*nm\",\n",
    "            \"10*nm\",\n",
    "        ],\n",
    "        default=\"20*angstrom\",\n",
    "    ),\n",
    ")\n",
    "node.addInput(\n",
    "    \"Box Shape\",\n",
    "    BSS.Gateway.String(\n",
    "        help=\"Geometric shape of water box.\",\n",
    "        allowed=[\"orthorhombic\", \"triclinic\"],\n",
    "        default=\"orthorhombic\",\n",
    "    ),\n",
    ")\n",
    "\n",
    "node.addInput(\n",
    "    \"Run Time\",\n",
    "    BSS.Gateway.String(\n",
    "        help=\"The sampling time per lambda window.\",\n",
    "        allowed=[\n",
    "            \"10*ps\",\n",
    "            \"100*ps\",\n",
    "            \"1*ns\",\n",
    "            \"2*ns\",\n",
    "            \"3*ns\",\n",
    "            \"4*ns\",\n",
    "            \"5*ns\",\n",
    "            \"8*ns\",\n",
    "            \"10*ns\",\n",
    "            \"12*ns\",\n",
    "            \"15*ns\",\n",
    "        ],\n",
    "        default=\"4*ns\",\n",
    "    ),\n",
    ")\n",
    "\n",
    "node.addInput(\n",
    "    \"FEP Engine\",\n",
    "    BSS.Gateway.String(\n",
    "        help=\"Engine to run FEP with.\", allowed=BSS.FreeEnergy.engines(), default=\"Somd\"\n",
    "    ),\n",
    ")\n",
    "\n",
    "node.addInput(\n",
    "    \"LambdaWindows\",\n",
    "    BSS.Gateway.String(\n",
    "        help=\"The number of lambda windows for regular transformations.\",\n",
    "        allowed=[\n",
    "            \"3\",\n",
    "            \"4\",\n",
    "            \"5\",\n",
    "            \"6\",\n",
    "            \"7\",\n",
    "            \"8\",\n",
    "            \"9\",\n",
    "            \"10\",\n",
    "            \"11\",\n",
    "            \"12\",\n",
    "            \"13\",\n",
    "            \"14\",\n",
    "            \"15\",\n",
    "            \"16\",\n",
    "            \"17\",\n",
    "            \"18\",\n",
    "            \"19\",\n",
    "            \"20\",\n",
    "        ],\n",
    "        default=\"7\",\n",
    "    ),\n",
    ")\n",
    "node.addInput(\n",
    "    \"DiffLambdaWindows\",\n",
    "    BSS.Gateway.String(\n",
    "        help=\"The number of lambda windows for difficult transformations.\",\n",
    "        allowed=[\n",
    "            \"4\",\n",
    "            \"5\",\n",
    "            \"6\",\n",
    "            \"7\",\n",
    "            \"8\",\n",
    "            \"9\",\n",
    "            \"10\",\n",
    "            \"11\",\n",
    "            \"12\",\n",
    "            \"13\",\n",
    "            \"14\",\n",
    "            \"15\",\n",
    "            \"16\",\n",
    "            \"17\",\n",
    "            \"18\",\n",
    "            \"19\",\n",
    "            \"20\",\n",
    "        ],\n",
    "        default=\"12\",\n",
    "    ),\n",
    ")\n",
    "node.addInput(\n",
    "    \"LOMAP Threshold\",\n",
    "    BSS.Gateway.String(\n",
    "        help=\"The LOMAP score threshold to define difficult transformations.\",\n",
    "        allowed=[\"0.1\", \"0.2\", \"0.3\", \"0.4\", \"0.5\", \"0.6\", \"0.7\", \"0.8\", \"0.9\"],\n",
    "        default=\"0.4\",\n",
    "    ),\n",
    ")\n",
    "node.showControls()"
   ]
  },
  {
   "cell_type": "markdown",
   "id": "335cdb5a",
   "metadata": {},
   "source": [
    "## 1. With our collection of ligands, figure out which perturbations we should run."
   ]
  },
  {
   "cell_type": "markdown",
   "id": "48db1dda",
   "metadata": {},
   "source": [
    "The reliability of FEP calculations is typically higher for transformations with fewer heavy atom changes and some other rules (e.g. no ring formations). LOMAP is a package that contains heuristics for this and is able to come up with a network for us; BioSimSpace contains a function generateNetwork() that uses LOMAP to come up with the perturbation network that visualises the desired perturbations. Additionally, a LOMAP score is calculated which quantifies the likeliness that the FEP prediction will be reliable (0 means unlikely, 1 means highly likely).\n",
    "\n",
    "This function requires a list of BioSimSpace molecule objects."
   ]
  },
  {
   "cell_type": "code",
   "execution_count": null,
   "id": "fb76af65",
   "metadata": {},
   "outputs": [],
   "source": [
    "ligand_files = glob.glob(\"{}/*.mol2\".format(path_to_ligands))\n",
    "\n",
    "ligands = []\n",
    "ligand_names = []\n",
    "\n",
    "for filepath in ligand_files:\n",
    "    # append the molecule object to a list.\n",
    "    ligands.append(BSS.IO.readMolecules(filepath)[0])\n",
    "\n",
    "    # append the molecule name to another list so that we can use the name of each molecule in our workflow.\n",
    "    ligand_names.append(filepath.split(\"/\")[-1].replace(\".mol2\", \"\"))\n",
    "\n",
    "tranformations, lomap_scores = BSS.Align.generateNetwork(\n",
    "    ligands, plot_network=True, names=ligand_names\n",
    ")"
   ]
  },
  {
   "cell_type": "markdown",
   "id": "38e97c89",
   "metadata": {},
   "source": [
    "BioSimSpace uses NetworkX which works with node indices for node names. Let's adjust our list of edges to have ligand names instead of ligand indices. We also generate a dictionary that contains all of the network information we need downstream."
   ]
  },
  {
   "cell_type": "code",
   "execution_count": null,
   "id": "2a84ea87",
   "metadata": {},
   "outputs": [],
   "source": [
    "pert_network_dict = {}\n",
    "transformations_named = [\n",
    "    (ligand_names[transf[0]], ligand_names[transf[1]]) for transf in tranformations\n",
    "]\n",
    "for transf, score in zip(transformations_named, lomap_scores):\n",
    "    print(transf, score)\n",
    "    pert_network_dict[transf] = score"
   ]
  },
  {
   "cell_type": "markdown",
   "id": "12fba077",
   "metadata": {},
   "source": [
    "Unfortunately, even cutting-edge perturbation network generators such as LOMAP require some manual tweaking. In some cases, a ligand will have poor LOMAP scores on its edges and is therefore likely to be unreliable. To increase its reliability we often want to create an additional edge to this ligand, which can be easily done by appending the edge to our list of edges. \n",
    "\n",
    "In this case, we have introduced a ligand 'intermediate_01' that contains no atoms on the R-group. This makes it easier for the FEP code to perturb to cyclical R-groups. Using this type of network manipulation allows the user to include some cycles into the network, which is good for statistical performance of FEP predictions.\n",
    "\n",
    "For these edges we set a LOMAP-Score of 0.1 - this will ensure that these edges get allocated more $\\lambda$ windows in the FEP production stage."
   ]
  },
  {
   "cell_type": "code",
   "execution_count": null,
   "id": "25fcf4c5",
   "metadata": {},
   "outputs": [],
   "source": [
    "pert_network_dict[(\"jmc_28\", \"jmc_30\")] = 0.1\n",
    "pert_network_dict[(\"intermediate_01\", \"ejm_23\")] = 0.1\n",
    "\n",
    "pert_network_dict"
   ]
  },
  {
   "cell_type": "markdown",
   "id": "de9b427d",
   "metadata": {},
   "source": [
    "Another way to manipulate the dictionary is to remove entries (i.e. remove edges from the network). Let's just remove one of the previously added edges."
   ]
  },
  {
   "cell_type": "code",
   "execution_count": null,
   "id": "f5bfcf12",
   "metadata": {},
   "outputs": [],
   "source": [
    "for key in [(\"intermediate_01\", \"ejm_23\")]:\n",
    "    del pert_network_dict[key]\n",
    "pert_network_dict"
   ]
  },
  {
   "cell_type": "markdown",
   "id": "f2a266bc",
   "metadata": {},
   "source": [
    "## 2. Write files for execution model\n",
    "Now that we have set our simulation protocol and planned what edges we want to run FEP on, it's time to setup the simulation input files. \n",
    "\n",
    "These data files are used when running a FEP pipeline using BSS. Copy the folder ./execution_model/ to a server to parallelise your simulations."
   ]
  },
  {
   "cell_type": "code",
   "execution_count": null,
   "id": "cd06c41d",
   "metadata": {},
   "outputs": [],
   "source": [
    "# write ligands file. this contains the names of the ligands and is parsed by the job scheduler.\n",
    "with open(\"./execution_model/ligands.dat\", \"w\") as ligands_file:\n",
    "    writer = csv.writer(ligands_file)\n",
    "    for lig in ligand_names:\n",
    "        writer.writerow([lig])"
   ]
  },
  {
   "cell_type": "code",
   "execution_count": null,
   "id": "d92e797a",
   "metadata": {},
   "outputs": [],
   "source": [
    "# write perts file. The code bases the lambda schedule on the file generated in the previous cell.\n",
    "np.set_printoptions(formatter={\"float\": \"{: .4f}\".format})\n",
    "\n",
    "# from protocol, derive the engine we want to use on the cluster.\n",
    "engine = node.getInput(\"FEP Engine\").upper()\n",
    "\n",
    "\n",
    "with open(\"./execution_model/network.dat\", \"w\") as network_file:\n",
    "    writer = csv.writer(network_file, delimiter=\" \")\n",
    "\n",
    "    for pert, lomap_score in pert_network_dict.items():\n",
    "        # based on the provided (at top of notebook) lambda allocations and LOMAP threshold, decide allocation.\n",
    "        if lomap_score == None or lomap_score < float(node.getInput(\"LOMAP Threshold\")):\n",
    "            num_lambda = node.getInput(\"DiffLambdaWindows\")\n",
    "        else:\n",
    "            num_lambda = node.getInput(\"LambdaWindows\")\n",
    "\n",
    "        # given the number of allocated lambda windows, generate an array for parsing downstream.\n",
    "        lam_array_np = np.around(np.linspace(0, 1, int(num_lambda)), decimals=5)\n",
    "\n",
    "        # make the array into a format readable by bash.\n",
    "        lam_array = (\n",
    "            str(lam_array_np)\n",
    "            .replace(\"[ \", \"\")\n",
    "            .replace(\"]\", \"\")\n",
    "            .replace(\"  \", \",\")\n",
    "            .replace(\"\\n\", \"\")\n",
    "        )\n",
    "\n",
    "        # write out both directions for this perturbation.\n",
    "        writer.writerow([pert[0], pert[1], len(lam_array_np), lam_array, engine])\n",
    "        writer.writerow([pert[1], pert[0], len(lam_array_np), lam_array, engine])"
   ]
  },
  {
   "cell_type": "code",
   "execution_count": null,
   "id": "5e765e2d",
   "metadata": {},
   "outputs": [],
   "source": [
    "# create protocol. The code uses the settings set in the drop-down menu at the top of the notebook.\n",
    "protocol = [\n",
    "    f\"ligand forcefield = {node.getInput('Ligand FF')}\",\n",
    "    f\"protein forcefield = {node.getInput('Protein FF')}\",\n",
    "    f\"solvent = {node.getInput('Water Model')}\",\n",
    "    f\"box edges = {node.getInput('Box Edges')}\",\n",
    "    f\"box type = {node.getInput('Box Shape')}\",\n",
    "    f\"protocol = default\",\n",
    "    f\"sampling = {node.getInput('Run Time')}\",\n",
    "    f\"engine = {node.getInput('FEP Engine').upper()}\",\n",
    "]\n",
    "\n",
    "# write protocol to file.\n",
    "with open(\"./execution_model/protocol.dat\", \"w\") as protocol_file:\n",
    "    writer = csv.writer(protocol_file)\n",
    "\n",
    "    for prot_line in protocol:\n",
    "        writer.writerow([prot_line])"
   ]
  },
  {
   "cell_type": "markdown",
   "id": "ad36f217",
   "metadata": {},
   "source": [
    "Finally, parameterise our protein structure and save the system to the execution model folder. We do this parameterisation locally because it only needs to be done a single time and because it is common for protein input files to need some manual adjustments before they can be parameterised without errors (.pdb files can be messy!)."
   ]
  },
  {
   "cell_type": "code",
   "execution_count": null,
   "id": "c7e40d66",
   "metadata": {},
   "outputs": [],
   "source": [
    "prot = BSS.IO.readPDB(path_to_protein, pdb4amber=False)[0]\n",
    "\n",
    "# depending on the picked forcefield and your protein, tleap might fail. Check work_dir to see error logs.\n",
    "prot_p = BSS.Parameters.parameterise(prot, node.getInput(\"Protein FF\")).getMolecule()"
   ]
  },
  {
   "cell_type": "code",
   "execution_count": null,
   "id": "6d9b1a0a",
   "metadata": {},
   "outputs": [],
   "source": [
    "# save the parameterised protein to a file in the execution model.\n",
    "BSS.IO.saveMolecules(\n",
    "    \"execution_model/inputs/protein/protein\", prot_p, fileformat=[\"PRM7\", \"RST7\"]\n",
    ")"
   ]
  },
  {
   "cell_type": "markdown",
   "id": "f4b40945",
   "metadata": {},
   "source": [
    "Save the ligands to the execution model folder as well."
   ]
  },
  {
   "cell_type": "code",
   "execution_count": null,
   "id": "f82c42bc",
   "metadata": {},
   "outputs": [],
   "source": [
    "for lig, name in zip(ligands, ligand_names):\n",
    "    BSS.IO.saveMolecules(\"execution_model/inputs/ligands/\" + name, lig, \"MOL2\")"
   ]
  },
  {
   "cell_type": "markdown",
   "id": "13225def",
   "metadata": {},
   "source": [
    "### After executing all cells you can move the folder ./execution_model/ to a cluster/server using for instance SCP. \n",
    "The simulations are run by executing the processFEP-slurm.sh or processFEP-lsf.sh script (depending on your cluster's setup). Note that there are several settings at the top of those shell scripts to make the FEP pipeline work with your cluster! "
   ]
  }
 ],
 "metadata": {
  "kernelspec": {
   "display_name": "Python 3",
   "language": "python",
   "name": "python3"
  },
  "language_info": {
   "codemirror_mode": {
    "name": "ipython",
    "version": 3
   },
   "file_extension": ".py",
   "mimetype": "text/x-python",
   "name": "python",
   "nbconvert_exporter": "python",
   "pygments_lexer": "ipython3"
  }
 },
 "nbformat": 4,
 "nbformat_minor": 5
}
