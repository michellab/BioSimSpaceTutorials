{
 "cells": [
  {
   "cell_type": "markdown",
   "metadata": {},
   "source": [
    "# An Introduction to setting up alchemical free energy calculations\n",
    "\n",
    "This Jupyter notebook is an introduction alchemical free energy methods with BioSimSpace.\n",
    "\n",
    "This notebook includes core as well as <span style=\"color:teal\">extra</span> options. These extra sections are there to include some more functionality for when the concepts of these tutorials are applied to your own work.  \n",
    "\n",
    "**<span style=\"color:teal\">Reading Time:</span>**\n",
    "~ 30 mins\n",
    "\n",
    "### Maintainers\n",
    "- [Finlay Clark -- @fjclark](https://github.com/fjclark)\n",
    "- [Anna Herz -- @annamherz](https://github.com/annamherz)\n",
    "\n",
    "See [README.md](https://github.com/michellab/BioSimSpaceTutorials/blob/main/04_fep/README.md) for complete list of authors.\n",
    "\n",
    "### Prerequisites\n",
    " - Basic Python\n",
    " - Presentation slides : [Alchemical Free Energy Methods with BioSimSpace</span>](slides/CCPBioSimTraining2022_slides.pdf) and [talk video](https://www.youtube.com/watch?v=RSG8y9RzArI) (from the 2022 CCPBioSim Training Week).\n",
    "\n",
    "### Learning Objectives\n",
    "- Setup an alchemical solvation free energy simulation using BioSimSpace and SOMD\n",
    "- Setup an alchemical solvation free energy simulation using BioSimSpace and Gromacs\n",
    "- Setup an alchemical binding free energy simulation for Gromacs and SOMD using BioSimSpace\n",
    "\n",
    "You will be using the following functions in BioSimSpace:\n",
    "\n",
    "- `BSS.IO.readMolecules()` To load the molecules\n",
    "- `BSS.Parameters.gaff` To parameterise molecules using the Generalised Amber Force Field (GAFF)\n",
    "- `BSS.Parameters.ff14SB` To parameterise a protein using FF14SB\n",
    "- `BSS.Align.matchAtoms()` Maximum Common Substructure matches atoms for the morphing\n",
    "- `BSS.Align.rmsdAlign()` Aligns the molecules to be morphed\n",
    "- `BSS.Align.merge()` Creates a merged molecule used for alchemical simulations\n",
    "- `BSS.Solvent.tip3p()` Solvates a molecule in a tip3 water box\n",
    "- `BSS.Protocol.FreeEnergy()` Defines the free energy protocol\n",
    "- `BSS.FreeEnergy.Relative()` Sets up a leg for a relative free-energy simulation\n",
    "- `BSS.FreeEnergy.Relative.analyse()` To analyse the results of the perturbation\n",
    "\n",
    "### Table of Contents\n",
    "1. [Working with ligands](#lig)    \n",
    "   1.1 [Loading ligands](#load)   \n",
    "   1.2 [Parametrising ligands](#param)   \n",
    "2. [Morphing ligands](#merge)   \n",
    "   2.1 [Maximum common substructure (MCS)](#mcs)     \n",
    "   2.2 [Creating a _merged_ molecule](#merged)   \n",
    "   2.3 [Solvation](#solv)  \n",
    "   2.4 [Reading and writing perturbable systems](#readwrite)   \n",
    "3. [Running a solvation free energy simulation](#free)   \n",
    "   3.1 [Exercises for solvation free energies](#exerc2)   \n",
    "4. [Binding free energy simulation](#bind)   \n",
    "   4.1 [Loading the protein and ligands](#prot)   \n",
    "   4.2 [Paramaterising a protein](#paramp)   \n",
    "   4.3 [Morphing again](#morphp)   \n",
    "   4.4 [Running the binding free energy simulation](#runbind)   \n",
    "   4.5 [Exercises](#exerc3)    \n",
    "5. [Analysis](#ana)    \n",
    "   5.1 [Calculating the RBFE between a pair of ligands](#mbar)   \n",
    "   5.2 [Overlap](#over)    \n",
    "   5.3 [Extra Exercises](#exerc5)    \n",
    "\n",
    "### Further reading for this topic\n",
    "- [LiveComs Best Practices for Alchemical Free Energy Calculations](https://livecomsjournal.org/index.php/livecoms/article/view/v2i1e18378).\n",
    "\n",
    "**<span style=\"color:black\">Jupyter Cheat Sheet</span>**\n",
    "- To run the currently highlighted cell and move focus to the next cell, hold <kbd>&#x21E7; Shift</kbd> and press <kbd>&#x23ce; Enter</kbd>;\n",
    "- To run the currently highlighted cell and keep focus in the same cell, hold <kbd>&#x21E7; ctrl</kbd> and press <kbd>&#x23ce; Enter</kbd>;\n",
    "- To get help for a specific function, place the cursor within the function's brackets, hold <kbd>&#x21E7; Shift</kbd>, and press <kbd>&#x21E5; Tab</kbd>;\n",
    "- You can find the full documentation at [biosimspace.org](https://biosimspace.org).\n",
    "\n",
    "You can use `!` to access terminal commands: e.g. `! head -n 20 myfilename.dat` will display the first 20 lines of a file. \n",
    "\n",
    "\n",
    "### Exercises\n",
    "Exercises are announced using an alert alert-success box in this way:\n",
    "<div class=\"alert alert-success\">\n",
    "<b>Exercise 1.1: Write a function that computes bond lengths:</b>\n",
    "</div>\n",
    "and followed by an incomplete cell. All exercises should be numbered. \n",
    "Missing parts are indicated by:\n",
    "\n",
    "```python\n",
    "#FIXME\n",
    "```\n",
    "These are included whilst running through the workshops and also in dedicated sections.   \n"
   ]
  },
  {
   "cell_type": "markdown",
   "metadata": {},
   "source": [
    "## Let's get started\n",
    "\n",
    "First, let's import BioSimspace!"
   ]
  },
  {
   "cell_type": "code",
   "execution_count": null,
   "metadata": {},
   "outputs": [],
   "source": [
    "import BioSimSpace as BSS"
   ]
  },
  {
   "cell_type": "markdown",
   "metadata": {},
   "source": [
    "## 1. Free energy of solvation of ethane and methanol\n",
    "<a id=\"lig\"></a>\n",
    "\n",
    "We want to compute the relative free energy of hydration between ethane and methanol, $\\Delta \\Delta G_{\\mathrm{hyd,\\: ethane-methanol}}$. This is the free energy difference between hydrating an ethane molecule in water and a methanol molecule in water.\n",
    "\n",
    "Below you can see a thermodynamic cycle for the relative hydration free energy of ethane and methanol:\n",
    "\n",
    "![therm_cycle](images/Therm_cycle.png)"
   ]
  },
  {
   "cell_type": "markdown",
   "metadata": {},
   "source": [
    "Because free energy is a state function, the total free energy change around the cycle is 0:\n",
    "\n",
    "$\\Delta G^{\\mathrm{ethane}}_{\\mathrm{hyd}} + \\Delta G_{\\mathrm{solv}} - \\Delta G^{\\mathrm{methanol}}_{\\mathrm{hyd}} -  \\Delta G_{\\mathrm{vac}} = 0$\n",
    "\n",
    "This allows us to obtain $\\Delta \\Delta G_{\\mathrm{hyd,\\: ethane-methanol}}$ in terms of $\\Delta G_{\\mathrm{solv}}$ and $\\Delta G_{\\mathrm{vac}}$:\n",
    "\n",
    "$\\Delta G^{\\mathrm{methanol}}_{\\mathrm{hyd}}  - \\Delta G^{\\mathrm{ethane}}_{\\mathrm{hyd}} = \\Delta G_{\\mathrm{solv}} - \\Delta G_{\\mathrm{vac}}$\n",
    "\n",
    "$\\Delta \\Delta G_{\\mathrm{hyd,\\: ethane-methanol}} = \\Delta G_{\\mathrm{solv}} - \\Delta G_{\\mathrm{vac}}$\n",
    "\n",
    "Now we just need to compute these quantities using alchemical simulations."
   ]
  },
  {
   "cell_type": "markdown",
   "metadata": {},
   "source": [
    "### 1.1 Loading ligands\n",
    "<a id=\"load\"></a>\n",
    "Next, we read in the two molecules we want to perturb. In this case, this is ethane changing to methanol. You can use the BioSimSpace function `BSS.IO.readMolecules()` for this task."
   ]
  },
  {
   "cell_type": "code",
   "execution_count": null,
   "metadata": {},
   "outputs": [],
   "source": [
    "# We assume the molecules to perturb are the first molecules in each system. (Each file contains a single molecule.)\n",
    "# we use [0] to select this first molecule.\n",
    "ethane = BSS.IO.readMolecules(\"input/ethane.pdb\")[0]\n",
    "methanol = BSS.IO.readMolecules(\"input/methanol.pdb\")[0]"
   ]
  },
  {
   "cell_type": "markdown",
   "metadata": {},
   "source": [
    "<div class=\"alert alert-info\">\n",
    "<b>Note:</b> To check whether we have selected an atom/molecule/system, a quick check is to print the object, which will tell us which <code>BSS</code> type the object has.\n",
    "</div>\n"
   ]
  },
  {
   "cell_type": "code",
   "execution_count": null,
   "metadata": {},
   "outputs": [],
   "source": [
    "print(ethane)\n",
    "print(methanol)"
   ]
  },
  {
   "cell_type": "markdown",
   "metadata": {},
   "source": [
    "The below cell illustrates the automatic instantiation of `BSS` objects further - if we do not select the first molecule when we load our system in, even if there is only one molecule in the file, this will be instantiated as a system as a default. Similarly, if we combine molecules it automatically changes the `BSS` type of the object."
   ]
  },
  {
   "cell_type": "code",
   "execution_count": null,
   "metadata": {},
   "outputs": [],
   "source": [
    "test_ethane_system = BSS.IO.readMolecules(\"input/ethane.pdb\")\n",
    "print(test_ethane_system)\n",
    "test_combined = (ethane + methanol)\n",
    "print(test_combined)"
   ]
  },
  {
   "cell_type": "markdown",
   "metadata": {},
   "source": [
    "Apart from just the type of the BSS object, it might also be nice to quickly check we are reading in the right molecules so we can visualise them using the `View` class from `BSS.Notebook`. This uses NGLView.\n",
    "\n",
    "With the default settings, we should be able to visualise our molecule. Some useful tips for navigating the view are:\n",
    "- left click, hold and drag to spin the molecule\n",
    "- right click, hold and drag to pan\n",
    "- use the mouse wheel to zoom in and out\n",
    "- center on the molecule again by going to the 'View' menu on the top tool bar and clicking on 'center' .\n"
   ]
  },
  {
   "cell_type": "code",
   "execution_count": null,
   "metadata": {},
   "outputs": [],
   "source": [
    "BSS.Notebook.View(\"input/ethane.pdb\").system()"
   ]
  },
  {
   "cell_type": "code",
   "execution_count": null,
   "metadata": {},
   "outputs": [],
   "source": [
    "BSS.Notebook.View(\"input/methanol.pdb\").system()"
   ]
  },
  {
   "cell_type": "markdown",
   "metadata": {},
   "source": [
    "### 1.2 Paramaterising Molecules\n",
    "<a id=\"param\"></a>\n",
    "\n",
    "Current we only have the coordinates information saved for the loaded molecules so the first thing we need to do is generated some forcefield parameters. In this case, we will use the Generalise Amber Force Field [(GAFF)](http://ambermd.org/antechamber/gaff.html)."
   ]
  },
  {
   "cell_type": "code",
   "execution_count": null,
   "metadata": {},
   "outputs": [],
   "source": [
    "ethane = BSS.Parameters.gaff(ethane).getMolecule()\n",
    "methanol = BSS.Parameters.gaff(methanol).getMolecule()"
   ]
  },
  {
   "cell_type": "markdown",
   "metadata": {},
   "source": [
    "## 2. Creating merged system\n",
    "<a id=\"merge\"></a>\n",
    "Now ethane and methanol have all the required properties for running an MD simulation of them individually. But here we are interested in creating a morphed system, or `single topology` for running an alchemical free energy calculation. In this case, two of the ethane hydrogens will turn into dummy atoms and the second carbon and the 3rd hydrogen will turn into the `OH` group of the methanol.\n",
    "\n",
    "There are different topologies, and which is used, single or dual, depends largely on the software. For more information, check the further reading: [Section 7.1.1 (Topologies), LiveComs Best Practices for Alchemical Free Energy Calculations](https://livecomsjournal.org/index.php/livecoms/article/view/v2i1e18378)."
   ]
  },
  {
   "cell_type": "markdown",
   "metadata": {},
   "source": [
    "### 2.1 Maximum Common Substructure (MCS)\n",
    "<a id=\"MCS\"></a>\n",
    "In order to automatically figure out which atoms are common between ethane and methanol we can use the `matchAtoms()` function of BioSimSpace. This will compute a maxmimum common substructure (MCS) match and return a dictionary that maps the indices of atoms in the ethane molecule to the indices of the atoms in the methanol to which they match. An example of what and MCS match might look like is shown here:\n",
    "\n",
    "![MCS](images/MCS.png)\n"
   ]
  },
  {
   "cell_type": "code",
   "execution_count": null,
   "metadata": {},
   "outputs": [],
   "source": [
    "mapping = BSS.Align.matchAtoms(ethane, methanol)\n",
    "\n",
    "# Mapping is a dictionary mapping atom indices in ethane to those in methanol.\n",
    "print(mapping)"
   ]
  },
  {
   "cell_type": "markdown",
   "metadata": {},
   "source": [
    "Once we have the mapping we can align the molecules to each other using a root mean squared displacement (RMSD) metric and from the alignment we can then create a merged molecule which contains all of the `single topology` information needed for the alchemical perturbation.\n",
    "\n",
    "To visualise the mapping we can use:"
   ]
  },
  {
   "cell_type": "code",
   "execution_count": null,
   "metadata": {},
   "outputs": [],
   "source": [
    "BSS.Align.viewMapping(ethane, methanol, mapping)"
   ]
  },
  {
   "cell_type": "markdown",
   "metadata": {},
   "source": [
    "This shows ethane, with the atoms that map to those in methanol highlighted in green. The numbers next to the atoms are their indices within the molecule (and mapping dictionary).To instead use methanol as the reference, we can swap the order of the molecules that are passed to the function and invert the mapping dictionary:"
   ]
  },
  {
   "cell_type": "code",
   "execution_count": null,
   "metadata": {},
   "outputs": [],
   "source": [
    "# get the inverse mapping\n",
    "inv_mapping = {v: k for k, v in mapping.items()}"
   ]
  },
  {
   "cell_type": "markdown",
   "metadata": {},
   "source": [
    "<div class=\"alert alert-success\">\n",
    "<b>Exercise 2.1.1: Visualise the inverse mapping. How is it different from the previous mapping?</b>\n",
    "</div>"
   ]
  },
  {
   "cell_type": "code",
   "execution_count": null,
   "metadata": {},
   "outputs": [],
   "source": [
    "#FIXME"
   ]
  },
  {
   "cell_type": "markdown",
   "metadata": {},
   "source": [
    "<details><summary {style='color:green;font-weight:bold'}> Click here to see solution to Exercise. </summary>\n",
    "\n",
    "```Python\n",
    "BSS.Align.viewMapping(methanol, ethane, inv_mapping)\n",
    "```\n",
    "\n",
    "</details>"
   ]
  },
  {
   "cell_type": "markdown",
   "metadata": {},
   "source": [
    "### 2.2 Creating a _merged_ molecule\n",
    "<a id=\"merged\"></a>\n",
    "\n",
    "In order to perform an alchemical simulation we need to create a _merged_ molecule that combines that properties of the two molecules. To do so we first need to align one molecule to the other, based on the mapping. This can be achieved using the `rsmdAlign` function.    \n",
    "As the mapping matches the atoms for ligand 0 (ethane) to ligand 1 (methanol), and we want to align ligand 1 to ligand 0 (so align the methanol to the ethane), we need to use the inverse mapping for this:"
   ]
  },
  {
   "cell_type": "code",
   "execution_count": null,
   "metadata": {},
   "outputs": [],
   "source": [
    "# Align methanol to ethane based on the inverse mapping.\n",
    "methanol_aligned = BSS.Align.rmsdAlign(methanol, ethane, inv_mapping)"
   ]
  },
  {
   "cell_type": "markdown",
   "metadata": {},
   "source": [
    "We can now _merge_ the two molecules. This will create a composite molecule containing all of the molecular properties at both end states. If the molecules are a different size, then the smaller will contain dummy atoms to represent the atoms that will _appear_ during the perturbation. In this case, the merged methanol end state will contain two dummy atoms corresponding to the extra hydrogen atoms in the ethane molecule."
   ]
  },
  {
   "cell_type": "code",
   "execution_count": null,
   "metadata": {},
   "outputs": [],
   "source": [
    "# Merge the ethane and methanol based on the mapping.\n",
    "merged = BSS.Align.merge(ethane, methanol_aligned, mapping)"
   ]
  },
  {
   "cell_type": "markdown",
   "metadata": {},
   "source": [
    "### 2.3 Solvation\n",
    "<a id=\"solv\"></a>\n",
    "\n",
    "Before we can run a free energy simulation we will have to solvate the system. In this case, rather than passing ethane and methanol separately we will solvate the whole merged system. Here we use a cubic box with a base length of 40 Angstroms."
   ]
  },
  {
   "cell_type": "code",
   "execution_count": null,
   "metadata": {},
   "outputs": [],
   "source": [
    "solvated = BSS.Solvent.tip3p(molecule=merged, box=3*[40*BSS.Units.Length.angstrom])"
   ]
  },
  {
   "cell_type": "markdown",
   "metadata": {},
   "source": [
    "You can see which solvation models are available in BSS by running `print(BSS.Solvent.waterModels())` .\n",
    "\n",
    "We may also want to visualise the solvated system. However, as our merged molecule is a perturbable molecule, must must first be converted to one of the endstates so that we can view it. This is handled automatically by `View`, but it is important to be aware that the molecule shown only represents our ligand at $\\lambda=0$.   \n",
    "\n",
    "As the water is obscuring our ligand, we can use the selection language `not water` to only show our ligand. This is entered next to the filter icon in our viewer."
   ]
  },
  {
   "cell_type": "code",
   "execution_count": null,
   "metadata": {},
   "outputs": [],
   "source": [
    "BSS.Notebook.View(solvated).system()"
   ]
  },
  {
   "cell_type": "markdown",
   "metadata": {},
   "source": [
    "### 2.4 Reading and writing perturbable systems\n",
    "<a id=\"readwrite\"></a>\n",
    "\n",
    "You might wish to save a perturbable system to file for use in a future simulation, or to share with a colleague. To do so you can use the `BioSimSpace.IO.savePerturbableSystem` function. This writes the topology and coordinate files for the two end states, which can be read back to reconstruct the system. For example:"
   ]
  },
  {
   "cell_type": "code",
   "execution_count": null,
   "metadata": {},
   "outputs": [],
   "source": [
    "BSS.IO.savePerturbableSystem(\"pert\", solvated)"
   ]
  },
  {
   "cell_type": "markdown",
   "metadata": {},
   "source": [
    "There should now be four new AMBER format files in your working directory:"
   ]
  },
  {
   "cell_type": "code",
   "execution_count": null,
   "metadata": {},
   "outputs": [],
   "source": [
    "! ls pert*"
   ]
  },
  {
   "cell_type": "markdown",
   "metadata": {},
   "source": [
    "Here `pert0.prm7` and `pert1.prm7` are the topology files for the two end states and `pert0.rst7` and `pert1.rst7` are the coordinates. To re-load the files we can use:"
   ]
  },
  {
   "cell_type": "code",
   "execution_count": null,
   "metadata": {},
   "outputs": [],
   "source": [
    "solvated = BSS.IO.readPerturbableSystem(\"pert0.prm7\", \"pert0.rst7\", \"pert1.prm7\", \"pert1.rst7\")"
   ]
  },
  {
   "cell_type": "markdown",
   "metadata": {},
   "source": [
    "## 3. Solvation free energy\n",
    "<a id=\"free\"></a>\n",
    "We now need to define a protocol to describe the parameters used for the free energy perturbation. A simple protocol consists of a 2 fs timestep, a runtime of 4 ns and using 9 equally spaced $\\lambda$ windows:"
   ]
  },
  {
   "cell_type": "code",
   "execution_count": null,
   "metadata": {},
   "outputs": [],
   "source": [
    "protocol = BSS.Protocol.FreeEnergy(timestep=2*BSS.Units.Time.femtosecond, runtime=4*BSS.Units.Time.nanosecond, num_lam=9)"
   ]
  },
  {
   "cell_type": "markdown",
   "metadata": {},
   "source": [
    "Next we want to create objects to configure and run the two legs associated with the relative free-energy perturbation calculation:"
   ]
  },
  {
   "cell_type": "code",
   "execution_count": null,
   "metadata": {},
   "outputs": [],
   "source": [
    "fep_free = BSS.FreeEnergy.Relative(solvated, protocol, work_dir=\"ethane_methanol_somd/free\")\n",
    "fep_vac  = BSS.FreeEnergy.Relative(merged.toSystem(), protocol, work_dir=\"ethane_methanol_somd/vacuum\")"
   ]
  },
  {
   "cell_type": "markdown",
   "metadata": {},
   "source": [
    "Decoupling the two legs means that we can use a different protocol for each, e.g. less lambda windows for the vacuum leg, or re-use data from a leg in an entirely different calculation, e.g. for a binding free-energy simulation, or to combine results for legs that were run with entirely simulation engines, e.g. SOMD or GROMACS.\n",
    "\n",
    "To run simulations for all of the individual lambda windows for the free leg, you can use:\n",
    "\n",
    "`fep_free.run()`   \n",
    "\n",
    "If you want to start the simulation, but wait for it to finish before the next part of code is executed (i.e. the analysis), you can use the following:\n",
    "\n",
    "`fep_free.wait()`   \n",
    "\n",
    "This only makes sense on a workstation with GPUs or GPU cloud resources or a GPU cluster. Otherwise you will have to wait for too long to run these simulations on the notebook server.\n",
    "\n",
    "Let's have a look the `ethane_methanol_somd/free` directory. In this directory you have now all the files setup and ready for simulation using SOMD as the simulation engine, which is the default."
   ]
  },
  {
   "cell_type": "code",
   "execution_count": null,
   "metadata": {},
   "outputs": [],
   "source": [
    "! ls ethane_methanol_somd/free"
   ]
  },
  {
   "cell_type": "markdown",
   "metadata": {},
   "source": [
    "### 3.1 Exercises\n",
    "<a id=\"exerc2\"></a>\n",
    "\n",
    "<div class=\"alert alert-success\"><b>3.1.1 Exercise on selecting lambda windows</b></div>\n",
    "\n",
    "Above we defined a protocol with 9 $\\lambda$ windows. For this system this isn't an optimal protocol and we would like to instead use 12 lambda window. Can you write down a protocol that would allow you to run 12 rather than 9 lambda windows?"
   ]
  },
  {
   "cell_type": "code",
   "execution_count": null,
   "metadata": {},
   "outputs": [],
   "source": [
    "protocol = BSS.Protocol.FreeEnergy(#FIXME)\n"
   ]
  },
  {
   "cell_type": "markdown",
   "metadata": {},
   "source": [
    "<details><summary {style='color:green;font-weight:bold'}> Click here to see solution to Exercise. </summary>\n",
    "\n",
    "```Python\n",
    "protocol = BSS.Protocol.FreeEnergy(timestep=2*BSS.Units.Time.femtosecond, runtime=4*BSS.Units.Time.nanosecond, num_lam=12)\n",
    "```\n",
    "\n",
    "</details>"
   ]
  },
  {
   "cell_type": "markdown",
   "metadata": {},
   "source": [
    "<div class=\"alert alert-warning\"><b>3.1.2 Exercise on merged molecules (Extra)</b></div>\n",
    "\n",
    "Previously, we have set up an ethane to methanol alchemical free energy simulation. One way of assessing how good an estimate of a free energy difference from an alchemical simulation is by running the simulation in the opposite direction, i.e. methanol to ethane. Can you set up a new merged molecule and run the necessary steps for the free energy setup?"
   ]
  },
  {
   "cell_type": "code",
   "execution_count": null,
   "metadata": {},
   "outputs": [],
   "source": [
    "# map methanol to ethane\n",
    "mapping = #FIXME\n",
    "# get the inverse mapping\n",
    "inv_mapping = #FIXME\n",
    "\n",
    "# Align ethane to methanol based on the inverse mapping.\n",
    "ethane_aligned = #FIXME\n",
    "\n",
    "# Merge the two molecules based on the mapping.\n",
    "merged_methanol = #FIXME\n",
    "# solvate\n",
    "solvated_methanol = #FIXME\n",
    "# create the directories\n",
    "fep_methanol_free = #FIXME\n",
    "fep_methanol_vac = #FIXME"
   ]
  },
  {
   "cell_type": "markdown",
   "metadata": {},
   "source": [
    "<details><summary {style='color:green;font-weight:bold'}> Click here to see solution to Exercise. </summary>\n",
    "\n",
    "```python\n",
    "# map methanol to ethane\n",
    "mapping = BSS.Align.matchAtoms(methanol, ethane)\n",
    "# get the inverse mapping\n",
    "inv_mapping = {v: k for k, v in mapping.items()}\n",
    "\n",
    "# Align ethane to methanol based on the inverse mapping.\n",
    "ethane_aligned = BSS.Align.rmsdAlign(ethane, methanol, inv_mapping)\n",
    "\n",
    "# Merge the two molecules based on the mapping.\n",
    "merged_methanol = BSS.Align.merge(methanol, ethane_aligned, mapping)\n",
    "# solvate\n",
    "solvated_methanol = BSS.Solvent.tip3p(molecule=merged_methanol, box=3*[40*BSS.Units.Length.angstrom])\n",
    "# create the directories\n",
    "fep_methanol_free = BSS.FreeEnergy.Relative(solvated_methanol, protocol, work_dir=\"methanol_ethane_somd/free\")\n",
    "fep_methanol_vac = BSS.FreeEnergy.Relative(merged_methanol.toSystem(), protocol, work_dir=\"methanol_ethane_somd/vacuum\")\n",
    "```\n",
    "\n",
    "</details>"
   ]
  },
  {
   "cell_type": "markdown",
   "metadata": {},
   "source": [
    "<div class=\"alert alert-success\">\n",
    "<b> 3.1.3 Exercise on using different simulation engines</b></div>\n",
    "\n",
    "Currently, alchemical free energy simulations with SOMD and Gromacs are supported. Can you figure out how to setup and run the simulations for the free leg using GROMACS rather than the default of SOMD?\n",
    "\n",
    "**Hint**: look at the `engine` parameter of `FreeEnergy.Relative()`. Remember, this can be achieved by using <kbd>&#x21E7; Shift</kbd>, and <kbd>&#x21E5; Tab</kbd>; whilst holding the cursor in the brackets of the function. It is also a good idea to have the name of the working directory reflect which engine is being used, as has been done in previous exercises for SOMD."
   ]
  },
  {
   "cell_type": "code",
   "execution_count": null,
   "metadata": {},
   "outputs": [],
   "source": [
    "fep_gromacs_free = BSS.FreeEnergy.Relative(#FIXME)\n",
    "fep_gromacs_vac = (#FIXME)"
   ]
  },
  {
   "cell_type": "markdown",
   "metadata": {},
   "source": [
    "<details><summary {style='color:green;font-weight:bold'}> Click here to see solution to Exercise. </summary>\n",
    "\n",
    "```python\n",
    "fep_gromacs_free = BSS.FreeEnergy.Relative(solvated, protocol, work_dir=\"ethane_methanol_gromacs/free\", engine=\"gromacs\")\n",
    "fep_gromacs_vac  = BSS.FreeEnergy.Relative(merged.toSystem(), protocol, work_dir=\"ethane_methanol_gromacs/vacuum\", engine=\"gromacs\")\n",
    "```\n",
    "\n",
    "</details>"
   ]
  },
  {
   "cell_type": "markdown",
   "metadata": {},
   "source": [
    "You will notice that again in your `work_dir`, two directories were created `free` and `vacuum`. Have a look at the content of these directories. You will notice that the input files that were generated are now indeed for GROMACS and not SOMD. Take a moment to look at the config files etc, e.g.:"
   ]
  },
  {
   "cell_type": "code",
   "execution_count": null,
   "metadata": {
    "scrolled": false
   },
   "outputs": [],
   "source": [
    "! ls methanol_ethane_gromacs/free/lambda_0.0000\n",
    "! ls methanol_ethane_somd/free/lambda_0.0000"
   ]
  },
  {
   "cell_type": "markdown",
   "metadata": {},
   "source": [
    "## 4. Free energy of binding\n",
    "<a id=\"bind\"></a>\n",
    "\n",
    "So far we have done a setup for free energies of hydration. Next we'll learn how to use BioSimSpace to set up alchemical free energy simulations that can be used to compute free energies of binding. The thermodynamic cycle for the free energy of binding looks like this:\n",
    "\n",
    "![reltherm](images/thermo_cycle_rel_eq.png)\n",
    "\n",
    "In our case the host is Lysozyme, an antimicrobial protein, which has been studied extensivley using alchemical free energy calculations in the past.  "
   ]
  },
  {
   "cell_type": "markdown",
   "metadata": {},
   "source": [
    "### 4.1 Loading the protein and ligands\n",
    "<a id=\"prot\"></a>\n",
    "Loading the protein is done in the same way as loading the small molecules. However, in order to compute free energies of binding, we have to make sure that the ligand is aligned with the protein and in an appropriate binding site. BioSimSpace is not a docking program. Therefore ligands will have to be aligned for alchemical free energy calculations in a different way. First, we will load the protein and ligands to check if they are aligned correctly for the calculation. "
   ]
  },
  {
   "cell_type": "code",
   "execution_count": null,
   "metadata": {},
   "outputs": [],
   "source": [
    "# Load the protein and two ligands.\n",
    "lysozyme = BSS.IO.readMolecules(\"input/protein.pdb\")[0]\n",
    "benzene = BSS.IO.readMolecules(\"input/benzene.mol2\")[0]\n",
    "o_xylene = BSS.IO.readMolecules(\"input/o-xylene.mol2\")[0]"
   ]
  },
  {
   "cell_type": "code",
   "execution_count": null,
   "metadata": {},
   "outputs": [],
   "source": [
    "# Combine the molecules into a single container.\n",
    "molecules = lysozyme + benzene + o_xylene"
   ]
  },
  {
   "cell_type": "markdown",
   "metadata": {},
   "source": [
    "Again, it is useful to view our system."
   ]
  },
  {
   "cell_type": "code",
   "execution_count": null,
   "metadata": {},
   "outputs": [],
   "source": [
    "# Create a view to visualise the molecules.\n",
    "view = BSS.Notebook.View(molecules)\n",
    "# View the entire system.\n",
    "view.system()"
   ]
  },
  {
   "cell_type": "markdown",
   "metadata": {},
   "source": [
    "### 4.2 Parametrisation\n",
    "<a id=\"paramp\"></a>\n",
    "\n",
    "For the protein, we can use a standard Amber forcefield such as `Amber 14 SB`:"
   ]
  },
  {
   "cell_type": "code",
   "execution_count": null,
   "metadata": {},
   "outputs": [],
   "source": [
    "lysozyme = BSS.Parameters.ff14SB(lysozyme).getMolecule()"
   ]
  },
  {
   "cell_type": "markdown",
   "metadata": {},
   "source": [
    "For the two ligands we can chose to parametrise them using `gaff2`. "
   ]
  },
  {
   "cell_type": "code",
   "execution_count": null,
   "metadata": {},
   "outputs": [],
   "source": [
    "o_xylene = BSS.Parameters.gaff2(o_xylene).getMolecule()\n",
    "benzene = BSS.Parameters.gaff2(benzene).getMolecule()"
   ]
  },
  {
   "cell_type": "markdown",
   "metadata": {},
   "source": [
    "### 4.3 Morphing again\n",
    "<a id=\"morphp\"></a>\n",
    "\n",
    "<div class=\"alert alert-success\">\n",
    "<b>Exercise:</b><div>  \n",
    "Now all we have to do is go back through the morphing process and then combine the system. This is the same process as for the hydration energies. Have a go doing this below."
   ]
  },
  {
   "cell_type": "code",
   "execution_count": null,
   "metadata": {},
   "outputs": [],
   "source": [
    "# create the mapping and the inverse mapping\n",
    "mapping = #FIXME\n",
    "inv_mapping = #FIXME\n",
    "\n",
    "# Align benzene to o_xylene based on the inverse mapping.\n",
    "benzene_aligned =#FIXME\n",
    "\n",
    "# Merge the two ligands based on the mapping.\n",
    "merged = #FIXME\n"
   ]
  },
  {
   "cell_type": "markdown",
   "metadata": {},
   "source": [
    "<details><summary {style='color:green;font-weight:bold'}> Click here to see solution to Exercise. </summary>\n",
    "\n",
    "```python\n",
    "# create the mapping and the inverse mapping\n",
    "mapping = BSS.Align.matchAtoms(o_xylene, benzene)\n",
    "inv_mapping = {v: k for k, v in mapping.items()}\n",
    "\n",
    "# Align benzene to o_xylene based on the inverse mapping.\n",
    "benzene_aligned = BSS.Align.rmsdAlign(benzene, o_xylene, inv_mapping)\n",
    "\n",
    "# Merge the two ligands based on the mapping.\n",
    "merged = BSS.Align.merge(o_xylene, benzene_aligned, mapping)\n",
    "\n",
    "```\n",
    "</details>"
   ]
  },
  {
   "cell_type": "markdown",
   "metadata": {},
   "source": [
    "Next we need to create a composite system containing the merged molecule and the protein:"
   ]
  },
  {
   "cell_type": "code",
   "execution_count": null,
   "metadata": {},
   "outputs": [],
   "source": [
    "complx = merged + lysozyme"
   ]
  },
  {
   "cell_type": "markdown",
   "metadata": {},
   "source": [
    "### 4.4 Binding free energy simulation\n",
    "<a id=\"runbind\"></a>\n",
    "Now we can solvate and set up the binding free energy simulation. It looks very similar to the solvation one."
   ]
  },
  {
   "cell_type": "code",
   "execution_count": null,
   "metadata": {},
   "outputs": [],
   "source": [
    "# Solvate the protein ligand complex in a 60 angstrom box of TIP3P water.\n",
    "complex_sol = BSS.Solvent.tip3p(molecule=complx, box=3*[60*BSS.Units.Length.angstrom])\n",
    "\n",
    "# Solvate the merged ligand in a 60 angstrom box of TIP3P water.\n",
    "merged_sol = BSS.Solvent.tip3p(molecule=merged, box=3*[60*BSS.Units.Length.angstrom])\n",
    "\n",
    "# Create the free energy protocol.\n",
    "protocol = BSS.Protocol.FreeEnergy(runtime=4*BSS.Units.Time.nanosecond, num_lam=9)\n",
    "\n",
    "# Initialise relative free energy objects for each leg.\n",
    "# (Once again, this defaults to the SOMD engine.)\n",
    "fep_bound = BSS.FreeEnergy.Relative(complex_sol, protocol, work_dir=\"o_xylene_benzene/bound\")\n",
    "fep_free  = BSS.FreeEnergy.Relative(merged_sol, protocol, work_dir=\"o_xylene_benzene/free\")"
   ]
  },
  {
   "cell_type": "markdown",
   "metadata": {},
   "source": [
    "We can see what ouptput files we have written:"
   ]
  },
  {
   "cell_type": "code",
   "execution_count": null,
   "metadata": {},
   "outputs": [],
   "source": [
    "! ls o_xylene_benzene/bound\n",
    "! ls o_xylene_benzene/free\n",
    "\n",
    "! ls o_xylene_benzene/bound/lambda_0.0000\n",
    "! ls o_xylene_benzene/free/lambda_0.0000"
   ]
  },
  {
   "cell_type": "markdown",
   "metadata": {},
   "source": [
    "`fep_bound.run()`\n",
    "Would run the simulation for the _bound_ leg."
   ]
  },
  {
   "cell_type": "markdown",
   "metadata": {},
   "source": [
    "### 4.5 Exercises\n",
    "<a id=\"exerc3\"></a>\n",
    "Exercises for binding free energies. \n",
    "\n",
    "<div class=\"alert alert-success\">\n",
    "<b>Exercise 4.5.1 Box sizes of the solvated leg</b></div>        \n",
    "\n",
    "One thing you can notice is that the box size of the bound and free leg are the same. This of course is a bit silly, because you don't need to use such a large box for just running the ligand in water. Since the two legs are decoupled, we can just solvate the ligand in a smaller box for the free leg."
   ]
  },
  {
   "cell_type": "code",
   "execution_count": null,
   "metadata": {},
   "outputs": [],
   "source": [
    "# Solvate the ligand in a smaller 30 angstrom box of TIP3P water.\n",
    "merged_sol_smaller = #FIXME\n",
    "\n",
    "# Recreate the object using the smaller system.\n",
    "fep_free = BSS.FreeEnergy.Relative(merged_sol_smaller, protocol, work_dir=\"o_xylene_benzene/free\")"
   ]
  },
  {
   "cell_type": "markdown",
   "metadata": {},
   "source": [
    "<details><summary {style='color:green;font-weight:bold'}> Click here to see solution to Exercise. </summary>\n",
    "\n",
    "```python\n",
    "# Solvate the ligand in a smaller 30 angstrom box of TIP3P water.\n",
    "# Try using a work_dir called \"exercise_4\" and a box size for the free leg of the simulations of 30 Angstrom. \n",
    "merged_sol_smaller = BSS.Solvent.tip3p(molecule=merged, work_dir=\"exercise_4\", box=3*[30*BSS.Units.Length.angstrom])\n",
    "\n",
    "# Recreate the object using the smaller system.\n",
    "fep_free = BSS.FreeEnergy.Relative(merged_sol_smaller, protocol, work_dir=\"o_xylene_benzene/free\")\n",
    "\n",
    "```\n",
    "</details>"
   ]
  },
  {
   "cell_type": "markdown",
   "metadata": {},
   "source": [
    "<div class=\"alert alert-success\">\n",
    "<b>Exercise 4.5.2 Running a minimisation and equilibration before the production</b></div>\n",
    "\n",
    "It is good practice to minimise and equilibrate the molecular system _before_ setting up the free energy simulations. Thankfully BiomSpace can handle systems containing perturbable molecules for simulation protocols other than `BioSimSpace.Protocol.FreeEnergy`. For example, this means that you can create a process to minimise a specified end state (lambda = 0 by default) of a perturbable system. In the box below, write some code to run a minmisation and equilibration on the system (`complex_sol`).\n",
    "\n",
    "**Hint**: use the [documentation](https://biosimspace.org/).\n",
    "\n",
    "In this case here, **we do not want to run the minimisation and equilibration on the cloud server** as this would take too long. Instead, this output has already been generated so we can have a look at it afterwards."
   ]
  },
  {
   "cell_type": "code",
   "execution_count": null,
   "metadata": {},
   "outputs": [],
   "source": [
    "# DO NOT RUN THIS CELL!\n",
    "\n",
    "minimised = #FIXME\n",
    "equilibrated = #FIXME\n",
    "\n",
    "# Create the free energy protocol.\n",
    "protocol = BSS.Protocol.FreeEnergy(runtime=4*BSS.Units.Time.nanosecond, num_lam=9)\n",
    "\n",
    "# Initialise relative free energy objects for each leg.\n",
    "fep_bound = BSS.FreeEnergy.Relative(equilibrated, protocol, work_dir=\"exercise_4_5/bound\")"
   ]
  },
  {
   "cell_type": "markdown",
   "metadata": {},
   "source": [
    "<details><summary {style='color:green;font-weight:bold'}> Click here to see solution to Exercise. </summary>\n",
    "\n",
    "```python\n",
    "# Minimise the system.\n",
    "minimised = BSS.Process.Gromacs(complex_sol, BSS.Protocol.Minimisation()).start().getSystem(block=True)\n",
    "# when returning the system use `getSystem(block=True)` so that we\n",
    "# wait for the minimisation and equilibration simulations to finish before returning the system.\n",
    "# only once the minimisation is finished will we then hypothetically run the next part of our code:\n",
    "\n",
    "# Equilibrate the system.\n",
    "equilibrated = BSS.Process.Gromacs(minimised, BSS.Protocol.Equilibration()).start().getSystem(block=True)\n",
    "\n",
    "# Create the free energy protocol.\n",
    "protocol = BSS.Protocol.FreeEnergy(runtime=4*BSS.Units.Time.nanosecond, num_lam=9)\n",
    "\n",
    "# Initialise relative free energy objects for each leg.\n",
    "fep_bound = BSS.FreeEnergy.Relative(equilibrated, protocol, work_dir=\"exercise_4_5/bound\")\n",
    "\n",
    "```\n",
    "</details>"
   ]
  },
  {
   "cell_type": "markdown",
   "metadata": {},
   "source": [
    "Looking at the sample output in the folder:"
   ]
  },
  {
   "cell_type": "code",
   "execution_count": null,
   "metadata": {},
   "outputs": [],
   "source": [
    "! ls exercise_4_5/bound\n",
    "! ls exercise_4_5/bound/lambda_0.0000"
   ]
  },
  {
   "cell_type": "markdown",
   "metadata": {},
   "source": [
    "<div class=\"alert alert-info\">\n",
    "<b>Note: </b> If you have time to run the minimisation and equilibration in the future, have a go visualising these systems afterwards.  </div> \n",
    "\n",
    "Look at how the position of the ligand / water molecules will have slightly changed. You may have to use the selection language like before to allow you to see the part of the system you want to visualise.\n",
    "\n",
    "In the menu, different representations can be added (e.g. ball+stick), and the filter icon allows selection of parts of the system for viewing using keywords (e.g. 'acidic' to select acidic sidechains), just as we did before for 'not water'. [This page](https://nglviewer.org/ngl/api/manual/usage/selection-language.html) on the NGLViewer selection language may be helpful. If you have some time, have a go at some of the different options!"
   ]
  },
  {
   "cell_type": "code",
   "execution_count": null,
   "metadata": {},
   "outputs": [],
   "source": [
    "BSS.Notebook.View(minimised).system()\n",
    "\n",
    "# BSS.Notebook.View(equilibrated).system()"
   ]
  },
  {
   "cell_type": "markdown",
   "metadata": {},
   "source": [
    "### 4.6 Running the production run\n",
    "\n",
    "As mentioned earlier, these free energy simulations can in general be run using:\n",
    "\n",
    "`process.run()` and `process.wait()` .\n",
    "\n",
    "This is not ideal for production runs however, as it runs the lambda windows sequentially. It is best to run this via a bash script using some kind of job schedueler, such as Slurm. An example script for this is in the 'o_xylene_benzene_for_analysis' folder. This is also discussed in more detail in the RBFE tutorial.\n",
    "\n",
    "It is important to note as well, that for engines other than SOMD (such as GROMACS), additional equilibration protocols are usually required at each lambda window as well (not just at lambda 0.0 before setting up the Free Energy). This is to ensure that simulations do not experience errors. This setup is currently not supported in the main/devel branch of BSS, but is under development."
   ]
  },
  {
   "cell_type": "markdown",
   "metadata": {},
   "source": [
    "## 5. Analysis\n",
    "<a id=\"ana\"></a>\n",
    "\n",
    "A run with SOMD for o-xylene to benzene has already been carried out. The results are in the 'o_xylene_benzene_for_analysis' folder, however the trajectories have been removed as they are quite large. In this section, we will look at how we can analyse this run.\n",
    "\n",
    "Further reading: [Sections 8.1, 8.2, 8.3, (Data Analysis), LiveComs Best Practices for Alchemical Free Energy Calculations](https://livecomsjournal.org/index.php/livecoms/article/view/v2i1e18378).\n"
   ]
  },
  {
   "cell_type": "markdown",
   "metadata": {},
   "source": [
    "### 5.1 Calculating the RBFE between a pair of ligands\n",
    "<a id=\"mbar\"></a>\n",
    "\n",
    "We will first calculate the RBFE. This is achieved relatively simply in BSS by using 'analyse'. This implements the auto equilibrium detection from the alchemlyb python implementation in order to obtain uncorrelated samples. Following this, MBAR is used as the default estimator. When using the alchemlyb library as the method, this should take about **one minute to run**.\n",
    "\n",
    "Once we have obtained the energy for each leg, we can then calculate the difference to obtain the RBFE. The error in this case is the propagated MBAR statistical uncertainty.\n"
   ]
  },
  {
   "cell_type": "code",
   "execution_count": null,
   "metadata": {},
   "outputs": [],
   "source": [
    "pmf_free, overlap_matrix_free = BSS.FreeEnergy.Relative.analyse(f'o_xylene_benzene_for_analysis/free')\n",
    "pmf_bound, overlap_matrix_bound = BSS.FreeEnergy.Relative.analyse(f'o_xylene_benzene_for_analysis/bound')\n",
    "freenrg_rel = BSS.FreeEnergy.Relative.difference(pmf_bound, pmf_free)\n",
    "\n",
    "print(f\"pmf_free is: {pmf_free[-1][1]} and the MBAR statistical uncertainty is {pmf_free[-1][2]} .\")\n",
    "print(f\"pmf_bound is: {pmf_bound[-1][1]} and the MBAR statistical uncertainty is {pmf_bound[-1][2]} .\")\n",
    "print(f\"The RBFE is {freenrg_rel[0]} and the error is {freenrg_rel[1]}\")"
   ]
  },
  {
   "cell_type": "markdown",
   "metadata": {},
   "source": [
    "In the above `freenrg_rel` the first value in the tuple is the ΔΔG, and the second value is the error which is obtained from the MBAR error."
   ]
  },
  {
   "cell_type": "markdown",
   "metadata": {},
   "source": [
    "### 5.2 Checking the overlap\n",
    "<a id=\"over\"></a>\n",
    "\n",
    "For MBAR, we can assess the reliability of the calculations by checking the phase space overlap between lambda windows. It is recommended that the matrix is at least tridiagonal and that the off-diagonals should be atleast 0.03, so that the obtained free energy estimate is reliable.\n",
    "An example of an overlap matrix is shown below. The off-diagonals are circled in orange to highlight where these are.\n",
    "\n",
    "![overlap](images/overlap_MBAR_example_circles.png)\n",
    "\n",
    "Another overlap matrix, where an off-diagonal is less than 0.03 and circled in orange, is shown below. Note that this matrix is also not tridiagonal. When this is the case, the results of the run should be carefully assessed, as the variance can be underestimated when there is poor overlap. It may be worth running these simulations again with more lambda windows to achieve better overlap.\n",
    "\n",
    "![overlap_less](images/overlap_MBAR_example_less_circles.png)\n",
    "\n",
    "More details can be found in the further reading: [Section 8.5 (overlap matrix), LiveComs Best Practices for Alchemical Free Energy Calculations](https://livecomsjournal.org/index.php/livecoms/article/view/v2i1e18378/963).\n",
    "\n",
    "For the example run in [5.1](#mbar), we can plot the overlap for a chosen leg of a perturbation to visualise the matrix. This plotting can be carried out by using the overlap matrix variable obtained from analysing our free and bound leg earlier.\n",
    "We can then use `BSS.FreeEnergy.Relative.plot` to visualise this. If we define a work directory, the image of the plot will be saved there.    \n"
   ]
  },
  {
   "cell_type": "code",
   "execution_count": null,
   "metadata": {},
   "outputs": [],
   "source": [
    "fig = BSS.FreeEnergy.Relative.plot(overlap_matrix_free, work_dir = \"o_xylene_benzene_for_analysis/free\")"
   ]
  },
  {
   "cell_type": "markdown",
   "metadata": {},
   "source": [
    "<div class=\"alert alert-success\">\n",
    "<b>Exercise 5.2.1 Plotting overlap matrices</b></div>        \n",
    "\n",
    "Plot the bound overlap matrix in the cell below.\n",
    "Are there any off-diagonals in the free or bound overlap matrix that are less than 0.03?"
   ]
  },
  {
   "cell_type": "code",
   "execution_count": null,
   "metadata": {},
   "outputs": [],
   "source": [
    "fig2 = #FIXME"
   ]
  },
  {
   "cell_type": "markdown",
   "metadata": {},
   "source": [
    "<details><summary {style='color:green;font-weight:bold'}> Click here to see solution to Exercise. </summary>\n",
    "\n",
    "```python\n",
    "fig2 = BSS.FreeEnergy.Relative.plot(overlap_matrix_bound)\n",
    "\n",
    "```\n",
    "\n",
    "The overlap matrix for bound has an off-diagonal that is less than 0.03 .\n",
    "\n",
    "</details>"
   ]
  },
  {
   "cell_type": "markdown",
   "metadata": {},
   "source": [
    "### 5.3. Extra Exercises \n",
    "<a id=\"exerc5\"></a>\n",
    "\n",
    "<div class=\"alert alert-warning\"><b>5.3.1 Analysis methods - 'alchemlyb' vs 'native' (Extra) </b></div> \n",
    "\n",
    "There are two methods for analysing the runs - either `alchemlyb` or `native`. Alchemlyb is still being newly implemented in BSS and tested to provide more consistent analysis across engines. Additionally, as the Alchemlyb library itself is also under continuous development, it may give slightly different results than the previously implemented engine specific methods. In the case for SOMD, this used `analyse_freenrg`, and for GROMACS this used `gmx bar`. It is still possible to use these within the BSS API by setting the `method` to 'native'.\n",
    "\n",
    "Try running the analysis with the 'native' method in the cell below."
   ]
  },
  {
   "cell_type": "code",
   "execution_count": null,
   "metadata": {},
   "outputs": [],
   "source": [
    "pmf_free, dhdl_free = #FIXME\n",
    "pmf_bound, dhdl_bound = #FIXME\n",
    "freenrg_rel = BSS.FreeEnergy.Relative.difference(pmf_bound, pmf_free)\n",
    "print(f\"pmf_free is: {pmf_free[-1][1]} and the error is {pmf_free[-1][2]} .\")\n",
    "print(f\"pmf_bound is: {pmf_bound[-1][1]} and the error is {pmf_bound[-1][2]} .\")\n",
    "print(f\"The RBFE is {freenrg_rel[0]} and the error is {freenrg_rel[1]}\")\n",
    "\n",
    "#FIXME"
   ]
  },
  {
   "cell_type": "markdown",
   "metadata": {},
   "source": [
    "<details><summary {style='color:green;font-weight:bold'}> Click here to see solution to Exercise. </summary>\n",
    "\n",
    "```python\n",
    "pmf_free, overlap_matrix_free = BSS.FreeEnergy.Relative.analyse(f'o_xylene_benzene_for_analysis/free', method=\"native\")\n",
    "pmf_bound, overlap_matrix_bound = BSS.FreeEnergy.Relative.analyse(f'o_xylene_benzene_for_analysis/bound', method=\"native\")\n",
    "freenrg_rel = BSS.FreeEnergy.Relative.difference(pmf_bound, pmf_free)\n",
    "\n",
    "print(f\"pmf_free is: {pmf_free[-1][1]} and the MBAR statistical uncertainty is {pmf_free[-1][2]} .\")\n",
    "print(f\"pmf_bound is: {pmf_bound[-1][1]} and the MBAR statistical uncertainty is {pmf_bound[-1][2]} .\")\n",
    "print(f\"The RBFE is {freenrg_rel[0]} and the error is {freenrg_rel[1]}\")\n",
    "\n",
    "```\n",
    "</details>"
   ]
  },
  {
   "cell_type": "markdown",
   "metadata": {},
   "source": [
    "<div class=\"alert alert-warning\"> <b>5.3.2 TI (Extra)</b></div> \n",
    "\n",
    "Instead of using MBAR, try using TI (Thermodynamic Integration) to anaylse the results. This only works with the `alchemlyb` library.   \n",
    "Hint: This can be done by setting the estimator to TI when analysing.   \n",
    "\n",
    "Are the results different?"
   ]
  },
  {
   "cell_type": "code",
   "execution_count": null,
   "metadata": {},
   "outputs": [],
   "source": [
    "pmf_free, dhdl_free = #FIXME\n",
    "pmf_bound, dhdl_bound = #FIXME\n",
    "freenrg_rel = BSS.FreeEnergy.Relative.difference(pmf_bound, pmf_free)\n",
    "print(f\"pmf_free is: {pmf_free[-1][1]} and the error is {pmf_free[-1][2]} .\")\n",
    "print(f\"pmf_bound is: {pmf_bound[-1][1]} and the error is {pmf_bound[-1][2]} .\")\n",
    "print(f\"The RBFE is {freenrg_rel[0]} and the error is {freenrg_rel[1]}\")\n",
    "\n",
    "#FIXME"
   ]
  },
  {
   "cell_type": "markdown",
   "metadata": {},
   "source": [
    "<details><summary {style='color:green;font-weight:bold'}> Click here to see solution to Exercise. </summary>\n",
    "\n",
    "```python\n",
    "pmf_free, dhdl_free = BSS.FreeEnergy.Relative.analyse(f'o_xylene_benzene_for_analysis/free', estimator=\"TI\")\n",
    "pmf_bound, dhdl_bound = BSS.FreeEnergy.Relative.analyse(f'o_xylene_benzene_for_analysis/bound', estimator=\"TI\")\n",
    "freenrg_rel = BSS.FreeEnergy.Relative.difference(pmf_bound, pmf_free)\n",
    "print(f\"pmf_free is: {pmf_free[-1][1]} and the error is {pmf_free[-1][2]} .\")\n",
    "print(f\"pmf_bound is: {pmf_bound[-1][1]} and the error is {pmf_bound[-1][2]} .\")\n",
    "print(f\"The RBFE is {freenrg_rel[0]} and the error is {freenrg_rel[1]}\")\n",
    "\n",
    "fig = BSS.FreeEnergy.Relative.plot(dhdl_bound)\n",
    "fig2 = BSS.FreeEnergy.Relative.plot(dhdl_free)\n",
    "```\n",
    "</details>"
   ]
  },
  {
   "cell_type": "markdown",
   "metadata": {},
   "source": [
    "In the plots, you should be able to see that there is a rapid gradient decrease in the first lambda window, which corresponds to the poorer overlap we also see in the overlap matrix. A way to circumvent this could be to run more lambda windows."
   ]
  },
  {
   "cell_type": "markdown",
   "metadata": {},
   "source": [
    "<div class=\"alert alert-warning\"><b>5.3.2 Comparing to experimental binding affinities (Extra) </b></div> \n",
    "\n",
    "If experimental binding affinities are available for the ligands considered, it is a good idea to compare the calculated values to these to further assess them. These can often be in the form of a binding constant and need to be converted. See if you can calculate the experimental binding affinity for [o-xylene and benzene](https://doi.org/10.1021/bi00027a006)."
   ]
  },
  {
   "cell_type": "markdown",
   "metadata": {},
   "source": [
    "<details><summary {style='color:green;font-weight:bold'}> Click here to see solution to Exercise. </summary>\n",
    "\n",
    "The experimental binding affinity for o-xylene, found in table 1 of the reference, is -4.6 ± 0.06 kcal/mol.    \n",
    "The experimental binding affinity for benzene, found in table 2 of the reference, is -5.19 ± 0.16 kcal/mol.     \n",
    "The RBFE of these is then around -0.59 ± 0.22 kcal/mol.     \n",
    "    \n",
    "</details>"
   ]
  },
  {
   "cell_type": "markdown",
   "metadata": {},
   "source": [
    "Sample outputs for all of the exercises in this workshop are in the 'example_output' folder.      "
   ]
  },
  {
   "cell_type": "markdown",
   "metadata": {},
   "source": [
    "## 6. Congratulations\n",
    "You have made it to the end and should now be able to setup, run, and analyse a relative alchemical free energy calculation in BioSimSpace.\n",
    "\n",
    "<div class=\"alert alert-info\"><b>Note:</b> Checkout the next tutorial</div>\n",
    "\n",
    "This will cover how to setup and run an entire network of alchemical perturbations for a relative free energy simulation in `02_RBFE`. You can get started with the setup notebook by following this link:\n",
    "[01_setup_rbfe.ipynb](../02_RBFE/01_setup_rbfe.ipynb)\n"
   ]
  }
 ],
 "metadata": {
  "kernelspec": {
   "display_name": "Python 3.9.13 ('working': conda)",
   "language": "python",
   "name": "python3"
  },
  "language_info": {
   "codemirror_mode": {
    "name": "ipython",
    "version": 3
   },
   "file_extension": ".py",
   "mimetype": "text/x-python",
   "name": "python",
   "nbconvert_exporter": "python",
   "pygments_lexer": "ipython3",
   "version": "3.9.13"
  },
  "varInspector": {
   "cols": {
    "lenName": 16,
    "lenType": 16,
    "lenVar": 40
   },
   "kernels_config": {
    "python": {
     "delete_cmd_postfix": "",
     "delete_cmd_prefix": "del ",
     "library": "var_list.py",
     "varRefreshCmd": "print(var_dic_list())"
    },
    "r": {
     "delete_cmd_postfix": ") ",
     "delete_cmd_prefix": "rm(",
     "library": "var_list.r",
     "varRefreshCmd": "cat(var_dic_list()) "
    }
   },
   "types_to_exclude": [
    "module",
    "function",
    "builtin_function_or_method",
    "instance",
    "_Feature"
   ],
   "window_display": false
  },
  "vscode": {
   "interpreter": {
    "hash": "53a7075aa6ba074ad24f268d28330e8ae9ce5d32ba0a76f329c5ee8540da26d4"
   }
  }
 },
 "nbformat": 4,
 "nbformat_minor": 2
}
